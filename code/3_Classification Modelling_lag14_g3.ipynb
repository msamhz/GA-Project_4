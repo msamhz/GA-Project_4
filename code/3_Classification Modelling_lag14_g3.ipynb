{
 "cells": [
  {
   "cell_type": "markdown",
   "metadata": {},
   "source": [
    "# Contents"
   ]
  },
  {
   "cell_type": "code",
   "execution_count": 1,
   "metadata": {},
   "outputs": [
    {
     "name": "stdout",
     "output_type": "stream",
     "text": [
      "Tensor Flow Version: 2.1.0\n",
      "Keras Version: 2.2.4-tf\n",
      "\n",
      "Python 3.7.13 (default, Mar 28 2022, 08:03:21) [MSC v.1916 64 bit (AMD64)]\n",
      "Pandas 1.3.4\n",
      "Scikit-Learn 1.0.2\n",
      "GPU is available\n"
     ]
    }
   ],
   "source": [
    "# What version of Python do you have?\n",
    "import sys\n",
    "\n",
    "import tensorflow.keras\n",
    "import pandas as pd\n",
    "import sklearn as sk\n",
    "import tensorflow as tf\n",
    "\n",
    "print(f\"Tensor Flow Version: {tf.__version__}\")\n",
    "print(f\"Keras Version: {tensorflow.keras.__version__}\")\n",
    "print()\n",
    "print(f\"Python {sys.version}\")\n",
    "print(f\"Pandas {pd.__version__}\")\n",
    "print(f\"Scikit-Learn {sk.__version__}\")\n",
    "gpu = len(tf.config.list_physical_devices('GPU'))>0\n",
    "print(\"GPU is\", \"available\" if gpu else \"NOT AVAILABLE\")"
   ]
  },
  {
   "cell_type": "code",
   "execution_count": 2,
   "metadata": {},
   "outputs": [],
   "source": [
    "import pandas as pd\n",
    "import numpy as np\n",
    "import seaborn as sns\n",
    "import matplotlib.pyplot as plt\n",
    "from datetime import datetime\n",
    "\n",
    "\n",
    "from sklearn import metrics\n",
    "from sklearn.metrics import confusion_matrix, plot_confusion_matrix, accuracy_score, \\\n",
    "    plot_roc_curve, roc_auc_score, recall_score, precision_score, f1_score, mean_squared_error\n",
    "\n",
    "\n",
    "from sklearn.linear_model import (\n",
    "    Ridge,RidgeCV,\n",
    "    Lasso,LassoCV,\n",
    "    ElasticNet, ElasticNetCV,\n",
    "    LinearRegression\n",
    ")\n",
    "\n",
    "from sklearn.model_selection import(\n",
    "    cross_val_score,\n",
    "    train_test_split\n",
    ")\n",
    "\n",
    "from sklearn.preprocessing import (\n",
    "    StandardScaler,\n",
    ")\n",
    "\n",
    "from imblearn.over_sampling import SMOTE\n",
    "from imblearn.pipeline import Pipeline, make_pipeline\n",
    "\n",
    "from sklearn.preprocessing import StandardScaler\n",
    "from sklearn.model_selection import train_test_split, cross_val_score, GridSearchCV\n",
    "from sklearn.linear_model import LogisticRegression\n",
    "from sklearn.ensemble import RandomForestClassifier\n",
    "from sklearn.svm import SVC\n",
    "from sklearn.inspection import permutation_importance\n",
    "\n",
    "from xgboost import XGBClassifier\n",
    "from xgboost import cv\n",
    "from xgboost import plot_importance\n",
    "import xgboost as xgb\n",
    "use_label_encoder=False\n",
    "\n",
    "# pd.set_option('display.max_rows', 1000)  # or 1000\n",
    "pd.set_option('display.max_columns', 50)  # or 1000"
   ]
  },
  {
   "cell_type": "markdown",
   "metadata": {},
   "source": [
    "# Exploratory Data Analysis"
   ]
  },
  {
   "cell_type": "code",
   "execution_count": 3,
   "metadata": {},
   "outputs": [],
   "source": [
    "lag_train = pd.read_csv('../data/lag14_g3.csv')"
   ]
  },
  {
   "cell_type": "code",
   "execution_count": 4,
   "metadata": {},
   "outputs": [
    {
     "data": {
      "text/html": [
       "<div>\n",
       "<style scoped>\n",
       "    .dataframe tbody tr th:only-of-type {\n",
       "        vertical-align: middle;\n",
       "    }\n",
       "\n",
       "    .dataframe tbody tr th {\n",
       "        vertical-align: top;\n",
       "    }\n",
       "\n",
       "    .dataframe thead th {\n",
       "        text-align: right;\n",
       "    }\n",
       "</style>\n",
       "<table border=\"1\" class=\"dataframe\">\n",
       "  <thead>\n",
       "    <tr style=\"text-align: right;\">\n",
       "      <th></th>\n",
       "      <th>date</th>\n",
       "      <th>wnvpresent</th>\n",
       "      <th>culex_pipiens/restuans</th>\n",
       "      <th>culex_pipiens</th>\n",
       "      <th>culex_restuans</th>\n",
       "      <th>week_28</th>\n",
       "      <th>week_29</th>\n",
       "      <th>week_30</th>\n",
       "      <th>week_31</th>\n",
       "      <th>week_32</th>\n",
       "      <th>week_33</th>\n",
       "      <th>week_34</th>\n",
       "      <th>week_35</th>\n",
       "      <th>week_36</th>\n",
       "      <th>week_37</th>\n",
       "      <th>week_38</th>\n",
       "      <th>week_39</th>\n",
       "      <th>trap_T086</th>\n",
       "      <th>trap_T152</th>\n",
       "      <th>trap_T003</th>\n",
       "      <th>trap_T028</th>\n",
       "      <th>trap_T082</th>\n",
       "      <th>trap_T033</th>\n",
       "      <th>trap_T014</th>\n",
       "      <th>trap_T215</th>\n",
       "      <th>...</th>\n",
       "      <th>trap_T114</th>\n",
       "      <th>trap_T012</th>\n",
       "      <th>trap_T096</th>\n",
       "      <th>trap_T009</th>\n",
       "      <th>trap_T045</th>\n",
       "      <th>trap_T235</th>\n",
       "      <th>trap_T008</th>\n",
       "      <th>trap_T061</th>\n",
       "      <th>trap_T147</th>\n",
       "      <th>trap_T073</th>\n",
       "      <th>tavg</th>\n",
       "      <th>dewpoint</th>\n",
       "      <th>preciptotal</th>\n",
       "      <th>stnpressure</th>\n",
       "      <th>sealevel</th>\n",
       "      <th>resultdir</th>\n",
       "      <th>avgspeed</th>\n",
       "      <th>sunset</th>\n",
       "      <th>br</th>\n",
       "      <th>fu</th>\n",
       "      <th>hz</th>\n",
       "      <th>ra</th>\n",
       "      <th>ts</th>\n",
       "      <th>tsra</th>\n",
       "      <th>vcts</th>\n",
       "    </tr>\n",
       "  </thead>\n",
       "  <tbody>\n",
       "    <tr>\n",
       "      <th>0</th>\n",
       "      <td>2007-05-29</td>\n",
       "      <td>0.0</td>\n",
       "      <td>1</td>\n",
       "      <td>0</td>\n",
       "      <td>0</td>\n",
       "      <td>0</td>\n",
       "      <td>0</td>\n",
       "      <td>0</td>\n",
       "      <td>0</td>\n",
       "      <td>0</td>\n",
       "      <td>0</td>\n",
       "      <td>0</td>\n",
       "      <td>0</td>\n",
       "      <td>0</td>\n",
       "      <td>0</td>\n",
       "      <td>0</td>\n",
       "      <td>0</td>\n",
       "      <td>0</td>\n",
       "      <td>0</td>\n",
       "      <td>0</td>\n",
       "      <td>0</td>\n",
       "      <td>0</td>\n",
       "      <td>0</td>\n",
       "      <td>0</td>\n",
       "      <td>0</td>\n",
       "      <td>...</td>\n",
       "      <td>0</td>\n",
       "      <td>0</td>\n",
       "      <td>0</td>\n",
       "      <td>0</td>\n",
       "      <td>0</td>\n",
       "      <td>0</td>\n",
       "      <td>0</td>\n",
       "      <td>0</td>\n",
       "      <td>0</td>\n",
       "      <td>0</td>\n",
       "      <td>73.5</td>\n",
       "      <td>44</td>\n",
       "      <td>0.000</td>\n",
       "      <td>29.41</td>\n",
       "      <td>30.05</td>\n",
       "      <td>16</td>\n",
       "      <td>10.6</td>\n",
       "      <td>19.183333</td>\n",
       "      <td>0</td>\n",
       "      <td>0</td>\n",
       "      <td>0</td>\n",
       "      <td>0</td>\n",
       "      <td>0</td>\n",
       "      <td>0</td>\n",
       "      <td>0</td>\n",
       "    </tr>\n",
       "    <tr>\n",
       "      <th>1</th>\n",
       "      <td>2009-09-25</td>\n",
       "      <td>0.0</td>\n",
       "      <td>0</td>\n",
       "      <td>1</td>\n",
       "      <td>0</td>\n",
       "      <td>0</td>\n",
       "      <td>0</td>\n",
       "      <td>0</td>\n",
       "      <td>0</td>\n",
       "      <td>0</td>\n",
       "      <td>0</td>\n",
       "      <td>0</td>\n",
       "      <td>0</td>\n",
       "      <td>0</td>\n",
       "      <td>0</td>\n",
       "      <td>0</td>\n",
       "      <td>1</td>\n",
       "      <td>0</td>\n",
       "      <td>0</td>\n",
       "      <td>0</td>\n",
       "      <td>0</td>\n",
       "      <td>0</td>\n",
       "      <td>0</td>\n",
       "      <td>0</td>\n",
       "      <td>0</td>\n",
       "      <td>...</td>\n",
       "      <td>0</td>\n",
       "      <td>0</td>\n",
       "      <td>0</td>\n",
       "      <td>0</td>\n",
       "      <td>0</td>\n",
       "      <td>0</td>\n",
       "      <td>0</td>\n",
       "      <td>0</td>\n",
       "      <td>0</td>\n",
       "      <td>0</td>\n",
       "      <td>65.5</td>\n",
       "      <td>55</td>\n",
       "      <td>0.000</td>\n",
       "      <td>29.52</td>\n",
       "      <td>30.17</td>\n",
       "      <td>3</td>\n",
       "      <td>6.7</td>\n",
       "      <td>17.933333</td>\n",
       "      <td>0</td>\n",
       "      <td>0</td>\n",
       "      <td>0</td>\n",
       "      <td>0</td>\n",
       "      <td>0</td>\n",
       "      <td>0</td>\n",
       "      <td>0</td>\n",
       "    </tr>\n",
       "    <tr>\n",
       "      <th>2</th>\n",
       "      <td>2009-09-25</td>\n",
       "      <td>1.0</td>\n",
       "      <td>0</td>\n",
       "      <td>0</td>\n",
       "      <td>1</td>\n",
       "      <td>0</td>\n",
       "      <td>0</td>\n",
       "      <td>0</td>\n",
       "      <td>0</td>\n",
       "      <td>0</td>\n",
       "      <td>0</td>\n",
       "      <td>0</td>\n",
       "      <td>0</td>\n",
       "      <td>0</td>\n",
       "      <td>0</td>\n",
       "      <td>0</td>\n",
       "      <td>1</td>\n",
       "      <td>0</td>\n",
       "      <td>0</td>\n",
       "      <td>0</td>\n",
       "      <td>0</td>\n",
       "      <td>0</td>\n",
       "      <td>0</td>\n",
       "      <td>0</td>\n",
       "      <td>0</td>\n",
       "      <td>...</td>\n",
       "      <td>0</td>\n",
       "      <td>0</td>\n",
       "      <td>0</td>\n",
       "      <td>0</td>\n",
       "      <td>0</td>\n",
       "      <td>0</td>\n",
       "      <td>0</td>\n",
       "      <td>0</td>\n",
       "      <td>0</td>\n",
       "      <td>0</td>\n",
       "      <td>65.5</td>\n",
       "      <td>55</td>\n",
       "      <td>0.000</td>\n",
       "      <td>29.52</td>\n",
       "      <td>30.17</td>\n",
       "      <td>3</td>\n",
       "      <td>6.7</td>\n",
       "      <td>17.933333</td>\n",
       "      <td>0</td>\n",
       "      <td>0</td>\n",
       "      <td>0</td>\n",
       "      <td>0</td>\n",
       "      <td>0</td>\n",
       "      <td>0</td>\n",
       "      <td>0</td>\n",
       "    </tr>\n",
       "    <tr>\n",
       "      <th>3</th>\n",
       "      <td>2009-09-25</td>\n",
       "      <td>0.0</td>\n",
       "      <td>0</td>\n",
       "      <td>0</td>\n",
       "      <td>1</td>\n",
       "      <td>0</td>\n",
       "      <td>0</td>\n",
       "      <td>0</td>\n",
       "      <td>0</td>\n",
       "      <td>0</td>\n",
       "      <td>0</td>\n",
       "      <td>0</td>\n",
       "      <td>0</td>\n",
       "      <td>0</td>\n",
       "      <td>0</td>\n",
       "      <td>0</td>\n",
       "      <td>1</td>\n",
       "      <td>0</td>\n",
       "      <td>0</td>\n",
       "      <td>0</td>\n",
       "      <td>0</td>\n",
       "      <td>0</td>\n",
       "      <td>0</td>\n",
       "      <td>0</td>\n",
       "      <td>0</td>\n",
       "      <td>...</td>\n",
       "      <td>0</td>\n",
       "      <td>0</td>\n",
       "      <td>0</td>\n",
       "      <td>0</td>\n",
       "      <td>0</td>\n",
       "      <td>0</td>\n",
       "      <td>0</td>\n",
       "      <td>0</td>\n",
       "      <td>0</td>\n",
       "      <td>0</td>\n",
       "      <td>64.5</td>\n",
       "      <td>55</td>\n",
       "      <td>0.000</td>\n",
       "      <td>29.46</td>\n",
       "      <td>30.18</td>\n",
       "      <td>2</td>\n",
       "      <td>6.4</td>\n",
       "      <td>17.933333</td>\n",
       "      <td>1</td>\n",
       "      <td>0</td>\n",
       "      <td>0</td>\n",
       "      <td>0</td>\n",
       "      <td>0</td>\n",
       "      <td>0</td>\n",
       "      <td>0</td>\n",
       "    </tr>\n",
       "    <tr>\n",
       "      <th>4</th>\n",
       "      <td>2007-08-24</td>\n",
       "      <td>0.0</td>\n",
       "      <td>0</td>\n",
       "      <td>0</td>\n",
       "      <td>1</td>\n",
       "      <td>0</td>\n",
       "      <td>0</td>\n",
       "      <td>0</td>\n",
       "      <td>0</td>\n",
       "      <td>0</td>\n",
       "      <td>0</td>\n",
       "      <td>1</td>\n",
       "      <td>0</td>\n",
       "      <td>0</td>\n",
       "      <td>0</td>\n",
       "      <td>0</td>\n",
       "      <td>0</td>\n",
       "      <td>0</td>\n",
       "      <td>0</td>\n",
       "      <td>0</td>\n",
       "      <td>0</td>\n",
       "      <td>0</td>\n",
       "      <td>0</td>\n",
       "      <td>0</td>\n",
       "      <td>0</td>\n",
       "      <td>...</td>\n",
       "      <td>0</td>\n",
       "      <td>0</td>\n",
       "      <td>0</td>\n",
       "      <td>0</td>\n",
       "      <td>0</td>\n",
       "      <td>0</td>\n",
       "      <td>0</td>\n",
       "      <td>0</td>\n",
       "      <td>0</td>\n",
       "      <td>0</td>\n",
       "      <td>72.5</td>\n",
       "      <td>54</td>\n",
       "      <td>0.000</td>\n",
       "      <td>29.46</td>\n",
       "      <td>30.08</td>\n",
       "      <td>31</td>\n",
       "      <td>7.4</td>\n",
       "      <td>18.850000</td>\n",
       "      <td>0</td>\n",
       "      <td>0</td>\n",
       "      <td>0</td>\n",
       "      <td>0</td>\n",
       "      <td>0</td>\n",
       "      <td>0</td>\n",
       "      <td>0</td>\n",
       "    </tr>\n",
       "    <tr>\n",
       "      <th>...</th>\n",
       "      <td>...</td>\n",
       "      <td>...</td>\n",
       "      <td>...</td>\n",
       "      <td>...</td>\n",
       "      <td>...</td>\n",
       "      <td>...</td>\n",
       "      <td>...</td>\n",
       "      <td>...</td>\n",
       "      <td>...</td>\n",
       "      <td>...</td>\n",
       "      <td>...</td>\n",
       "      <td>...</td>\n",
       "      <td>...</td>\n",
       "      <td>...</td>\n",
       "      <td>...</td>\n",
       "      <td>...</td>\n",
       "      <td>...</td>\n",
       "      <td>...</td>\n",
       "      <td>...</td>\n",
       "      <td>...</td>\n",
       "      <td>...</td>\n",
       "      <td>...</td>\n",
       "      <td>...</td>\n",
       "      <td>...</td>\n",
       "      <td>...</td>\n",
       "      <td>...</td>\n",
       "      <td>...</td>\n",
       "      <td>...</td>\n",
       "      <td>...</td>\n",
       "      <td>...</td>\n",
       "      <td>...</td>\n",
       "      <td>...</td>\n",
       "      <td>...</td>\n",
       "      <td>...</td>\n",
       "      <td>...</td>\n",
       "      <td>...</td>\n",
       "      <td>...</td>\n",
       "      <td>...</td>\n",
       "      <td>...</td>\n",
       "      <td>...</td>\n",
       "      <td>...</td>\n",
       "      <td>...</td>\n",
       "      <td>...</td>\n",
       "      <td>...</td>\n",
       "      <td>...</td>\n",
       "      <td>...</td>\n",
       "      <td>...</td>\n",
       "      <td>...</td>\n",
       "      <td>...</td>\n",
       "      <td>...</td>\n",
       "      <td>...</td>\n",
       "    </tr>\n",
       "    <tr>\n",
       "      <th>8470</th>\n",
       "      <td>2007-09-05</td>\n",
       "      <td>1.0</td>\n",
       "      <td>0</td>\n",
       "      <td>1</td>\n",
       "      <td>0</td>\n",
       "      <td>0</td>\n",
       "      <td>0</td>\n",
       "      <td>0</td>\n",
       "      <td>0</td>\n",
       "      <td>0</td>\n",
       "      <td>0</td>\n",
       "      <td>0</td>\n",
       "      <td>0</td>\n",
       "      <td>1</td>\n",
       "      <td>0</td>\n",
       "      <td>0</td>\n",
       "      <td>0</td>\n",
       "      <td>0</td>\n",
       "      <td>0</td>\n",
       "      <td>0</td>\n",
       "      <td>0</td>\n",
       "      <td>0</td>\n",
       "      <td>0</td>\n",
       "      <td>0</td>\n",
       "      <td>0</td>\n",
       "      <td>...</td>\n",
       "      <td>0</td>\n",
       "      <td>0</td>\n",
       "      <td>0</td>\n",
       "      <td>0</td>\n",
       "      <td>0</td>\n",
       "      <td>0</td>\n",
       "      <td>0</td>\n",
       "      <td>0</td>\n",
       "      <td>0</td>\n",
       "      <td>0</td>\n",
       "      <td>77.5</td>\n",
       "      <td>64</td>\n",
       "      <td>0.005</td>\n",
       "      <td>29.39</td>\n",
       "      <td>30.02</td>\n",
       "      <td>3</td>\n",
       "      <td>8.8</td>\n",
       "      <td>18.533333</td>\n",
       "      <td>0</td>\n",
       "      <td>0</td>\n",
       "      <td>0</td>\n",
       "      <td>0</td>\n",
       "      <td>0</td>\n",
       "      <td>0</td>\n",
       "      <td>0</td>\n",
       "    </tr>\n",
       "    <tr>\n",
       "      <th>8471</th>\n",
       "      <td>2007-08-08</td>\n",
       "      <td>1.0</td>\n",
       "      <td>0</td>\n",
       "      <td>1</td>\n",
       "      <td>0</td>\n",
       "      <td>0</td>\n",
       "      <td>0</td>\n",
       "      <td>0</td>\n",
       "      <td>0</td>\n",
       "      <td>1</td>\n",
       "      <td>0</td>\n",
       "      <td>0</td>\n",
       "      <td>0</td>\n",
       "      <td>0</td>\n",
       "      <td>0</td>\n",
       "      <td>0</td>\n",
       "      <td>0</td>\n",
       "      <td>0</td>\n",
       "      <td>0</td>\n",
       "      <td>0</td>\n",
       "      <td>0</td>\n",
       "      <td>0</td>\n",
       "      <td>0</td>\n",
       "      <td>0</td>\n",
       "      <td>0</td>\n",
       "      <td>...</td>\n",
       "      <td>0</td>\n",
       "      <td>0</td>\n",
       "      <td>0</td>\n",
       "      <td>0</td>\n",
       "      <td>0</td>\n",
       "      <td>0</td>\n",
       "      <td>0</td>\n",
       "      <td>0</td>\n",
       "      <td>0</td>\n",
       "      <td>0</td>\n",
       "      <td>80.0</td>\n",
       "      <td>63</td>\n",
       "      <td>0.000</td>\n",
       "      <td>29.34</td>\n",
       "      <td>29.98</td>\n",
       "      <td>13</td>\n",
       "      <td>3.7</td>\n",
       "      <td>19.183333</td>\n",
       "      <td>0</td>\n",
       "      <td>0</td>\n",
       "      <td>0</td>\n",
       "      <td>0</td>\n",
       "      <td>0</td>\n",
       "      <td>0</td>\n",
       "      <td>0</td>\n",
       "    </tr>\n",
       "    <tr>\n",
       "      <th>8472</th>\n",
       "      <td>2007-08-28</td>\n",
       "      <td>1.0</td>\n",
       "      <td>0</td>\n",
       "      <td>1</td>\n",
       "      <td>0</td>\n",
       "      <td>0</td>\n",
       "      <td>0</td>\n",
       "      <td>0</td>\n",
       "      <td>0</td>\n",
       "      <td>0</td>\n",
       "      <td>0</td>\n",
       "      <td>0</td>\n",
       "      <td>1</td>\n",
       "      <td>0</td>\n",
       "      <td>0</td>\n",
       "      <td>0</td>\n",
       "      <td>0</td>\n",
       "      <td>0</td>\n",
       "      <td>0</td>\n",
       "      <td>0</td>\n",
       "      <td>0</td>\n",
       "      <td>0</td>\n",
       "      <td>0</td>\n",
       "      <td>0</td>\n",
       "      <td>0</td>\n",
       "      <td>...</td>\n",
       "      <td>0</td>\n",
       "      <td>0</td>\n",
       "      <td>0</td>\n",
       "      <td>0</td>\n",
       "      <td>0</td>\n",
       "      <td>0</td>\n",
       "      <td>0</td>\n",
       "      <td>0</td>\n",
       "      <td>0</td>\n",
       "      <td>0</td>\n",
       "      <td>77.0</td>\n",
       "      <td>70</td>\n",
       "      <td>0.010</td>\n",
       "      <td>29.26</td>\n",
       "      <td>29.89</td>\n",
       "      <td>17</td>\n",
       "      <td>6.0</td>\n",
       "      <td>18.750000</td>\n",
       "      <td>1</td>\n",
       "      <td>0</td>\n",
       "      <td>0</td>\n",
       "      <td>0</td>\n",
       "      <td>0</td>\n",
       "      <td>0</td>\n",
       "      <td>0</td>\n",
       "    </tr>\n",
       "    <tr>\n",
       "      <th>8473</th>\n",
       "      <td>2007-07-25</td>\n",
       "      <td>1.0</td>\n",
       "      <td>0</td>\n",
       "      <td>1</td>\n",
       "      <td>0</td>\n",
       "      <td>0</td>\n",
       "      <td>0</td>\n",
       "      <td>1</td>\n",
       "      <td>0</td>\n",
       "      <td>0</td>\n",
       "      <td>0</td>\n",
       "      <td>0</td>\n",
       "      <td>0</td>\n",
       "      <td>0</td>\n",
       "      <td>0</td>\n",
       "      <td>0</td>\n",
       "      <td>0</td>\n",
       "      <td>0</td>\n",
       "      <td>0</td>\n",
       "      <td>0</td>\n",
       "      <td>0</td>\n",
       "      <td>0</td>\n",
       "      <td>0</td>\n",
       "      <td>0</td>\n",
       "      <td>0</td>\n",
       "      <td>...</td>\n",
       "      <td>0</td>\n",
       "      <td>0</td>\n",
       "      <td>0</td>\n",
       "      <td>0</td>\n",
       "      <td>0</td>\n",
       "      <td>0</td>\n",
       "      <td>0</td>\n",
       "      <td>0</td>\n",
       "      <td>0</td>\n",
       "      <td>0</td>\n",
       "      <td>77.0</td>\n",
       "      <td>69</td>\n",
       "      <td>0.920</td>\n",
       "      <td>29.18</td>\n",
       "      <td>29.83</td>\n",
       "      <td>24</td>\n",
       "      <td>10.6</td>\n",
       "      <td>19.400000</td>\n",
       "      <td>1</td>\n",
       "      <td>0</td>\n",
       "      <td>1</td>\n",
       "      <td>1</td>\n",
       "      <td>1</td>\n",
       "      <td>1</td>\n",
       "      <td>1</td>\n",
       "    </tr>\n",
       "    <tr>\n",
       "      <th>8474</th>\n",
       "      <td>2007-08-16</td>\n",
       "      <td>1.0</td>\n",
       "      <td>0</td>\n",
       "      <td>1</td>\n",
       "      <td>0</td>\n",
       "      <td>0</td>\n",
       "      <td>0</td>\n",
       "      <td>0</td>\n",
       "      <td>0</td>\n",
       "      <td>0</td>\n",
       "      <td>1</td>\n",
       "      <td>0</td>\n",
       "      <td>0</td>\n",
       "      <td>0</td>\n",
       "      <td>0</td>\n",
       "      <td>0</td>\n",
       "      <td>0</td>\n",
       "      <td>0</td>\n",
       "      <td>0</td>\n",
       "      <td>0</td>\n",
       "      <td>0</td>\n",
       "      <td>0</td>\n",
       "      <td>0</td>\n",
       "      <td>0</td>\n",
       "      <td>0</td>\n",
       "      <td>...</td>\n",
       "      <td>0</td>\n",
       "      <td>0</td>\n",
       "      <td>0</td>\n",
       "      <td>0</td>\n",
       "      <td>0</td>\n",
       "      <td>0</td>\n",
       "      <td>0</td>\n",
       "      <td>0</td>\n",
       "      <td>0</td>\n",
       "      <td>0</td>\n",
       "      <td>79.0</td>\n",
       "      <td>71</td>\n",
       "      <td>0.460</td>\n",
       "      <td>29.19</td>\n",
       "      <td>29.82</td>\n",
       "      <td>27</td>\n",
       "      <td>6.3</td>\n",
       "      <td>19.033333</td>\n",
       "      <td>1</td>\n",
       "      <td>0</td>\n",
       "      <td>1</td>\n",
       "      <td>0</td>\n",
       "      <td>0</td>\n",
       "      <td>1</td>\n",
       "      <td>0</td>\n",
       "    </tr>\n",
       "  </tbody>\n",
       "</table>\n",
       "<p>8475 rows × 100 columns</p>\n",
       "</div>"
      ],
      "text/plain": [
       "            date  wnvpresent  culex_pipiens/restuans  culex_pipiens  \\\n",
       "0     2007-05-29         0.0                       1              0   \n",
       "1     2009-09-25         0.0                       0              1   \n",
       "2     2009-09-25         1.0                       0              0   \n",
       "3     2009-09-25         0.0                       0              0   \n",
       "4     2007-08-24         0.0                       0              0   \n",
       "...          ...         ...                     ...            ...   \n",
       "8470  2007-09-05         1.0                       0              1   \n",
       "8471  2007-08-08         1.0                       0              1   \n",
       "8472  2007-08-28         1.0                       0              1   \n",
       "8473  2007-07-25         1.0                       0              1   \n",
       "8474  2007-08-16         1.0                       0              1   \n",
       "\n",
       "      culex_restuans  week_28  week_29  week_30  week_31  week_32  week_33  \\\n",
       "0                  0        0        0        0        0        0        0   \n",
       "1                  0        0        0        0        0        0        0   \n",
       "2                  1        0        0        0        0        0        0   \n",
       "3                  1        0        0        0        0        0        0   \n",
       "4                  1        0        0        0        0        0        0   \n",
       "...              ...      ...      ...      ...      ...      ...      ...   \n",
       "8470               0        0        0        0        0        0        0   \n",
       "8471               0        0        0        0        0        1        0   \n",
       "8472               0        0        0        0        0        0        0   \n",
       "8473               0        0        0        1        0        0        0   \n",
       "8474               0        0        0        0        0        0        1   \n",
       "\n",
       "      week_34  week_35  week_36  week_37  week_38  week_39  trap_T086  \\\n",
       "0           0        0        0        0        0        0          0   \n",
       "1           0        0        0        0        0        1          0   \n",
       "2           0        0        0        0        0        1          0   \n",
       "3           0        0        0        0        0        1          0   \n",
       "4           1        0        0        0        0        0          0   \n",
       "...       ...      ...      ...      ...      ...      ...        ...   \n",
       "8470        0        0        1        0        0        0          0   \n",
       "8471        0        0        0        0        0        0          0   \n",
       "8472        0        1        0        0        0        0          0   \n",
       "8473        0        0        0        0        0        0          0   \n",
       "8474        0        0        0        0        0        0          0   \n",
       "\n",
       "      trap_T152  trap_T003  trap_T028  trap_T082  trap_T033  trap_T014  \\\n",
       "0             0          0          0          0          0          0   \n",
       "1             0          0          0          0          0          0   \n",
       "2             0          0          0          0          0          0   \n",
       "3             0          0          0          0          0          0   \n",
       "4             0          0          0          0          0          0   \n",
       "...         ...        ...        ...        ...        ...        ...   \n",
       "8470          0          0          0          0          0          0   \n",
       "8471          0          0          0          0          0          0   \n",
       "8472          0          0          0          0          0          0   \n",
       "8473          0          0          0          0          0          0   \n",
       "8474          0          0          0          0          0          0   \n",
       "\n",
       "      trap_T215  ...  trap_T114  trap_T012  trap_T096  trap_T009  trap_T045  \\\n",
       "0             0  ...          0          0          0          0          0   \n",
       "1             0  ...          0          0          0          0          0   \n",
       "2             0  ...          0          0          0          0          0   \n",
       "3             0  ...          0          0          0          0          0   \n",
       "4             0  ...          0          0          0          0          0   \n",
       "...         ...  ...        ...        ...        ...        ...        ...   \n",
       "8470          0  ...          0          0          0          0          0   \n",
       "8471          0  ...          0          0          0          0          0   \n",
       "8472          0  ...          0          0          0          0          0   \n",
       "8473          0  ...          0          0          0          0          0   \n",
       "8474          0  ...          0          0          0          0          0   \n",
       "\n",
       "      trap_T235  trap_T008  trap_T061  trap_T147  trap_T073  tavg  dewpoint  \\\n",
       "0             0          0          0          0          0  73.5        44   \n",
       "1             0          0          0          0          0  65.5        55   \n",
       "2             0          0          0          0          0  65.5        55   \n",
       "3             0          0          0          0          0  64.5        55   \n",
       "4             0          0          0          0          0  72.5        54   \n",
       "...         ...        ...        ...        ...        ...   ...       ...   \n",
       "8470          0          0          0          0          0  77.5        64   \n",
       "8471          0          0          0          0          0  80.0        63   \n",
       "8472          0          0          0          0          0  77.0        70   \n",
       "8473          0          0          0          0          0  77.0        69   \n",
       "8474          0          0          0          0          0  79.0        71   \n",
       "\n",
       "      preciptotal  stnpressure  sealevel  resultdir  avgspeed     sunset  br  \\\n",
       "0           0.000        29.41     30.05         16      10.6  19.183333   0   \n",
       "1           0.000        29.52     30.17          3       6.7  17.933333   0   \n",
       "2           0.000        29.52     30.17          3       6.7  17.933333   0   \n",
       "3           0.000        29.46     30.18          2       6.4  17.933333   1   \n",
       "4           0.000        29.46     30.08         31       7.4  18.850000   0   \n",
       "...           ...          ...       ...        ...       ...        ...  ..   \n",
       "8470        0.005        29.39     30.02          3       8.8  18.533333   0   \n",
       "8471        0.000        29.34     29.98         13       3.7  19.183333   0   \n",
       "8472        0.010        29.26     29.89         17       6.0  18.750000   1   \n",
       "8473        0.920        29.18     29.83         24      10.6  19.400000   1   \n",
       "8474        0.460        29.19     29.82         27       6.3  19.033333   1   \n",
       "\n",
       "      fu  hz  ra  ts  tsra  vcts  \n",
       "0      0   0   0   0     0     0  \n",
       "1      0   0   0   0     0     0  \n",
       "2      0   0   0   0     0     0  \n",
       "3      0   0   0   0     0     0  \n",
       "4      0   0   0   0     0     0  \n",
       "...   ..  ..  ..  ..   ...   ...  \n",
       "8470   0   0   0   0     0     0  \n",
       "8471   0   0   0   0     0     0  \n",
       "8472   0   0   0   0     0     0  \n",
       "8473   0   1   1   1     1     1  \n",
       "8474   0   1   0   0     1     0  \n",
       "\n",
       "[8475 rows x 100 columns]"
      ]
     },
     "execution_count": 4,
     "metadata": {},
     "output_type": "execute_result"
    }
   ],
   "source": [
    "lag_train"
   ]
  },
  {
   "cell_type": "code",
   "execution_count": 5,
   "metadata": {},
   "outputs": [],
   "source": [
    "merged_train = pd.read_csv('../data/merged_train.csv')\n",
    "merged_test = pd.read_csv('../data/merged_test.csv')"
   ]
  },
  {
   "cell_type": "code",
   "execution_count": 6,
   "metadata": {},
   "outputs": [],
   "source": [
    "# convert date time \n",
    "merged_train['date'] = pd.to_datetime(merged_train['date'])\n",
    "merged_test['date'] = pd.to_datetime(merged_test['date'])"
   ]
  },
  {
   "cell_type": "code",
   "execution_count": 7,
   "metadata": {},
   "outputs": [
    {
     "data": {
      "text/plain": [
       "(116293, 41)"
      ]
     },
     "execution_count": 7,
     "metadata": {},
     "output_type": "execute_result"
    }
   ],
   "source": [
    "merged_test.shape"
   ]
  },
  {
   "cell_type": "code",
   "execution_count": 8,
   "metadata": {},
   "outputs": [
    {
     "data": {
      "text/plain": [
       "Text(0.69, 0.5, '5.39% of 8475 observations\\nare from the Positive class (1),\\nie. WNV present')"
      ]
     },
     "execution_count": 8,
     "metadata": {},
     "output_type": "execute_result"
    },
    {
     "data": {
      "image/png": "[encoded data removed]",
      "text/plain": [
       "<Figure size 576x576 with 1 Axes>"
      ]
     },
     "metadata": {
      "needs_background": "light"
     },
     "output_type": "display_data"
    }
   ],
   "source": [
    "# Plotting the balance of classes on a countplot.\n",
    "\n",
    "wnv_notpresent = merged_train['wnvpresent'].value_counts()[0]\n",
    "wnv_present = merged_train['wnvpresent'].value_counts()[1]\n",
    "neg_pct = merged_train['wnvpresent'].value_counts(normalize=True)[0] * 100\n",
    "pos_pct = merged_train['wnvpresent'].value_counts(normalize=True)[1] * 100\n",
    "total = wnv_notpresent + wnv_present\n",
    "\n",
    "# set up figure size \n",
    "plt.figure(figsize=(8,8))\n",
    "\n",
    "# plot countplot\n",
    "ax = sns.countplot(x='wnvpresent', data=merged_train)\n",
    "\n",
    "\n",
    "# set labels for X and y and titles\n",
    "ax.set_xticklabels(['Negative class (0)\\nWNV not present', 'Positive class(1)\\nWNV present'])\n",
    "ax.tick_params(axis='both', labelsize=12)\n",
    "\n",
    "plt.xlabel(\"WnvPresent\", fontsize=15)\n",
    "plt.ylabel(\"Counts\", fontsize=15)\n",
    "\n",
    "plt.title(\"Barplot displaying balance of classes\", fontdict = {'size' : 18, 'weight': 'bold'})\n",
    "\n",
    "# to plot number of points in each class \n",
    "plt.text(x=0, y=wnv_notpresent+100, s=str(wnv_notpresent) + ' (' + str(round(neg_pct,2)) + '%)', fontsize=13, ha='center')\n",
    "plt.text(x=1, y=wnv_present+100, s=str(wnv_present) + ' (' + str(round(pos_pct,2)) + '%)', fontsize=13, ha='center')\n",
    "\n",
    "# set up red text \n",
    "plt.figtext(x=0.69, \n",
    "            y=0.5, \n",
    "            s=f\"{round(pos_pct, 2)}% of {total} observations\\nare from the Positive class (1),\\nie. WNV present\", \n",
    "            fontdict = {'size' : 12, 'weight': 'semibold'},\n",
    "            ha='center',\n",
    "            color = 'red',\n",
    "           )\n"
   ]
  },
  {
   "cell_type": "markdown",
   "metadata": {},
   "source": [
    "From the above, we can see that the classes are very unbalanced. Of the 8475 observations, only 457 `(5.5%) are from the positive class` ie. West Nile Virus present (WvvPresent == 1) while 8018 (94.61%) observations from the negative class, ie. West Nile Virus not present (WvvPresent == 0)\n",
    "\n",
    "We will need to explore ways to balance the two classes before modelling "
   ]
  },
  {
   "cell_type": "markdown",
   "metadata": {},
   "source": [
    "# Model Preparation"
   ]
  },
  {
   "cell_type": "markdown",
   "metadata": {},
   "source": [
    "## Modelling Approaches"
   ]
  },
  {
   "cell_type": "markdown",
   "metadata": {},
   "source": [
    "As seen from the above, the classes in this case is unbalanced. We will need to deploy balancing techniques like `over-sampling` using imblearn `SMOTE` and also adjust `class_weights` on certain classifiers like RandomForestClassifier. \n",
    "\n",
    "We will be using these following models \n",
    "- Logistic Regression  \n",
    "- RandomForestClassifier\n",
    "- XGboost "
   ]
  },
  {
   "cell_type": "markdown",
   "metadata": {},
   "source": [
    "## Classification Matrix"
   ]
  },
  {
   "cell_type": "markdown",
   "metadata": {},
   "source": [
    "In the context of this project, we define our **positive class as the presence of WNV *(WnvPresent = 1)*, and the negative class as the absence of WNV *(WnvPresent = 0)***.\n",
    "\n",
    "`Accuracy` is defined as the total number of correct predictions over the total number of predictions made. Essentially, this refers to the correct predictions of mosquitos trapped containing WNV virus over the total number of predictions made.\n",
    "\n",
    "While `Accuracy` is a good overall measure of the model's performance, a high score doesnt reflect how well it is predicting for each class. For example, having high score, could also mean having very good predictions of mosquitos NOT having WNV (due to high skew of data towards no WnvPresent), that would overshadow class that contains correct predictions for those carrying WNV. \n",
    "\n",
    "Hence we need `sensitivity` and `specificity` as well to measure the true positive and true negative rate and achieve balance between the two. \n",
    "\n",
    "To answer the part on `calculating the cost involved to deploy the the pesticides` throughout the city of Chicago, having high amount of false positives will result in increased cost for spraying these pesticides. On the other hand, having `large number of false negatives could potentially lead to an outbreak of WNV which would greatly affect the economy should Chicago be forced to take drastic measures to contain it`. Hence, the team has decided it would be better to focus on having `minimal false negatives` than false positives hence leaning towards `sensitivity` than `specificity`. "
   ]
  },
  {
   "cell_type": "markdown",
   "metadata": {},
   "source": [
    "### Instantiate X and y variables"
   ]
  },
  {
   "cell_type": "code",
   "execution_count": 9,
   "metadata": {},
   "outputs": [],
   "source": [
    "merged_train = pd.get_dummies(merged_train, columns = ['species'], drop_first = True)\n",
    "merged_test = pd.get_dummies(merged_test, columns = ['species'], drop_first = True)"
   ]
  },
  {
   "cell_type": "code",
   "execution_count": 10,
   "metadata": {},
   "outputs": [
    {
     "data": {
      "text/plain": [
       "Index(['date', 'latitude', 'longitude', 'trap', 'nummosquitos', 'wnvpresent',\n",
       "       'wnvcount', 'station', 'tmax', 'tmin', 'tavg', 'dewpoint', 'wetbulb',\n",
       "       'heat', 'cool', 'codesum', 'preciptotal', 'stnpressure', 'sealevel',\n",
       "       'resultspeed', 'resultdir', 'avgspeed', 'month', 'sunrise', 'sunset',\n",
       "       'bcfg', 'br', 'dz', 'fg', 'fg+', 'fu', 'hz', 'mifg', 'ra', 'sn', 'sq',\n",
       "       'ts', 'tsra', 'vcts', 'gr', 'vcfg', 'sprayed', 'species_CULEX PIPIENS',\n",
       "       'species_CULEX PIPIENS/RESTUANS', 'species_CULEX RESTUANS',\n",
       "       'species_CULEX SALINARIUS', 'species_CULEX TARSALIS',\n",
       "       'species_CULEX TERRITANS'],\n",
       "      dtype='object')"
      ]
     },
     "execution_count": 10,
     "metadata": {},
     "output_type": "execute_result"
    }
   ],
   "source": [
    "merged_train.columns"
   ]
  },
  {
   "cell_type": "code",
   "execution_count": 11,
   "metadata": {},
   "outputs": [
    {
     "data": {
      "text/plain": [
       "Index(['date', 'wnvpresent', 'culex_pipiens/restuans', 'culex_pipiens',\n",
       "       'culex_restuans', 'week_28', 'week_29', 'week_30', 'week_31', 'week_32',\n",
       "       'week_33', 'week_34', 'week_35', 'week_36', 'week_37', 'week_38',\n",
       "       'week_39', 'trap_T086', 'trap_T152', 'trap_T003', 'trap_T028',\n",
       "       'trap_T082', 'trap_T033', 'trap_T014', 'trap_T215', 'trap_T115',\n",
       "       'trap_T158', 'trap_T016', 'trap_T903', 'trap_T226', 'trap_T027',\n",
       "       'trap_T089', 'trap_T013', 'trap_T228', 'trap_T047', 'trap_T095',\n",
       "       'trap_T223', 'trap_T160', 'trap_T094', 'trap_T209', 'trap_T212',\n",
       "       'trap_T231', 'trap_T090', 'trap_T039', 'trap_T031', 'trap_T080',\n",
       "       'trap_T011', 'trap_T035', 'trap_T227', 'trap_T151', 'trap_T159',\n",
       "       'trap_T900', 'trap_T138', 'trap_T143', 'trap_T048', 'trap_T030',\n",
       "       'trap_T135', 'trap_T155', 'trap_T054', 'trap_T015', 'trap_T233',\n",
       "       'trap_T066', 'trap_T225', 'trap_T063', 'trap_T002', 'trap_T128',\n",
       "       'trap_T230', 'trap_T006', 'trap_T083', 'trap_T220', 'trap_T081',\n",
       "       'trap_T221', 'trap_T065', 'trap_T102', 'trap_T103', 'trap_T114',\n",
       "       'trap_T012', 'trap_T096', 'trap_T009', 'trap_T045', 'trap_T235',\n",
       "       'trap_T008', 'trap_T061', 'trap_T147', 'trap_T073', 'tavg', 'dewpoint',\n",
       "       'preciptotal', 'stnpressure', 'sealevel', 'resultdir', 'avgspeed',\n",
       "       'sunset', 'br', 'fu', 'hz', 'ra', 'ts', 'tsra', 'vcts'],\n",
       "      dtype='object')"
      ]
     },
     "execution_count": 11,
     "metadata": {},
     "output_type": "execute_result"
    }
   ],
   "source": [
    "lag_train.columns"
   ]
  },
  {
   "cell_type": "code",
   "execution_count": 12,
   "metadata": {},
   "outputs": [],
   "source": [
    "X = lag_train.drop(columns = ['wnvpresent','date'])\n",
    "y = lag_train['wnvpresent']"
   ]
  },
  {
   "cell_type": "code",
   "execution_count": 13,
   "metadata": {},
   "outputs": [],
   "source": [
    "# X = merged_train[[col for col in merged_train.columns if (merged_train[col].dtypes !='O') & (col not in ['date','block','addressaccuracy','nummosquitos','wnvcount','wnvpresent', 'station','species_CULEX SALINARIUS',\n",
    "#  'species_CULEX TARSALIS',\n",
    "#  'species_CULEX TERRITANS'])]]\n",
    "# y = merged_train['wnvpresent']"
   ]
  },
  {
   "cell_type": "code",
   "execution_count": 14,
   "metadata": {},
   "outputs": [],
   "source": [
    "kaggle_test = merged_test[[col for col in merged_test.columns if (merged_test[col].dtypes !='O') & (col not in ['date','block','addressaccuracy', 'station','species_CULEX SALINARIUS',\n",
    " 'species_CULEX TARSALIS',\n",
    " 'species_CULEX TERRITANS','species_UNSPECIFIED CULEX'])]]"
   ]
  },
  {
   "cell_type": "code",
   "execution_count": 15,
   "metadata": {},
   "outputs": [
    {
     "data": {
      "text/plain": [
       "(8475, 98)"
      ]
     },
     "execution_count": 15,
     "metadata": {},
     "output_type": "execute_result"
    }
   ],
   "source": [
    "X.shape"
   ]
  },
  {
   "cell_type": "code",
   "execution_count": 16,
   "metadata": {},
   "outputs": [
    {
     "data": {
      "text/plain": [
       "(116293, 39)"
      ]
     },
     "execution_count": 16,
     "metadata": {},
     "output_type": "execute_result"
    }
   ],
   "source": [
    "kaggle_test.shape"
   ]
  },
  {
   "cell_type": "markdown",
   "metadata": {},
   "source": [
    "Train test split"
   ]
  },
  {
   "cell_type": "code",
   "execution_count": 17,
   "metadata": {},
   "outputs": [],
   "source": [
    "# Splitting X and y into training and testing datasets.\n",
    "\n",
    "X_train, X_test, y_train, y_test = train_test_split(X, y, stratify=y, random_state=42)"
   ]
  },
  {
   "cell_type": "code",
   "execution_count": 18,
   "metadata": {},
   "outputs": [],
   "source": [
    "# Scaling X_train to the standard scale.\n",
    "\n",
    "ss = StandardScaler()\n",
    "X_train_sc = ss.fit_transform(X_train)\n",
    "\n",
    "# Transforming X_test to the same scale.\n",
    "\n",
    "X_test_sc = ss.transform(X_test)"
   ]
  },
  {
   "cell_type": "code",
   "execution_count": 19,
   "metadata": {},
   "outputs": [],
   "source": [
    "# # Transforming actual test dataframe to the same scale (to generate predictions for kaggle submission later).\n",
    "\n",
    "# kaggle_test_sc = ss.transform(kaggle_test)"
   ]
  },
  {
   "cell_type": "markdown",
   "metadata": {},
   "source": [
    "# Classification Modelling"
   ]
  },
  {
   "cell_type": "markdown",
   "metadata": {},
   "source": [
    "### Class balancing Technique\n",
    "\n",
    "We will be using only `smote` for this project"
   ]
  },
  {
   "cell_type": "code",
   "execution_count": 20,
   "metadata": {},
   "outputs": [],
   "source": [
    "# instantiate SMOTE\n",
    "smote = SMOTE(random_state=42)"
   ]
  },
  {
   "cell_type": "code",
   "execution_count": 21,
   "metadata": {},
   "outputs": [],
   "source": [
    "X_train_sc_smote, y_train_smote = smote.fit_resample(X_train_sc, y_train)"
   ]
  },
  {
   "cell_type": "code",
   "execution_count": 22,
   "metadata": {},
   "outputs": [
    {
     "data": {
      "text/plain": [
       "0.0    6013\n",
       "1.0    6013\n",
       "Name: wnvpresent, dtype: int64"
      ]
     },
     "execution_count": 22,
     "metadata": {},
     "output_type": "execute_result"
    }
   ],
   "source": [
    "# Checking the distribution of classes with SMOTE balancing technique.\n",
    "\n",
    "y_train_smote.value_counts()"
   ]
  },
  {
   "cell_type": "markdown",
   "metadata": {},
   "source": [
    "We can see the library helped balance the proportions between two classes. \n",
    "\n",
    "`SMOTE` is an over-sampling method, that creates copies of the minority class data points with small variations, making synthetic samples more diverse [source](https://www.analyticsvidhya.com/blog/2020/10/overcoming-class-imbalance-using-smote-techniques/). Hence we see the number of data points for the positive class matching with the negative class"
   ]
  },
  {
   "cell_type": "markdown",
   "metadata": {},
   "source": [
    "### Logistic regression & SMOTE"
   ]
  },
  {
   "cell_type": "code",
   "execution_count": 23,
   "metadata": {},
   "outputs": [],
   "source": [
    "# Creating a pipeline object using imblearn.pipeline with SMOTE and LogisticRegression.\n",
    "\n",
    "pipe_logreg = make_pipeline(SMOTE(random_state=42),\n",
    "                      LogisticRegression(penalty='elasticnet', solver='saga', random_state=42, max_iter=1000)\n",
    "                     )"
   ]
  },
  {
   "cell_type": "code",
   "execution_count": 24,
   "metadata": {},
   "outputs": [
    {
     "data": {
      "text/plain": [
       "{'memory': None,\n",
       " 'steps': [('smote', SMOTE(random_state=42)),\n",
       "  ('logisticregression',\n",
       "   LogisticRegression(max_iter=1000, penalty='elasticnet', random_state=42,\n",
       "                      solver='saga'))],\n",
       " 'verbose': False,\n",
       " 'smote': SMOTE(random_state=42),\n",
       " 'logisticregression': LogisticRegression(max_iter=1000, penalty='elasticnet', random_state=42,\n",
       "                    solver='saga'),\n",
       " 'smote__k_neighbors': 5,\n",
       " 'smote__n_jobs': None,\n",
       " 'smote__random_state': 42,\n",
       " 'smote__sampling_strategy': 'auto',\n",
       " 'logisticregression__C': 1.0,\n",
       " 'logisticregression__class_weight': None,\n",
       " 'logisticregression__dual': False,\n",
       " 'logisticregression__fit_intercept': True,\n",
       " 'logisticregression__intercept_scaling': 1,\n",
       " 'logisticregression__l1_ratio': None,\n",
       " 'logisticregression__max_iter': 1000,\n",
       " 'logisticregression__multi_class': 'auto',\n",
       " 'logisticregression__n_jobs': None,\n",
       " 'logisticregression__penalty': 'elasticnet',\n",
       " 'logisticregression__random_state': 42,\n",
       " 'logisticregression__solver': 'saga',\n",
       " 'logisticregression__tol': 0.0001,\n",
       " 'logisticregression__verbose': 0,\n",
       " 'logisticregression__warm_start': False}"
      ]
     },
     "execution_count": 24,
     "metadata": {},
     "output_type": "execute_result"
    }
   ],
   "source": [
    "pipe_logreg.get_params()"
   ]
  },
  {
   "cell_type": "code",
   "execution_count": 25,
   "metadata": {},
   "outputs": [],
   "source": [
    "# {'logisticregression__C': 2.7777777777777777,\n",
    "#  'logisticregression__l1_ratio': 1}"
   ]
  },
  {
   "cell_type": "code",
   "execution_count": 26,
   "metadata": {},
   "outputs": [],
   "source": [
    "# Establishing ranges of hyperparameters C and l1_ratio for GridSearchCV, and class_weight.\n",
    "\n",
    "pipe_logreg_params = {\n",
    "    'logisticregression__C': np.linspace(0,5,10),\n",
    "    'logisticregression__l1_ratio': [1],\n",
    "    }"
   ]
  },
  {
   "cell_type": "code",
   "execution_count": 27,
   "metadata": {},
   "outputs": [],
   "source": [
    "# Creating a GridSearchCV with scoring of ROC_AUC\n",
    "\n",
    "gs_logreg = GridSearchCV(pipe_logreg, \n",
    "                        param_grid=pipe_logreg_params, \n",
    "                        cv=5, \n",
    "                        scoring='roc_auc',\n",
    "                        n_jobs = -1\n",
    "                       )"
   ]
  },
  {
   "cell_type": "code",
   "execution_count": 28,
   "metadata": {},
   "outputs": [
    {
     "name": "stderr",
     "output_type": "stream",
     "text": [
      "C:\\Users\\Admin\\.conda\\envs\\dsi27tf\\lib\\site-packages\\sklearn\\model_selection\\_validation.py:372: FitFailedWarning: \n",
      "5 fits failed out of a total of 50.\n",
      "The score on these train-test partitions for these parameters will be set to nan.\n",
      "If these failures are not expected, you can try to debug them by setting error_score='raise'.\n",
      "\n",
      "Below are more details about the failures:\n",
      "--------------------------------------------------------------------------------\n",
      "5 fits failed with the following error:\n",
      "Traceback (most recent call last):\n",
      "  File \"C:\\Users\\Admin\\.conda\\envs\\dsi27tf\\lib\\site-packages\\sklearn\\model_selection\\_validation.py\", line 680, in _fit_and_score\n",
      "    estimator.fit(X_train, y_train, **fit_params)\n",
      "  File \"C:\\Users\\Admin\\.conda\\envs\\dsi27tf\\lib\\site-packages\\imblearn\\pipeline.py\", line 272, in fit\n",
      "    self._final_estimator.fit(Xt, yt, **fit_params_last_step)\n",
      "  File \"C:\\Users\\Admin\\.conda\\envs\\dsi27tf\\lib\\site-packages\\sklearn\\linear_model\\_logistic.py\", line 1614, in fit\n",
      "    for class_, warm_start_coef_ in zip(classes_, warm_start_coef)\n",
      "  File \"C:\\Users\\Admin\\.conda\\envs\\dsi27tf\\lib\\site-packages\\joblib\\parallel.py\", line 1043, in __call__\n",
      "    if self.dispatch_one_batch(iterator):\n",
      "  File \"C:\\Users\\Admin\\.conda\\envs\\dsi27tf\\lib\\site-packages\\joblib\\parallel.py\", line 861, in dispatch_one_batch\n",
      "    self._dispatch(tasks)\n",
      "  File \"C:\\Users\\Admin\\.conda\\envs\\dsi27tf\\lib\\site-packages\\joblib\\parallel.py\", line 779, in _dispatch\n",
      "    job = self._backend.apply_async(batch, callback=cb)\n",
      "  File \"C:\\Users\\Admin\\.conda\\envs\\dsi27tf\\lib\\site-packages\\joblib\\_parallel_backends.py\", line 208, in apply_async\n",
      "    result = ImmediateResult(func)\n",
      "  File \"C:\\Users\\Admin\\.conda\\envs\\dsi27tf\\lib\\site-packages\\joblib\\_parallel_backends.py\", line 572, in __init__\n",
      "    self.results = batch()\n",
      "  File \"C:\\Users\\Admin\\.conda\\envs\\dsi27tf\\lib\\site-packages\\joblib\\parallel.py\", line 263, in __call__\n",
      "    for func, args, kwargs in self.items]\n",
      "  File \"C:\\Users\\Admin\\.conda\\envs\\dsi27tf\\lib\\site-packages\\joblib\\parallel.py\", line 263, in <listcomp>\n",
      "    for func, args, kwargs in self.items]\n",
      "  File \"C:\\Users\\Admin\\.conda\\envs\\dsi27tf\\lib\\site-packages\\sklearn\\utils\\fixes.py\", line 216, in __call__\n",
      "    return self.function(*args, **kwargs)\n",
      "  File \"C:\\Users\\Admin\\.conda\\envs\\dsi27tf\\lib\\site-packages\\sklearn\\linear_model\\_logistic.py\", line 878, in _logistic_regression_path\n",
      "    is_saga=(solver == \"saga\"),\n",
      "  File \"C:\\Users\\Admin\\.conda\\envs\\dsi27tf\\lib\\site-packages\\sklearn\\linear_model\\_sag.py\", line 348, in sag_solver\n",
      "    verbose,\n",
      "  File \"sklearn\\linear_model\\_sag_fast.pyx\", line 616, in sklearn.linear_model._sag_fast.sag64\n",
      "ValueError: Floating-point under-/overflow occurred at epoch #1. Scaling input data with StandardScaler or MinMaxScaler might help.\n",
      "\n",
      "  warnings.warn(some_fits_failed_message, FitFailedWarning)\n",
      "C:\\Users\\Admin\\.conda\\envs\\dsi27tf\\lib\\site-packages\\sklearn\\model_selection\\_search.py:972: UserWarning: One or more of the test scores are non-finite: [       nan 0.79239047 0.79191291 0.79174756 0.79149055 0.79128484\n",
      " 0.79117596 0.79109609 0.79103782 0.7909191 ]\n",
      "  category=UserWarning,\n",
      "C:\\Users\\Admin\\.conda\\envs\\dsi27tf\\lib\\site-packages\\sklearn\\linear_model\\_sag.py:354: ConvergenceWarning: The max_iter was reached which means the coef_ did not converge\n",
      "  ConvergenceWarning,\n"
     ]
    },
    {
     "data": {
      "text/plain": [
       "GridSearchCV(cv=5,\n",
       "             estimator=Pipeline(steps=[('smote', SMOTE(random_state=42)),\n",
       "                                       ('logisticregression',\n",
       "                                        LogisticRegression(max_iter=1000,\n",
       "                                                           penalty='elasticnet',\n",
       "                                                           random_state=42,\n",
       "                                                           solver='saga'))]),\n",
       "             n_jobs=-1,\n",
       "             param_grid={'logisticregression__C': array([0.        , 0.55555556, 1.11111111, 1.66666667, 2.22222222,\n",
       "       2.77777778, 3.33333333, 3.88888889, 4.44444444, 5.        ]),\n",
       "                         'logisticregression__l1_ratio': [1]},\n",
       "             scoring='roc_auc')"
      ]
     },
     "execution_count": 28,
     "metadata": {},
     "output_type": "execute_result"
    }
   ],
   "source": [
    "# Fitting GridSearchCV with SMOTE and LogisticRegression on X_train_sc and y_train.\n",
    "\n",
    "gs_logreg.fit(X_train_sc, y_train)"
   ]
  },
  {
   "cell_type": "code",
   "execution_count": 29,
   "metadata": {},
   "outputs": [
    {
     "data": {
      "text/plain": [
       "{'logisticregression__C': 0.5555555555555556,\n",
       " 'logisticregression__l1_ratio': 1}"
      ]
     },
     "execution_count": 29,
     "metadata": {},
     "output_type": "execute_result"
    }
   ],
   "source": [
    "gs_logreg.best_params_"
   ]
  },
  {
   "cell_type": "code",
   "execution_count": 30,
   "metadata": {},
   "outputs": [],
   "source": [
    "# Scoring model for all matrix \n",
    "\n",
    "train_acc = gs_logreg.score(X_train_sc, y_train)\n",
    "cross_val_acc = gs_logreg.best_score_\n",
    "test_acc = gs_logreg.score(X_test_sc, y_test)\n",
    "preds = gs_logreg.predict(X_test_sc)\n",
    "y_pred_proba = gs_logreg.predict_proba(X_test_sc)\n",
    "\n",
    "confusion_matrix(y_test, # True values.\n",
    "                 preds)# Predicted values.\n",
    "tn, fp, fn, tp = confusion_matrix(y_test, preds).ravel();\n",
    "\n",
    "sensitivity = tp/(tp+fn)\n",
    "specificity = tn/(tn+fp)\n",
    "precision = tp/(tp+fp)\n",
    "roc_auc  = roc_auc_score(y_test, y_pred_proba[:,1])\n"
   ]
  },
  {
   "cell_type": "code",
   "execution_count": 31,
   "metadata": {},
   "outputs": [
    {
     "name": "stderr",
     "output_type": "stream",
     "text": [
      "C:\\Users\\Admin\\.conda\\envs\\dsi27tf\\lib\\site-packages\\sklearn\\utils\\deprecation.py:87: FutureWarning: Function plot_confusion_matrix is deprecated; Function `plot_confusion_matrix` is deprecated in 1.0 and will be removed in 1.2. Use one of the class methods: ConfusionMatrixDisplay.from_predictions or ConfusionMatrixDisplay.from_estimator.\n",
      "  warnings.warn(msg, category=FutureWarning)\n"
     ]
    },
    {
     "data": {
      "image/png": "[encoded data removed]",
      "text/plain": [
       "<Figure size 432x288 with 2 Axes>"
      ]
     },
     "metadata": {
      "needs_background": "light"
     },
     "output_type": "display_data"
    }
   ],
   "source": [
    "# Plot Confusion matrix\n",
    "plot_confusion_matrix(gs_logreg, X_test_sc, y_test, cmap='Blues', \n",
    "                      values_format='d', display_labels=['No WnvPresent', 'WnvPresent']);                 "
   ]
  },
  {
   "cell_type": "code",
   "execution_count": 32,
   "metadata": {},
   "outputs": [],
   "source": [
    "summary_df = pd.DataFrame(columns=['Classifier',\n",
    "                                   'Class Balancing Technique',\n",
    "                                   'Train Accuracy',\n",
    "                                   'GridSearchCV Accuracy',\n",
    "                                   'Actual Test Accuracy',\n",
    "                                   'Overfit (-ve) / Underfit (+ve)',\n",
    "                                   'Sensitivity',\n",
    "                                   'Specificity',\n",
    "                                   'Precision',\n",
    "                                   'ROC-AUC',\n",
    "                                  ])"
   ]
  },
  {
   "cell_type": "code",
   "execution_count": 33,
   "metadata": {},
   "outputs": [
    {
     "data": {
      "text/html": [
       "<div>\n",
       "<style scoped>\n",
       "    .dataframe tbody tr th:only-of-type {\n",
       "        vertical-align: middle;\n",
       "    }\n",
       "\n",
       "    .dataframe tbody tr th {\n",
       "        vertical-align: top;\n",
       "    }\n",
       "\n",
       "    .dataframe thead th {\n",
       "        text-align: right;\n",
       "    }\n",
       "</style>\n",
       "<table border=\"1\" class=\"dataframe\">\n",
       "  <thead>\n",
       "    <tr style=\"text-align: right;\">\n",
       "      <th></th>\n",
       "      <th>Classifier</th>\n",
       "      <th>Class Balancing Technique</th>\n",
       "      <th>Train Accuracy</th>\n",
       "      <th>GridSearchCV Accuracy</th>\n",
       "      <th>Actual Test Accuracy</th>\n",
       "      <th>Overfit (-ve) / Underfit (+ve)</th>\n",
       "      <th>Sensitivity</th>\n",
       "      <th>Specificity</th>\n",
       "      <th>Precision</th>\n",
       "      <th>ROC-AUC</th>\n",
       "    </tr>\n",
       "  </thead>\n",
       "  <tbody>\n",
       "    <tr>\n",
       "      <th>1</th>\n",
       "      <td>LogisticRegression</td>\n",
       "      <td>SMOTE</td>\n",
       "      <td>0.865</td>\n",
       "      <td>0.792</td>\n",
       "      <td>0.802</td>\n",
       "      <td>0.063</td>\n",
       "      <td>0.737</td>\n",
       "      <td>0.75</td>\n",
       "      <td>0.143</td>\n",
       "      <td>0.802</td>\n",
       "    </tr>\n",
       "  </tbody>\n",
       "</table>\n",
       "</div>"
      ],
      "text/plain": [
       "           Classifier Class Balancing Technique  Train Accuracy  \\\n",
       "1  LogisticRegression                     SMOTE           0.865   \n",
       "\n",
       "   GridSearchCV Accuracy  Actual Test Accuracy  \\\n",
       "1                  0.792                 0.802   \n",
       "\n",
       "   Overfit (-ve) / Underfit (+ve)  Sensitivity  Specificity  Precision  \\\n",
       "1                           0.063        0.737         0.75      0.143   \n",
       "\n",
       "   ROC-AUC  \n",
       "1    0.802  "
      ]
     },
     "execution_count": 33,
     "metadata": {},
     "output_type": "execute_result"
    }
   ],
   "source": [
    "summary_df.loc[1] = [\"LogisticRegression\",\n",
    "                     \"SMOTE\",\n",
    "                     round(train_acc, 3),\n",
    "                     round(cross_val_acc, 3),\n",
    "                     round(test_acc, 3),\n",
    "                     round(train_acc-test_acc, 3),\n",
    "                     round(sensitivity, 3),\n",
    "                     round(specificity, 3),\n",
    "                     round(precision, 3),\n",
    "                     round(roc_auc, 3),\n",
    "                    ]\n",
    "\n",
    "summary_df"
   ]
  },
  {
   "cell_type": "markdown",
   "metadata": {},
   "source": [
    "### Random Forest Classifier & SMOTE"
   ]
  },
  {
   "cell_type": "code",
   "execution_count": 34,
   "metadata": {},
   "outputs": [],
   "source": [
    "# # Creating a pipeline object using imblearn.pipeline with SMOTE and RandomForestClassifier.\n",
    "\n",
    "# rfc_smote_pipe = make_pipeline(\n",
    "#     SMOTE(\n",
    "#         # sampling_strategy='minority',\n",
    "#         random_state=42,\n",
    "#         k_neighbors=21,    \n",
    "#     ),\n",
    "#     RandomForestClassifier(\n",
    "#         n_estimators=2500,\n",
    "#         ccp_alpha=0,\n",
    "#         max_depth=3,\n",
    "#         # min_samples_split=5,\n",
    "#         # min_samples_leaf=200,\n",
    "#         random_state=42,\n",
    "#     )\n",
    "# )"
   ]
  },
  {
   "cell_type": "code",
   "execution_count": 35,
   "metadata": {},
   "outputs": [],
   "source": [
    "# Creating a pipeline object using imblearn.pipeline with SMOTE and RandomForestClassifier.\n",
    "\n",
    "rfc_smote_pipe = make_pipeline(\n",
    "    SMOTE(\n",
    "        # sampling_strategy='minority',\n",
    "        random_state=42,\n",
    "        k_neighbors=19,    \n",
    "    ),\n",
    "    RandomForestClassifier(\n",
    "        n_estimators=2250,\n",
    "        ccp_alpha=0,\n",
    "        max_depth=3,\n",
    "        random_state=42,\n",
    "    )\n",
    ")\n"
   ]
  },
  {
   "cell_type": "code",
   "execution_count": 36,
   "metadata": {},
   "outputs": [
    {
     "data": {
      "text/plain": [
       "Pipeline(steps=[('smote', SMOTE(k_neighbors=19, random_state=42)),\n",
       "                ('randomforestclassifier',\n",
       "                 RandomForestClassifier(ccp_alpha=0, max_depth=3,\n",
       "                                        n_estimators=2250, random_state=42))])"
      ]
     },
     "execution_count": 36,
     "metadata": {},
     "output_type": "execute_result"
    }
   ],
   "source": [
    "# Fitting X_train_sc and y_train on the pipeline object defined above.\n",
    "\n",
    "rfc_smote_pipe.fit(X_train_sc, y_train)"
   ]
  },
  {
   "cell_type": "code",
   "execution_count": 37,
   "metadata": {},
   "outputs": [],
   "source": [
    "# # Establishing ranges of hyperparameters for GridSearchCV\n",
    "\n",
    "# pipe_rfs_smote = {\n",
    "#     'randomforestclassifier__n_estimators': np.linspace(2000,5000,5, dtype=int)\n",
    "#     # 'randomforestclassifier__max_depth': [3,5,8],\n",
    "#     # 'randomforestclassifier__min_samples_leaf': [3,4,5],\n",
    "#     # 'randomforestclassifier__min_samples_split': [3,4,5],\n",
    "#     # 'randomforestclassifier__ccp_alpha': [0.04]\n",
    "#     }"
   ]
  },
  {
   "cell_type": "code",
   "execution_count": 38,
   "metadata": {},
   "outputs": [],
   "source": [
    "# # Creating a GridSearchCV with scoring of ROC_AUC with Randomforest\n",
    "\n",
    "# gs_pipe_rfs_smote = GridSearchCV(rfc_smote_pipe, \n",
    "#                         param_grid=pipe_rfs_smote, \n",
    "#                         cv=3, \n",
    "#                         scoring='roc_auc',\n",
    "#                         n_jobs = -1\n",
    "#                        )"
   ]
  },
  {
   "cell_type": "code",
   "execution_count": 39,
   "metadata": {},
   "outputs": [],
   "source": [
    "# # Fitting GridSearchCV with Random Forest Classifier\n",
    "\n",
    "# gs_pipe_rfs_smote.fit(X_train_sc, y_train)"
   ]
  },
  {
   "cell_type": "code",
   "execution_count": 40,
   "metadata": {},
   "outputs": [],
   "source": [
    "# gs_pipe_rfs_smote.best_params_"
   ]
  },
  {
   "cell_type": "code",
   "execution_count": 41,
   "metadata": {},
   "outputs": [],
   "source": [
    "# Scoring model for all matrix \n",
    "\n",
    "train_acc = rfc_smote_pipe.score(X_train_sc, y_train)\n",
    "cross_val_acc = cross_val_score(rfc_smote_pipe, X_train_sc,y_train, cv=3).mean()\n",
    "test_acc = rfc_smote_pipe.score(X_test_sc, y_test)\n",
    "preds = rfc_smote_pipe.predict(X_test_sc)\n",
    "y_pred_proba = rfc_smote_pipe.predict_proba(X_test_sc)\n",
    "confusion_matrix(y_test, # True values.\n",
    "                 preds)# Predicted values.\n",
    "tn, fp, fn, tp = confusion_matrix(y_test, preds).ravel();\n",
    "\n",
    "sensitivity = tp/(tp+fn)\n",
    "specificity = tn/(tn+fp)\n",
    "precision = tp/(tp+fp)\n",
    "roc_auc  = roc_auc_score(y_test, y_pred_proba[:,1])\n"
   ]
  },
  {
   "cell_type": "code",
   "execution_count": 42,
   "metadata": {},
   "outputs": [
    {
     "name": "stderr",
     "output_type": "stream",
     "text": [
      "C:\\Users\\Admin\\.conda\\envs\\dsi27tf\\lib\\site-packages\\sklearn\\utils\\deprecation.py:87: FutureWarning: Function plot_confusion_matrix is deprecated; Function `plot_confusion_matrix` is deprecated in 1.0 and will be removed in 1.2. Use one of the class methods: ConfusionMatrixDisplay.from_predictions or ConfusionMatrixDisplay.from_estimator.\n",
      "  warnings.warn(msg, category=FutureWarning)\n"
     ]
    },
    {
     "data": {
      "image/png": "[encoded data removed]",
      "text/plain": [
       "<Figure size 432x288 with 2 Axes>"
      ]
     },
     "metadata": {
      "needs_background": "light"
     },
     "output_type": "display_data"
    }
   ],
   "source": [
    "# Plot Confusion matrix\n",
    "plot_confusion_matrix(rfc_smote_pipe, X_test_sc, y_test, cmap='Blues', \n",
    "                      values_format='d', display_labels=['No WnvPresent', 'WnvPresent']);                 "
   ]
  },
  {
   "cell_type": "code",
   "execution_count": 43,
   "metadata": {},
   "outputs": [
    {
     "data": {
      "text/html": [
       "<div>\n",
       "<style scoped>\n",
       "    .dataframe tbody tr th:only-of-type {\n",
       "        vertical-align: middle;\n",
       "    }\n",
       "\n",
       "    .dataframe tbody tr th {\n",
       "        vertical-align: top;\n",
       "    }\n",
       "\n",
       "    .dataframe thead th {\n",
       "        text-align: right;\n",
       "    }\n",
       "</style>\n",
       "<table border=\"1\" class=\"dataframe\">\n",
       "  <thead>\n",
       "    <tr style=\"text-align: right;\">\n",
       "      <th></th>\n",
       "      <th>Classifier</th>\n",
       "      <th>Class Balancing Technique</th>\n",
       "      <th>Train Accuracy</th>\n",
       "      <th>GridSearchCV Accuracy</th>\n",
       "      <th>Actual Test Accuracy</th>\n",
       "      <th>Overfit (-ve) / Underfit (+ve)</th>\n",
       "      <th>Sensitivity</th>\n",
       "      <th>Specificity</th>\n",
       "      <th>Precision</th>\n",
       "      <th>ROC-AUC</th>\n",
       "    </tr>\n",
       "  </thead>\n",
       "  <tbody>\n",
       "    <tr>\n",
       "      <th>1</th>\n",
       "      <td>LogisticRegression</td>\n",
       "      <td>SMOTE</td>\n",
       "      <td>0.865</td>\n",
       "      <td>0.792</td>\n",
       "      <td>0.802</td>\n",
       "      <td>0.063</td>\n",
       "      <td>0.737</td>\n",
       "      <td>0.750</td>\n",
       "      <td>0.143</td>\n",
       "      <td>0.802</td>\n",
       "    </tr>\n",
       "    <tr>\n",
       "      <th>2</th>\n",
       "      <td>RandomForestClassifier</td>\n",
       "      <td>SMOTE</td>\n",
       "      <td>0.834</td>\n",
       "      <td>0.839</td>\n",
       "      <td>0.819</td>\n",
       "      <td>0.015</td>\n",
       "      <td>0.465</td>\n",
       "      <td>0.839</td>\n",
       "      <td>0.141</td>\n",
       "      <td>0.749</td>\n",
       "    </tr>\n",
       "  </tbody>\n",
       "</table>\n",
       "</div>"
      ],
      "text/plain": [
       "               Classifier Class Balancing Technique  Train Accuracy  \\\n",
       "1      LogisticRegression                     SMOTE           0.865   \n",
       "2  RandomForestClassifier                     SMOTE           0.834   \n",
       "\n",
       "   GridSearchCV Accuracy  Actual Test Accuracy  \\\n",
       "1                  0.792                 0.802   \n",
       "2                  0.839                 0.819   \n",
       "\n",
       "   Overfit (-ve) / Underfit (+ve)  Sensitivity  Specificity  Precision  \\\n",
       "1                           0.063        0.737        0.750      0.143   \n",
       "2                           0.015        0.465        0.839      0.141   \n",
       "\n",
       "   ROC-AUC  \n",
       "1    0.802  \n",
       "2    0.749  "
      ]
     },
     "execution_count": 43,
     "metadata": {},
     "output_type": "execute_result"
    }
   ],
   "source": [
    "summary_df.loc[2] = [\"RandomForestClassifier\",\n",
    "                     \"SMOTE\",\n",
    "                     round(train_acc, 3),\n",
    "                     round(cross_val_acc, 3),\n",
    "                     round(test_acc, 3),\n",
    "                     round(train_acc-test_acc, 3),\n",
    "                     round(sensitivity, 3),\n",
    "                     round(specificity, 3),\n",
    "                     round(precision, 3),\n",
    "                     round(roc_auc, 3),\n",
    "                    ]\n",
    "\n",
    "summary_df"
   ]
  },
  {
   "cell_type": "markdown",
   "metadata": {},
   "source": [
    "After tuning `RandomForestClassifier with Smote`, we can see that the accuracy and ROC-AUC is better than `LogisticRegression`. \n",
    "\n",
    "However, sensitivity will be hard to tune upwards while maintaining high precision and ROC_AUC. Bumping up the sensitivity will bring down overall accuracy, ROC_AUC and Precision. Anything below below ROC_AUC score of 0.8 will not be good as per ([source](https://www.ncbi.nlm.nih.gov/pmc/articles/PMC2935260/#:~:text=The%20area%20under%20the%20ROC,AUC%20values%20between%200.5%2D0.6.)). Hence, we can explore tuning RandomForestClassifier with balanced subsample."
   ]
  },
  {
   "cell_type": "markdown",
   "metadata": {},
   "source": [
    "### Random Forest Classifier & Hyperparameter class_weight = `balance_subsample`"
   ]
  },
  {
   "cell_type": "markdown",
   "metadata": {},
   "source": [
    "We will be manually tuning the parameters as GridsearchCV will only optimise the model based on one scoring parameter. There is a need to find a balance between multiple matrix like accuracy, sensitivity, specifity, precision and ROC_AUC. \n"
   ]
  },
  {
   "cell_type": "code",
   "execution_count": 44,
   "metadata": {},
   "outputs": [],
   "source": [
    "rfs_hyperparam_bal =  RandomForestClassifier(\n",
    "        n_estimators=1500,\n",
    "        ccp_alpha=0,\n",
    "        max_depth=10,\n",
    "        min_samples_split=5,\n",
    "        min_samples_leaf=5,\n",
    "        random_state=42,\n",
    "        class_weight='balanced_subsample')"
   ]
  },
  {
   "cell_type": "code",
   "execution_count": 45,
   "metadata": {},
   "outputs": [
    {
     "data": {
      "text/plain": [
       "RandomForestClassifier(ccp_alpha=0, class_weight='balanced_subsample',\n",
       "                       max_depth=10, min_samples_leaf=5, min_samples_split=5,\n",
       "                       n_estimators=1500, random_state=42)"
      ]
     },
     "execution_count": 45,
     "metadata": {},
     "output_type": "execute_result"
    }
   ],
   "source": [
    "# Fitting X_train_sc and y_train on RandomForestClassifier object defined above.\n",
    "\n",
    "rfs_hyperparam_bal.fit(X_train_sc, y_train)"
   ]
  },
  {
   "cell_type": "code",
   "execution_count": 46,
   "metadata": {},
   "outputs": [],
   "source": [
    "# # Establishing ranges of hyperparameters for GridSearchCV\n",
    "\n",
    "# pipe_rfs_hyperparam_bal = {\n",
    "#     'randomforestclassifier__n_estimators': [100,200,300],\n",
    "#     'randomforestclassifier__max_depth': [5,6],\n",
    "#     'randomforestclassifier__max_features': ['sqrt','log2',None],\n",
    "#     'randomforestclassifier__min_samples_split': [4,5],\n",
    "#     'randomforestclassifier__min_samples_leaf': [2,3,4] \n",
    "#     }"
   ]
  },
  {
   "cell_type": "code",
   "execution_count": 47,
   "metadata": {},
   "outputs": [],
   "source": [
    "# # Creating a GridSearchCV with scoring of ROC_AUC with Randomforest\n",
    "\n",
    "# gs_rfs_hyperparam_bal = GridSearchCV(rfs_hyperparam_bal, \n",
    "#                         param_grid=pipe_rfs_hyperparam_bal, \n",
    "#                         cv=5, \n",
    "#                         scoring='roc_auc',\n",
    "#                         n_jobs = -1\n",
    "#                        )"
   ]
  },
  {
   "cell_type": "code",
   "execution_count": 48,
   "metadata": {},
   "outputs": [
    {
     "data": {
      "text/plain": [
       "RandomForestClassifier(ccp_alpha=0, class_weight='balanced_subsample',\n",
       "                       max_depth=10, min_samples_leaf=5, min_samples_split=5,\n",
       "                       n_estimators=1500, random_state=42)"
      ]
     },
     "execution_count": 48,
     "metadata": {},
     "output_type": "execute_result"
    }
   ],
   "source": [
    "# Fitting GridSearchCV with Random Forest Classifier\n",
    "\n",
    "rfs_hyperparam_bal.fit(X_train_sc, y_train)"
   ]
  },
  {
   "cell_type": "code",
   "execution_count": 49,
   "metadata": {},
   "outputs": [],
   "source": [
    "# # Best params for rfs with SMOTE\n",
    "# gs_rfs_hyperparam_bal.best_params_"
   ]
  },
  {
   "cell_type": "code",
   "execution_count": 50,
   "metadata": {},
   "outputs": [],
   "source": [
    "# Scoring model for all matrix \n",
    "\n",
    "train_acc = rfs_hyperparam_bal.score(X_train_sc, y_train)\n",
    "cross_val_acc = cross_val_score(rfs_hyperparam_bal,X_train_sc,y_train, cv = 5).mean()\n",
    "test_acc = rfs_hyperparam_bal.score(X_test_sc, y_test)\n",
    "preds = rfs_hyperparam_bal.predict(X_test_sc)\n",
    "y_pred_proba = rfs_hyperparam_bal.predict_proba(X_test_sc)\n",
    "\n",
    "confusion_matrix(y_test, # True values.\n",
    "                 preds)# Predicted values.\n",
    "tn, fp, fn, tp = confusion_matrix(y_test, preds).ravel();\n",
    "\n",
    "sensitivity = tp/(tp+fn)\n",
    "specificity = tn/(tn+fp)\n",
    "precision = tp/(tp+fp)\n",
    "roc_auc  = roc_auc_score(y_test, y_pred_proba[:,1])\n"
   ]
  },
  {
   "cell_type": "code",
   "execution_count": 51,
   "metadata": {},
   "outputs": [
    {
     "name": "stderr",
     "output_type": "stream",
     "text": [
      "C:\\Users\\Admin\\.conda\\envs\\dsi27tf\\lib\\site-packages\\sklearn\\utils\\deprecation.py:87: FutureWarning: Function plot_confusion_matrix is deprecated; Function `plot_confusion_matrix` is deprecated in 1.0 and will be removed in 1.2. Use one of the class methods: ConfusionMatrixDisplay.from_predictions or ConfusionMatrixDisplay.from_estimator.\n",
      "  warnings.warn(msg, category=FutureWarning)\n"
     ]
    },
    {
     "data": {
      "image/png": "[encoded data removed]",
      "text/plain": [
       "<Figure size 432x288 with 2 Axes>"
      ]
     },
     "metadata": {
      "needs_background": "light"
     },
     "output_type": "display_data"
    }
   ],
   "source": [
    "# Plot Confusion matrix\n",
    "plot_confusion_matrix(rfs_hyperparam_bal, X_test_sc, y_test, cmap='Blues', \n",
    "                      values_format='d', display_labels=['No WnvPresent', 'WnvPresent']);                 "
   ]
  },
  {
   "cell_type": "code",
   "execution_count": 52,
   "metadata": {},
   "outputs": [
    {
     "data": {
      "text/html": [
       "<div>\n",
       "<style scoped>\n",
       "    .dataframe tbody tr th:only-of-type {\n",
       "        vertical-align: middle;\n",
       "    }\n",
       "\n",
       "    .dataframe tbody tr th {\n",
       "        vertical-align: top;\n",
       "    }\n",
       "\n",
       "    .dataframe thead th {\n",
       "        text-align: right;\n",
       "    }\n",
       "</style>\n",
       "<table border=\"1\" class=\"dataframe\">\n",
       "  <thead>\n",
       "    <tr style=\"text-align: right;\">\n",
       "      <th></th>\n",
       "      <th>Classifier</th>\n",
       "      <th>Class Balancing Technique</th>\n",
       "      <th>Train Accuracy</th>\n",
       "      <th>GridSearchCV Accuracy</th>\n",
       "      <th>Actual Test Accuracy</th>\n",
       "      <th>Overfit (-ve) / Underfit (+ve)</th>\n",
       "      <th>Sensitivity</th>\n",
       "      <th>Specificity</th>\n",
       "      <th>Precision</th>\n",
       "      <th>ROC-AUC</th>\n",
       "    </tr>\n",
       "  </thead>\n",
       "  <tbody>\n",
       "    <tr>\n",
       "      <th>1</th>\n",
       "      <td>LogisticRegression</td>\n",
       "      <td>SMOTE</td>\n",
       "      <td>0.865</td>\n",
       "      <td>0.792</td>\n",
       "      <td>0.802</td>\n",
       "      <td>0.063</td>\n",
       "      <td>0.737</td>\n",
       "      <td>0.750</td>\n",
       "      <td>0.143</td>\n",
       "      <td>0.802</td>\n",
       "    </tr>\n",
       "    <tr>\n",
       "      <th>2</th>\n",
       "      <td>RandomForestClassifier</td>\n",
       "      <td>SMOTE</td>\n",
       "      <td>0.834</td>\n",
       "      <td>0.839</td>\n",
       "      <td>0.819</td>\n",
       "      <td>0.015</td>\n",
       "      <td>0.465</td>\n",
       "      <td>0.839</td>\n",
       "      <td>0.141</td>\n",
       "      <td>0.749</td>\n",
       "    </tr>\n",
       "    <tr>\n",
       "      <th>3</th>\n",
       "      <td>RandomForestClassifier</td>\n",
       "      <td>Hyperparameter: Balanced Subsample</td>\n",
       "      <td>0.765</td>\n",
       "      <td>0.767</td>\n",
       "      <td>0.747</td>\n",
       "      <td>0.019</td>\n",
       "      <td>0.746</td>\n",
       "      <td>0.747</td>\n",
       "      <td>0.143</td>\n",
       "      <td>0.826</td>\n",
       "    </tr>\n",
       "  </tbody>\n",
       "</table>\n",
       "</div>"
      ],
      "text/plain": [
       "               Classifier           Class Balancing Technique  Train Accuracy  \\\n",
       "1      LogisticRegression                               SMOTE           0.865   \n",
       "2  RandomForestClassifier                               SMOTE           0.834   \n",
       "3  RandomForestClassifier  Hyperparameter: Balanced Subsample           0.765   \n",
       "\n",
       "   GridSearchCV Accuracy  Actual Test Accuracy  \\\n",
       "1                  0.792                 0.802   \n",
       "2                  0.839                 0.819   \n",
       "3                  0.767                 0.747   \n",
       "\n",
       "   Overfit (-ve) / Underfit (+ve)  Sensitivity  Specificity  Precision  \\\n",
       "1                           0.063        0.737        0.750      0.143   \n",
       "2                           0.015        0.465        0.839      0.141   \n",
       "3                           0.019        0.746        0.747      0.143   \n",
       "\n",
       "   ROC-AUC  \n",
       "1    0.802  \n",
       "2    0.749  \n",
       "3    0.826  "
      ]
     },
     "execution_count": 52,
     "metadata": {},
     "output_type": "execute_result"
    }
   ],
   "source": [
    "summary_df.loc[3] = [\"RandomForestClassifier\",\n",
    "                     \"Hyperparameter: Balanced Subsample\",\n",
    "                     round(train_acc, 3),\n",
    "                     round(cross_val_acc, 3),\n",
    "                     round(test_acc, 3),\n",
    "                     round(train_acc-test_acc, 3),\n",
    "                     round(sensitivity, 3),\n",
    "                     round(specificity, 3),\n",
    "                     round(precision, 3),\n",
    "                     round(roc_auc, 3),\n",
    "                    ]\n",
    "\n",
    "summary_df"
   ]
  },
  {
   "cell_type": "markdown",
   "metadata": {},
   "source": [
    "This hyperparameter tuning enables RandomForestClassifier to handle unbalanced dataset without using the oversampling method, SMOTE. Although the test accuracy suffers a little, the sensitivity and ROC_AUC improved. "
   ]
  },
  {
   "cell_type": "markdown",
   "metadata": {},
   "source": [
    "### SVC with Class weight tuning"
   ]
  },
  {
   "cell_type": "code",
   "execution_count": 53,
   "metadata": {},
   "outputs": [
    {
     "data": {
      "text/plain": [
       "0.0    6013\n",
       "1.0     343\n",
       "Name: wnvpresent, dtype: int64"
      ]
     },
     "execution_count": 53,
     "metadata": {},
     "output_type": "execute_result"
    }
   ],
   "source": [
    "y_train.value_counts()"
   ]
  },
  {
   "cell_type": "code",
   "execution_count": 54,
   "metadata": {},
   "outputs": [],
   "source": [
    "# Weights tuned down for y and tuned up for minority class \n",
    "weights = {0:0.4, 1:100}\n",
    "\n",
    "# Instantiating SVC with weight tuning\n",
    "svc  = SVC(\n",
    "        kernel='rbf',\n",
    "        probability=True, \n",
    "        class_weight=weights,\n",
    "        random_state=42,\n",
    "        C = 0.5\n",
    ")"
   ]
  },
  {
   "cell_type": "code",
   "execution_count": 55,
   "metadata": {},
   "outputs": [
    {
     "data": {
      "text/plain": [
       "SVC(C=0.5, class_weight={0: 0.4, 1: 100}, probability=True, random_state=42)"
      ]
     },
     "execution_count": 55,
     "metadata": {},
     "output_type": "execute_result"
    }
   ],
   "source": [
    "# Fitting X_train_sc and y_train on SVC\n",
    "\n",
    "svc.fit(X_train_sc, y_train)"
   ]
  },
  {
   "cell_type": "code",
   "execution_count": 56,
   "metadata": {},
   "outputs": [],
   "source": [
    "# Scoring model for all matrix \n",
    "\n",
    "train_acc = svc.score(X_train_sc, y_train)\n",
    "# cross_val_acc = cross_val_score(svc, X_train_sc,y_train, cv = 3).mean()\n",
    "test_acc = svc.score(X_test_sc, y_test)\n",
    "preds = svc.predict(X_test_sc)\n",
    "y_pred_proba = svc.predict_proba(X_test_sc)\n",
    "\n",
    "confusion_matrix(y_test, # True values.\n",
    "                 preds)# Predicted values.\n",
    "tn, fp, fn, tp = confusion_matrix(y_test, preds).ravel();\n",
    "\n",
    "sensitivity = tp/(tp+fn)\n",
    "specificity = tn/(tn+fp)\n",
    "precision = tp/(tp+fp)\n",
    "roc_auc  = roc_auc_score(y_test, y_pred_proba[:,1])\n"
   ]
  },
  {
   "cell_type": "code",
   "execution_count": 57,
   "metadata": {},
   "outputs": [
    {
     "name": "stderr",
     "output_type": "stream",
     "text": [
      "C:\\Users\\Admin\\.conda\\envs\\dsi27tf\\lib\\site-packages\\sklearn\\utils\\deprecation.py:87: FutureWarning: Function plot_confusion_matrix is deprecated; Function `plot_confusion_matrix` is deprecated in 1.0 and will be removed in 1.2. Use one of the class methods: ConfusionMatrixDisplay.from_predictions or ConfusionMatrixDisplay.from_estimator.\n",
      "  warnings.warn(msg, category=FutureWarning)\n"
     ]
    },
    {
     "data": {
      "image/png": "[encoded data removed]",
      "text/plain": [
       "<Figure size 432x288 with 2 Axes>"
      ]
     },
     "metadata": {
      "needs_background": "light"
     },
     "output_type": "display_data"
    }
   ],
   "source": [
    "# Plot Confusion matrix\n",
    "plot_confusion_matrix(svc, X_test_sc, y_test, cmap='Blues', \n",
    "                      values_format='d', display_labels=['No WnvPresent', 'WnvPresent']);                 "
   ]
  },
  {
   "cell_type": "code",
   "execution_count": 58,
   "metadata": {},
   "outputs": [
    {
     "data": {
      "text/html": [
       "<div>\n",
       "<style scoped>\n",
       "    .dataframe tbody tr th:only-of-type {\n",
       "        vertical-align: middle;\n",
       "    }\n",
       "\n",
       "    .dataframe tbody tr th {\n",
       "        vertical-align: top;\n",
       "    }\n",
       "\n",
       "    .dataframe thead th {\n",
       "        text-align: right;\n",
       "    }\n",
       "</style>\n",
       "<table border=\"1\" class=\"dataframe\">\n",
       "  <thead>\n",
       "    <tr style=\"text-align: right;\">\n",
       "      <th></th>\n",
       "      <th>Classifier</th>\n",
       "      <th>Class Balancing Technique</th>\n",
       "      <th>Train Accuracy</th>\n",
       "      <th>GridSearchCV Accuracy</th>\n",
       "      <th>Actual Test Accuracy</th>\n",
       "      <th>Overfit (-ve) / Underfit (+ve)</th>\n",
       "      <th>Sensitivity</th>\n",
       "      <th>Specificity</th>\n",
       "      <th>Precision</th>\n",
       "      <th>ROC-AUC</th>\n",
       "    </tr>\n",
       "  </thead>\n",
       "  <tbody>\n",
       "    <tr>\n",
       "      <th>1</th>\n",
       "      <td>LogisticRegression</td>\n",
       "      <td>SMOTE</td>\n",
       "      <td>0.865</td>\n",
       "      <td>0.792</td>\n",
       "      <td>0.802</td>\n",
       "      <td>0.063</td>\n",
       "      <td>0.737</td>\n",
       "      <td>0.750</td>\n",
       "      <td>0.143</td>\n",
       "      <td>0.802</td>\n",
       "    </tr>\n",
       "    <tr>\n",
       "      <th>2</th>\n",
       "      <td>RandomForestClassifier</td>\n",
       "      <td>SMOTE</td>\n",
       "      <td>0.834</td>\n",
       "      <td>0.839</td>\n",
       "      <td>0.819</td>\n",
       "      <td>0.015</td>\n",
       "      <td>0.465</td>\n",
       "      <td>0.839</td>\n",
       "      <td>0.141</td>\n",
       "      <td>0.749</td>\n",
       "    </tr>\n",
       "    <tr>\n",
       "      <th>3</th>\n",
       "      <td>RandomForestClassifier</td>\n",
       "      <td>Hyperparameter: Balanced Subsample</td>\n",
       "      <td>0.765</td>\n",
       "      <td>0.767</td>\n",
       "      <td>0.747</td>\n",
       "      <td>0.019</td>\n",
       "      <td>0.746</td>\n",
       "      <td>0.747</td>\n",
       "      <td>0.143</td>\n",
       "      <td>0.826</td>\n",
       "    </tr>\n",
       "    <tr>\n",
       "      <th>4</th>\n",
       "      <td>SVC</td>\n",
       "      <td>Hyperparameter: Balanced</td>\n",
       "      <td>0.708</td>\n",
       "      <td>0.767</td>\n",
       "      <td>0.667</td>\n",
       "      <td>0.041</td>\n",
       "      <td>0.711</td>\n",
       "      <td>0.664</td>\n",
       "      <td>0.107</td>\n",
       "      <td>0.747</td>\n",
       "    </tr>\n",
       "  </tbody>\n",
       "</table>\n",
       "</div>"
      ],
      "text/plain": [
       "               Classifier           Class Balancing Technique  Train Accuracy  \\\n",
       "1      LogisticRegression                               SMOTE           0.865   \n",
       "2  RandomForestClassifier                               SMOTE           0.834   \n",
       "3  RandomForestClassifier  Hyperparameter: Balanced Subsample           0.765   \n",
       "4                     SVC            Hyperparameter: Balanced           0.708   \n",
       "\n",
       "   GridSearchCV Accuracy  Actual Test Accuracy  \\\n",
       "1                  0.792                 0.802   \n",
       "2                  0.839                 0.819   \n",
       "3                  0.767                 0.747   \n",
       "4                  0.767                 0.667   \n",
       "\n",
       "   Overfit (-ve) / Underfit (+ve)  Sensitivity  Specificity  Precision  \\\n",
       "1                           0.063        0.737        0.750      0.143   \n",
       "2                           0.015        0.465        0.839      0.141   \n",
       "3                           0.019        0.746        0.747      0.143   \n",
       "4                           0.041        0.711        0.664      0.107   \n",
       "\n",
       "   ROC-AUC  \n",
       "1    0.802  \n",
       "2    0.749  \n",
       "3    0.826  \n",
       "4    0.747  "
      ]
     },
     "execution_count": 58,
     "metadata": {},
     "output_type": "execute_result"
    }
   ],
   "source": [
    "summary_df.loc[4] = [\"SVC\",\n",
    "                     \"Hyperparameter: Balanced\",\n",
    "                     round(train_acc, 3),\n",
    "                     round(cross_val_acc, 3),\n",
    "                     round(test_acc, 3),\n",
    "                     round(train_acc-test_acc, 3),\n",
    "                     round(sensitivity, 3),\n",
    "                     round(specificity, 3),\n",
    "                     round(precision, 3),\n",
    "                     round(roc_auc, 3),\n",
    "                    ]\n",
    "\n",
    "summary_df"
   ]
  },
  {
   "cell_type": "markdown",
   "metadata": {},
   "source": [
    "The SVC despite multiple tuning, was unable to get a good accuracy score while achieving higher sensitivity score. \n",
    "\n",
    "SVC is generally difficult to tune to get what we intended to achieve. Overall, its accuracy/specificity score are not as competitive as the rest of the models. Overall ROC_AUC is bad too, hence this model will not be useful."
   ]
  },
  {
   "cell_type": "markdown",
   "metadata": {},
   "source": [
    "### XGBoost & Hyperparameter tuned: `Scale_pos_weight`"
   ]
  },
  {
   "cell_type": "code",
   "execution_count": 59,
   "metadata": {},
   "outputs": [],
   "source": [
    "# xbg_model = XGBClassifier(\n",
    "#     objective = 'binary:logistic',\n",
    "#     booster = 'dart',\n",
    "#     learning_rate = 0.1\n",
    "# )\n",
    "\n",
    "\n",
    "# xbg_model = XGBClassifier( \n",
    "#     scale_pos_weight=30,\n",
    "#     learning_rate=0.005,  \n",
    "#     colsample_bytree = 0.6,\n",
    "#     subsample = 0.59,\n",
    "#     objective='binary:logistic', \n",
    "#     n_estimators=1120, \n",
    "#     reg_alpha = 0.1,\n",
    "#     max_depth=6, \n",
    "#     gamma=10,\n",
    "# )\n"
   ]
  },
  {
   "cell_type": "code",
   "execution_count": 60,
   "metadata": {},
   "outputs": [
    {
     "data": {
      "text/plain": [
       "XGBClassifier(base_score=None, booster=None, colsample_bylevel=None,\n",
       "              colsample_bynode=None, colsample_bytree=None,\n",
       "              enable_categorical=False, gamma=None, gpu_id=None,\n",
       "              importance_type=None, interaction_constraints=None,\n",
       "              learning_rate=None, max_delta_step=None, max_depth=None,\n",
       "              min_child_weight=None, missing=nan, monotone_constraints=None,\n",
       "              n_estimators=100, n_jobs=None, num_parallel_tree=None,\n",
       "              predictor=None, random_state=None, reg_alpha=None,\n",
       "              reg_lambda=None, scale_pos_weight=None, subsample=None,\n",
       "              tree_method=None, validate_parameters=None, verbosity=None)"
      ]
     },
     "execution_count": 60,
     "metadata": {},
     "output_type": "execute_result"
    }
   ],
   "source": [
    "xgb.XGBClassifier()"
   ]
  },
  {
   "cell_type": "code",
   "execution_count": 61,
   "metadata": {},
   "outputs": [
    {
     "name": "stderr",
     "output_type": "stream",
     "text": [
      "C:\\Users\\Admin\\.conda\\envs\\dsi27tf\\lib\\site-packages\\xgboost\\sklearn.py:1224: UserWarning: The use of label encoder in XGBClassifier is deprecated and will be removed in a future release. To remove this warning, do the following: 1) Pass option use_label_encoder=False when constructing XGBClassifier object; and 2) Encode your labels (y) as integers starting with 0, i.e. 0, 1, 2, ..., [num_class - 1].\n",
      "  warnings.warn(label_encoder_deprecation_msg, UserWarning)\n"
     ]
    },
    {
     "data": {
      "text/plain": [
       "XGBClassifier(base_score=0.5, booster='gbtree', colsample_bylevel=1,\n",
       "              colsample_bynode=1, colsample_bytree=0.49,\n",
       "              enable_categorical=False, gamma=0, gpu_id=-1,\n",
       "              importance_type=None, interaction_constraints='',\n",
       "              learning_rate=0.001, max_delta_step=0, max_depth=11,\n",
       "              min_child_weight=5, missing=nan, monotone_constraints='()',\n",
       "              n_estimators=100, n_jobs=6, num_parallel_tree=1, predictor='auto',\n",
       "              random_state=0, reg_alpha=0.15, reg_lambda=1, scale_pos_weight=21,\n",
       "              subsample=0.9, tree_method='exact', validate_parameters=1,\n",
       "              verbosity=None)"
      ]
     },
     "execution_count": 61,
     "metadata": {},
     "output_type": "execute_result"
    }
   ],
   "source": [
    "# fit XGBoost on training data\n",
    "\n",
    "xbg_model = XGBClassifier(\n",
    "    scale_pos_weight=21,\n",
    "    learning_rate=0.001,  \n",
    "    colsample_bytree = 0.49,\n",
    "    subsample = 0.9,\n",
    "    # objective='binary:logistic',\n",
    "    # booster = 'dart',\n",
    "    reg_alpha = 0.15,\n",
    "    max_depth= 11, \n",
    "    # gamma=5,\n",
    "    min_child_weight = 5\n",
    ")\n",
    "\n",
    "                      \n",
    "eval_set = [(X_test_sc,y_test)]\n",
    "\n",
    "\n",
    "# use AUC as eval matric\n",
    "xbg_model.fit(\n",
    "    X_train_sc,\n",
    "    y_train,\n",
    "    early_stopping_rounds=10,\n",
    "    eval_set=eval_set,\n",
    "    verbose = False,\n",
    "    eval_metric='auc'\n",
    ")"
   ]
  },
  {
   "cell_type": "code",
   "execution_count": 62,
   "metadata": {},
   "outputs": [
    {
     "data": {
      "text/plain": [
       "XGBClassifier(base_score=0.5, booster='gbtree', colsample_bylevel=1,\n",
       "              colsample_bynode=1, colsample_bytree=0.49,\n",
       "              enable_categorical=False, gamma=0, gpu_id=-1,\n",
       "              importance_type=None, interaction_constraints='',\n",
       "              learning_rate=0.001, max_delta_step=0, max_depth=11,\n",
       "              min_child_weight=5, missing=nan, monotone_constraints='()',\n",
       "              n_estimators=100, n_jobs=6, num_parallel_tree=1, predictor='auto',\n",
       "              random_state=0, reg_alpha=0.15, reg_lambda=1, scale_pos_weight=21,\n",
       "              subsample=0.9, tree_method='exact', validate_parameters=1,\n",
       "              verbosity=None)"
      ]
     },
     "execution_count": 62,
     "metadata": {},
     "output_type": "execute_result"
    }
   ],
   "source": [
    "# fit XGBoost on training data\n",
    "\n",
    "xbg_model = XGBClassifier(\n",
    "    scale_pos_weight=21,\n",
    "    learning_rate=0.001,  \n",
    "    colsample_bytree = 0.49,\n",
    "    subsample = 0.9,\n",
    "    # objective='binary:logistic',\n",
    "    # booster = 'dart',\n",
    "    reg_alpha = 0.15,\n",
    "    max_depth= 11, \n",
    "    # gamma=5,\n",
    "    min_child_weight = 5\n",
    ")\n",
    "\n",
    "                      \n",
    "eval_set = [(X_test_sc,y_test)]\n",
    "\n",
    "\n",
    "# use AUC as eval matric\n",
    "xbg_model.fit(\n",
    "    X_train_sc,\n",
    "    y_train,\n",
    "    early_stopping_rounds=10,\n",
    "    eval_set=eval_set,\n",
    "    verbose = False,\n",
    "    eval_metric='auc'\n",
    ")"
   ]
  },
  {
   "cell_type": "code",
   "execution_count": 63,
   "metadata": {},
   "outputs": [],
   "source": [
    "# # define data_dmatrix\n",
    "# data_dmatrix = xgb.DMatrix(data=X_train_sc,label=y_train)\n",
    "\n",
    "# params = {\n",
    "#     \"objective\":\"binary:logistic\",  \n",
    "#     'scale_pos_weight': 50,\n",
    "#     'learning_rate':0.001,  \n",
    "#     'colsample_bytree' : 0.32,\n",
    "#     'subsample' : 0.92,\n",
    "#     'booster' : 'dart',\n",
    "#     'reg_alpha' : 0.2,\n",
    "#     'max_depth':10, \n",
    "#     'gamma':5,\n",
    "#     'min_child_weight' : 19,\n",
    "# }\n",
    "\n",
    "# # to create cross val for xgboost\n",
    "# xgb_cv = cv(dtrain=data_dmatrix, params=params, nfold=5,\n",
    "#                     num_boost_round=30, early_stopping_rounds=10, metrics = 'auc', as_pandas=True, seed=42)\n",
    "\n",
    "# xgb_cv.mean()[2]"
   ]
  },
  {
   "cell_type": "code",
   "execution_count": 64,
   "metadata": {},
   "outputs": [],
   "source": [
    "# Scoring model for all matrix \n",
    "\n",
    "train_acc = xbg_model.score(X_train_sc, y_train)\n",
    "# cross_val_acc = xgb_cv.mean()[0]\n",
    "test_acc = xbg_model.score(X_test_sc, y_test)\n",
    "preds = xbg_model.predict(X_test_sc)\n",
    "y_pred_proba = xbg_model.predict_proba(X_test_sc)\n",
    "\n",
    "confusion_matrix(y_test, # True values.\n",
    "                 preds)# Predicted values.\n",
    "tn, fp, fn, tp = confusion_matrix(y_test, preds).ravel();\n",
    "\n",
    "sensitivity = tp/(tp+fn)\n",
    "specificity = tn/(tn+fp)\n",
    "precision = tp/(tp+fp)\n",
    "roc_auc  = roc_auc_score(y_test, y_pred_proba[:,1])\n"
   ]
  },
  {
   "cell_type": "code",
   "execution_count": 65,
   "metadata": {},
   "outputs": [
    {
     "name": "stderr",
     "output_type": "stream",
     "text": [
      "C:\\Users\\Admin\\.conda\\envs\\dsi27tf\\lib\\site-packages\\sklearn\\utils\\deprecation.py:87: FutureWarning: Function plot_confusion_matrix is deprecated; Function `plot_confusion_matrix` is deprecated in 1.0 and will be removed in 1.2. Use one of the class methods: ConfusionMatrixDisplay.from_predictions or ConfusionMatrixDisplay.from_estimator.\n",
      "  warnings.warn(msg, category=FutureWarning)\n"
     ]
    },
    {
     "data": {
      "image/png": "[encoded data removed]",
      "text/plain": [
       "<Figure size 432x288 with 2 Axes>"
      ]
     },
     "metadata": {
      "needs_background": "light"
     },
     "output_type": "display_data"
    }
   ],
   "source": [
    "# Plot Confusion matrix\n",
    "plot_confusion_matrix(xbg_model, X_test_sc, y_test, cmap='Blues', \n",
    "                      values_format='d', display_labels=['No WnvPresent', 'WnvPresent']);                 "
   ]
  },
  {
   "cell_type": "code",
   "execution_count": 66,
   "metadata": {},
   "outputs": [
    {
     "data": {
      "text/html": [
       "<div>\n",
       "<style scoped>\n",
       "    .dataframe tbody tr th:only-of-type {\n",
       "        vertical-align: middle;\n",
       "    }\n",
       "\n",
       "    .dataframe tbody tr th {\n",
       "        vertical-align: top;\n",
       "    }\n",
       "\n",
       "    .dataframe thead th {\n",
       "        text-align: right;\n",
       "    }\n",
       "</style>\n",
       "<table border=\"1\" class=\"dataframe\">\n",
       "  <thead>\n",
       "    <tr style=\"text-align: right;\">\n",
       "      <th></th>\n",
       "      <th>Classifier</th>\n",
       "      <th>Class Balancing Technique</th>\n",
       "      <th>Train Accuracy</th>\n",
       "      <th>GridSearchCV Accuracy</th>\n",
       "      <th>Actual Test Accuracy</th>\n",
       "      <th>Overfit (-ve) / Underfit (+ve)</th>\n",
       "      <th>Sensitivity</th>\n",
       "      <th>Specificity</th>\n",
       "      <th>Precision</th>\n",
       "      <th>ROC-AUC</th>\n",
       "    </tr>\n",
       "  </thead>\n",
       "  <tbody>\n",
       "    <tr>\n",
       "      <th>1</th>\n",
       "      <td>LogisticRegression</td>\n",
       "      <td>SMOTE</td>\n",
       "      <td>0.865</td>\n",
       "      <td>0.792</td>\n",
       "      <td>0.802</td>\n",
       "      <td>0.063</td>\n",
       "      <td>0.737</td>\n",
       "      <td>0.750</td>\n",
       "      <td>0.143</td>\n",
       "      <td>0.802</td>\n",
       "    </tr>\n",
       "    <tr>\n",
       "      <th>2</th>\n",
       "      <td>RandomForestClassifier</td>\n",
       "      <td>SMOTE</td>\n",
       "      <td>0.834</td>\n",
       "      <td>0.839</td>\n",
       "      <td>0.819</td>\n",
       "      <td>0.015</td>\n",
       "      <td>0.465</td>\n",
       "      <td>0.839</td>\n",
       "      <td>0.141</td>\n",
       "      <td>0.749</td>\n",
       "    </tr>\n",
       "    <tr>\n",
       "      <th>3</th>\n",
       "      <td>RandomForestClassifier</td>\n",
       "      <td>Hyperparameter: Balanced Subsample</td>\n",
       "      <td>0.765</td>\n",
       "      <td>0.767</td>\n",
       "      <td>0.747</td>\n",
       "      <td>0.019</td>\n",
       "      <td>0.746</td>\n",
       "      <td>0.747</td>\n",
       "      <td>0.143</td>\n",
       "      <td>0.826</td>\n",
       "    </tr>\n",
       "    <tr>\n",
       "      <th>4</th>\n",
       "      <td>SVC</td>\n",
       "      <td>Hyperparameter: Balanced</td>\n",
       "      <td>0.708</td>\n",
       "      <td>0.767</td>\n",
       "      <td>0.667</td>\n",
       "      <td>0.041</td>\n",
       "      <td>0.711</td>\n",
       "      <td>0.664</td>\n",
       "      <td>0.107</td>\n",
       "      <td>0.747</td>\n",
       "    </tr>\n",
       "    <tr>\n",
       "      <th>5</th>\n",
       "      <td>XGBoost</td>\n",
       "      <td>Hyperparameter: Scale_pos_weight</td>\n",
       "      <td>0.783</td>\n",
       "      <td>0.767</td>\n",
       "      <td>0.763</td>\n",
       "      <td>0.020</td>\n",
       "      <td>0.789</td>\n",
       "      <td>0.762</td>\n",
       "      <td>0.158</td>\n",
       "      <td>0.838</td>\n",
       "    </tr>\n",
       "  </tbody>\n",
       "</table>\n",
       "</div>"
      ],
      "text/plain": [
       "               Classifier           Class Balancing Technique  Train Accuracy  \\\n",
       "1      LogisticRegression                               SMOTE           0.865   \n",
       "2  RandomForestClassifier                               SMOTE           0.834   \n",
       "3  RandomForestClassifier  Hyperparameter: Balanced Subsample           0.765   \n",
       "4                     SVC            Hyperparameter: Balanced           0.708   \n",
       "5                 XGBoost    Hyperparameter: Scale_pos_weight           0.783   \n",
       "\n",
       "   GridSearchCV Accuracy  Actual Test Accuracy  \\\n",
       "1                  0.792                 0.802   \n",
       "2                  0.839                 0.819   \n",
       "3                  0.767                 0.747   \n",
       "4                  0.767                 0.667   \n",
       "5                  0.767                 0.763   \n",
       "\n",
       "   Overfit (-ve) / Underfit (+ve)  Sensitivity  Specificity  Precision  \\\n",
       "1                           0.063        0.737        0.750      0.143   \n",
       "2                           0.015        0.465        0.839      0.141   \n",
       "3                           0.019        0.746        0.747      0.143   \n",
       "4                           0.041        0.711        0.664      0.107   \n",
       "5                           0.020        0.789        0.762      0.158   \n",
       "\n",
       "   ROC-AUC  \n",
       "1    0.802  \n",
       "2    0.749  \n",
       "3    0.826  \n",
       "4    0.747  \n",
       "5    0.838  "
      ]
     },
     "execution_count": 66,
     "metadata": {},
     "output_type": "execute_result"
    }
   ],
   "source": [
    "summary_df.loc[5] = [\"XGBoost\",\n",
    "                    'Hyperparameter: Scale_pos_weight',\n",
    "                     round(train_acc, 3),\n",
    "                     round(cross_val_acc, 3),\n",
    "                     round(test_acc, 3),\n",
    "                     round(train_acc-test_acc, 3),\n",
    "                     round(sensitivity, 3),\n",
    "                     round(specificity, 3),\n",
    "                     round(precision, 3),\n",
    "                     round(roc_auc, 3),\n",
    "                    ]\n",
    "\n",
    "summary_df"
   ]
  },
  {
   "cell_type": "code",
   "execution_count": 67,
   "metadata": {},
   "outputs": [
    {
     "ename": "SyntaxError",
     "evalue": "invalid syntax (1763773627.py, line 1)",
     "output_type": "error",
     "traceback": [
      "\u001b[1;36m  File \u001b[1;32m\"C:\\Users\\Admin\\AppData\\Local\\Temp\\ipykernel_19560\\1763773627.py\"\u001b[1;36m, line \u001b[1;32m1\u001b[0m\n\u001b[1;33m    =\u001b[0m\n\u001b[1;37m    ^\u001b[0m\n\u001b[1;31mSyntaxError\u001b[0m\u001b[1;31m:\u001b[0m invalid syntax\n"
     ]
    }
   ],
   "source": [
    "="
   ]
  },
  {
   "cell_type": "code",
   "execution_count": null,
   "metadata": {},
   "outputs": [
    {
     "data": {
      "text/html": [
       "<div>\n",
       "<style scoped>\n",
       "    .dataframe tbody tr th:only-of-type {\n",
       "        vertical-align: middle;\n",
       "    }\n",
       "\n",
       "    .dataframe tbody tr th {\n",
       "        vertical-align: top;\n",
       "    }\n",
       "\n",
       "    .dataframe thead th {\n",
       "        text-align: right;\n",
       "    }\n",
       "</style>\n",
       "<table border=\"1\" class=\"dataframe\">\n",
       "  <thead>\n",
       "    <tr style=\"text-align: right;\">\n",
       "      <th></th>\n",
       "      <th>Classifier</th>\n",
       "      <th>Class Balancing Technique</th>\n",
       "      <th>Train Accuracy</th>\n",
       "      <th>GridSearchCV Accuracy</th>\n",
       "      <th>Actual Test Accuracy</th>\n",
       "      <th>Overfit (-ve) / Underfit (+ve)</th>\n",
       "      <th>Sensitivity</th>\n",
       "      <th>Specificity</th>\n",
       "      <th>Precision</th>\n",
       "      <th>ROC-AUC</th>\n",
       "    </tr>\n",
       "  </thead>\n",
       "  <tbody>\n",
       "    <tr>\n",
       "      <th>1</th>\n",
       "      <td>LogisticRegression</td>\n",
       "      <td>SMOTE</td>\n",
       "      <td>0.868</td>\n",
       "      <td>0.798</td>\n",
       "      <td>0.804</td>\n",
       "      <td>0.064</td>\n",
       "      <td>0.693</td>\n",
       "      <td>0.764</td>\n",
       "      <td>0.143</td>\n",
       "      <td>0.804</td>\n",
       "    </tr>\n",
       "    <tr>\n",
       "      <th>2</th>\n",
       "      <td>RandomForestClassifier</td>\n",
       "      <td>SMOTE</td>\n",
       "      <td>0.814</td>\n",
       "      <td>0.813</td>\n",
       "      <td>0.815</td>\n",
       "      <td>-0.000</td>\n",
       "      <td>0.491</td>\n",
       "      <td>0.833</td>\n",
       "      <td>0.143</td>\n",
       "      <td>0.753</td>\n",
       "    </tr>\n",
       "    <tr>\n",
       "      <th>3</th>\n",
       "      <td>RandomForestClassifier</td>\n",
       "      <td>Hyperparameter: Balanced Subsample</td>\n",
       "      <td>0.763</td>\n",
       "      <td>0.766</td>\n",
       "      <td>0.744</td>\n",
       "      <td>0.018</td>\n",
       "      <td>0.772</td>\n",
       "      <td>0.743</td>\n",
       "      <td>0.146</td>\n",
       "      <td>0.826</td>\n",
       "    </tr>\n",
       "    <tr>\n",
       "      <th>4</th>\n",
       "      <td>SVC</td>\n",
       "      <td>Hyperparameter: Balanced</td>\n",
       "      <td>0.715</td>\n",
       "      <td>0.766</td>\n",
       "      <td>0.680</td>\n",
       "      <td>0.035</td>\n",
       "      <td>0.658</td>\n",
       "      <td>0.681</td>\n",
       "      <td>0.105</td>\n",
       "      <td>0.750</td>\n",
       "    </tr>\n",
       "    <tr>\n",
       "      <th>5</th>\n",
       "      <td>XGBoost</td>\n",
       "      <td>Hyperparameter: Scale_pos_weight</td>\n",
       "      <td>0.789</td>\n",
       "      <td>0.883</td>\n",
       "      <td>0.761</td>\n",
       "      <td>0.028</td>\n",
       "      <td>0.763</td>\n",
       "      <td>0.761</td>\n",
       "      <td>0.153</td>\n",
       "      <td>0.843</td>\n",
       "    </tr>\n",
       "  </tbody>\n",
       "</table>\n",
       "</div>"
      ],
      "text/plain": [
       "               Classifier           Class Balancing Technique  Train Accuracy  \\\n",
       "1      LogisticRegression                               SMOTE           0.868   \n",
       "2  RandomForestClassifier                               SMOTE           0.814   \n",
       "3  RandomForestClassifier  Hyperparameter: Balanced Subsample           0.763   \n",
       "4                     SVC            Hyperparameter: Balanced           0.715   \n",
       "5                 XGBoost    Hyperparameter: Scale_pos_weight           0.789   \n",
       "\n",
       "   GridSearchCV Accuracy  Actual Test Accuracy  \\\n",
       "1                  0.798                 0.804   \n",
       "2                  0.813                 0.815   \n",
       "3                  0.766                 0.744   \n",
       "4                  0.766                 0.680   \n",
       "5                  0.883                 0.761   \n",
       "\n",
       "   Overfit (-ve) / Underfit (+ve)  Sensitivity  Specificity  Precision  \\\n",
       "1                           0.064        0.693        0.764      0.143   \n",
       "2                          -0.000        0.491        0.833      0.143   \n",
       "3                           0.018        0.772        0.743      0.146   \n",
       "4                           0.035        0.658        0.681      0.105   \n",
       "5                           0.028        0.763        0.761      0.153   \n",
       "\n",
       "   ROC-AUC  \n",
       "1    0.804  \n",
       "2    0.753  \n",
       "3    0.826  \n",
       "4    0.750  \n",
       "5    0.843  "
      ]
     },
     "execution_count": 649,
     "metadata": {},
     "output_type": "execute_result"
    }
   ],
   "source": [
    "summary_df.loc[5] = [\"XGBoost\",\n",
    "                    'Hyperparameter: Scale_pos_weight',\n",
    "                     round(train_acc, 3),\n",
    "                     round(cross_val_acc, 3),\n",
    "                     round(test_acc, 3),\n",
    "                     round(train_acc-test_acc, 3),\n",
    "                     round(sensitivity, 3),\n",
    "                     round(specificity, 3),\n",
    "                     round(precision, 3),\n",
    "                     round(roc_auc, 3),\n",
    "                    ]\n",
    "\n",
    "summary_df"
   ]
  },
  {
   "cell_type": "markdown",
   "metadata": {},
   "source": [
    "`XGBoost` has the `highest ROC_AUC and sensitivity scores` compared to the other models. Although it suffers from the train accuracies, it is relatively better fitted, achieving the best balance between bias and variance, allowing the model to predict well with unseen data. Although it has the a low precision, the priority is to strongly predict true wnv containing places in order to prevent a huge outbreak that may cause further monetary damage than just spending on spraying. Like they say, better be safe than sorry.  "
   ]
  },
  {
   "cell_type": "code",
   "execution_count": null,
   "metadata": {},
   "outputs": [
    {
     "ename": "SyntaxError",
     "evalue": "invalid syntax (1763773627.py, line 1)",
     "output_type": "error",
     "traceback": [
      "\u001b[1;36m  File \u001b[1;32m\"C:\\Users\\Admin\\AppData\\Local\\Temp\\ipykernel_16808\\1763773627.py\"\u001b[1;36m, line \u001b[1;32m1\u001b[0m\n\u001b[1;33m    =\u001b[0m\n\u001b[1;37m    ^\u001b[0m\n\u001b[1;31mSyntaxError\u001b[0m\u001b[1;31m:\u001b[0m invalid syntax\n"
     ]
    }
   ],
   "source": [
    "="
   ]
  },
  {
   "cell_type": "markdown",
   "metadata": {},
   "source": [
    "# Feature importance"
   ]
  },
  {
   "cell_type": "code",
   "execution_count": null,
   "metadata": {},
   "outputs": [],
   "source": [
    "def plot_feature_importance(importance,names,model_type):\n",
    "\n",
    "    #Create arrays from feature importance and feature names\n",
    "    feature_importance = np.array(importance)\n",
    "    feature_names = np.array(names)\n",
    "\n",
    "    #Create a DataFrame using a Dictionary\n",
    "    data={'feature_names':feature_names,'feature_importance':feature_importance}\n",
    "    fi_df = pd.DataFrame(data)\n",
    "\n",
    "    #Sort the DataFrame in order decreasing feature importance\n",
    "    fi_df.sort_values(by=['feature_importance'], ascending=False,inplace=True)\n",
    "\n",
    "    #Define size of bar plot\n",
    "    plt.figure(figsize=(15,40))\n",
    "    #Plot Searborn bar chart\n",
    "    sns.barplot(x=fi_df['feature_importance'], y=fi_df['feature_names'])\n",
    "\n",
    "    \n",
    "    #Add chart labels\n",
    "    plt.title(model_type + ' FEATURE IMPORTANCE')\n",
    "    plt.xlabel('FEATURE IMPORTANCE')\n",
    "    plt.ylabel('FEATURE NAMES')"
   ]
  },
  {
   "cell_type": "code",
   "execution_count": null,
   "metadata": {},
   "outputs": [
    {
     "data": {
      "image/png": "[encoded data removed]",
      "text/plain": [
       "<Figure size 1080x2880 with 1 Axes>"
      ]
     },
     "metadata": {
      "needs_background": "light"
     },
     "output_type": "display_data"
    }
   ],
   "source": [
    "plot_feature_importance(xbg_model.feature_importances_,X.columns,'XGBoost')"
   ]
  },
  {
   "cell_type": "code",
   "execution_count": null,
   "metadata": {},
   "outputs": [
    {
     "ename": "ValueError",
     "evalue": "cannot reshape array of size 98 into shape (222,)",
     "output_type": "error",
     "traceback": [
      "\u001b[1;31m---------------------------------------------------------------------------\u001b[0m",
      "\u001b[1;31mValueError\u001b[0m                                Traceback (most recent call last)",
      "\u001b[1;32m~\\AppData\\Local\\Temp\\ipykernel_16808\\3084454890.py\u001b[0m in \u001b[0;36m<module>\u001b[1;34m\u001b[0m\n\u001b[1;32m----> 1\u001b[1;33m \u001b[0mplot_feature_importance\u001b[0m\u001b[1;33m(\u001b[0m\u001b[0mgs_logreg\u001b[0m\u001b[1;33m.\u001b[0m\u001b[0mbest_estimator_\u001b[0m\u001b[1;33m[\u001b[0m\u001b[1;36m1\u001b[0m\u001b[1;33m]\u001b[0m\u001b[1;33m.\u001b[0m\u001b[0mcoef_\u001b[0m\u001b[1;33m.\u001b[0m\u001b[0mreshape\u001b[0m\u001b[1;33m(\u001b[0m\u001b[1;36m222\u001b[0m\u001b[1;33m,\u001b[0m\u001b[1;33m)\u001b[0m\u001b[1;33m,\u001b[0m\u001b[0mX\u001b[0m\u001b[1;33m.\u001b[0m\u001b[0mcolumns\u001b[0m\u001b[1;33m,\u001b[0m\u001b[1;34m'LogisticRegression'\u001b[0m\u001b[1;33m)\u001b[0m\u001b[1;33m\u001b[0m\u001b[1;33m\u001b[0m\u001b[0m\n\u001b[0m",
      "\u001b[1;31mValueError\u001b[0m: cannot reshape array of size 98 into shape (222,)"
     ]
    }
   ],
   "source": [
    "plot_feature_importance(gs_logreg.best_estimator_[1].coef_.reshape(222,),X.columns,'LogisticRegression')"
   ]
  },
  {
   "cell_type": "code",
   "execution_count": null,
   "metadata": {},
   "outputs": [],
   "source": [
    "plot_feature_importance(rfs_hyperparam_bal.feature_importances_,X.columns,'RandomForestClassifier')"
   ]
  },
  {
   "cell_type": "code",
   "execution_count": null,
   "metadata": {},
   "outputs": [],
   "source": []
  },
  {
   "cell_type": "markdown",
   "metadata": {},
   "source": [
    "# ROC Curve"
   ]
  },
  {
   "cell_type": "code",
   "execution_count": null,
   "metadata": {},
   "outputs": [],
   "source": [
    "\n",
    "plot_roc_curve(xbg_model, X_test_sc, y_test)\n",
    "\n",
    "plt.plot([0, 1], [0, 1],\n",
    "         label='baseline', linestyle='--')\n",
    "plt.legend();"
   ]
  },
  {
   "cell_type": "code",
   "execution_count": null,
   "metadata": {},
   "outputs": [],
   "source": []
  },
  {
   "cell_type": "markdown",
   "metadata": {},
   "source": [
    "# Cost Benefit Analysis"
   ]
  },
  {
   "cell_type": "markdown",
   "metadata": {},
   "source": [
    "# Kaggle Submission"
   ]
  },
  {
   "cell_type": "code",
   "execution_count": null,
   "metadata": {},
   "outputs": [],
   "source": [
    "# Generating prediction probabilities on actual testing dataset using the model above (for kaggle submission).\n",
    "\n",
    "submission_pred_proba= xbg_model.predict_proba(kaggle_test_sc)[:, 1]"
   ]
  },
  {
   "cell_type": "code",
   "execution_count": null,
   "metadata": {},
   "outputs": [],
   "source": [
    "kaggle_test['Id'] = np.linspace(1,116293, 116293)"
   ]
  },
  {
   "cell_type": "code",
   "execution_count": null,
   "metadata": {},
   "outputs": [],
   "source": [
    "# Putting the above predicted probabilities into a dataframe and exporting it as a csv file for submission to kaggle.\n",
    "\n",
    "submission = pd.DataFrame({'Id' : kaggle_test['Id'].values, 'WnvPresent' : submission_pred_proba})\n",
    "submission.Id = submission.Id.astype('int')\n",
    "submission.to_csv('../kaggle_submission/submission_xgboost.csv', index=False)"
   ]
  },
  {
   "cell_type": "code",
   "execution_count": null,
   "metadata": {},
   "outputs": [],
   "source": [
    "xbgoost_score_kaggle = 0.66728"
   ]
  }
 ],
 "metadata": {
  "interpreter": {
   "hash": "006be043bc5636bd4f043fb67299334f749b935cdb979ce371419345f6e1f02a"
  },
  "kernelspec": {
   "display_name": "Python 3 (ipykernel)",
   "language": "python",
   "name": "python3"
  },
  "language_info": {
   "codemirror_mode": {
    "name": "ipython",
    "version": 3
   },
   "file_extension": ".py",
   "mimetype": "text/x-python",
   "name": "python",
   "nbconvert_exporter": "python",
   "pygments_lexer": "ipython3",
   "version": "3.7.13"
  }
 },
 "nbformat": 4,
 "nbformat_minor": 2
}
