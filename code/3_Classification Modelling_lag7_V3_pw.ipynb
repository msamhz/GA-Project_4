{
 "cells": [
  {
   "cell_type": "markdown",
   "metadata": {},
   "source": [
    "# Contents"
   ]
  },
  {
   "cell_type": "code",
   "execution_count": 404,
   "metadata": {},
   "outputs": [
    {
     "ename": "KeyboardInterrupt",
     "evalue": "",
     "output_type": "error",
     "traceback": [
      "\u001b[1;31m---------------------------------------------------------------------------\u001b[0m",
      "\u001b[1;31mModuleNotFoundError\u001b[0m                       Traceback (most recent call last)",
      "\u001b[1;32m~\\anaconda3\\envs\\dsi\\lib\\site-packages\\tensorflow\\python\\distribute\\cluster_resolver\\tpu\\tpu_cluster_resolver.py\u001b[0m in \u001b[0;36m<module>\u001b[1;34m\u001b[0m\n\u001b[0;32m     31\u001b[0m \u001b[1;32mtry\u001b[0m\u001b[1;33m:\u001b[0m\u001b[1;33m\u001b[0m\u001b[1;33m\u001b[0m\u001b[0m\n\u001b[1;32m---> 32\u001b[1;33m   \u001b[1;32mfrom\u001b[0m \u001b[0mcloud_tpu_client\u001b[0m \u001b[1;32mimport\u001b[0m \u001b[0mclient\u001b[0m  \u001b[1;31m# pylint: disable=g-import-not-at-top\u001b[0m\u001b[1;33m\u001b[0m\u001b[1;33m\u001b[0m\u001b[0m\n\u001b[0m\u001b[0;32m     33\u001b[0m \u001b[1;32mexcept\u001b[0m \u001b[0mImportError\u001b[0m\u001b[1;33m:\u001b[0m\u001b[1;33m\u001b[0m\u001b[1;33m\u001b[0m\u001b[0m\n",
      "\u001b[1;31mModuleNotFoundError\u001b[0m: No module named 'cloud_tpu_client'",
      "\nDuring handling of the above exception, another exception occurred:\n",
      "\u001b[1;31mKeyError\u001b[0m                                  Traceback (most recent call last)",
      "\u001b[1;32m~\\anaconda3\\envs\\dsi\\lib\\importlib\\_bootstrap_external.py\u001b[0m in \u001b[0;36m_path_importer_cache\u001b[1;34m(cls, path)\u001b[0m\n",
      "\u001b[1;31mKeyError\u001b[0m: 'C:\\\\Users\\\\User\\\\anaconda3\\\\envs\\\\dsi\\\\lib\\\\site-packages\\\\tensorflow\\\\python\\\\tpu\\\\client'",
      "\nDuring handling of the above exception, another exception occurred:\n",
      "\u001b[1;31mKeyboardInterrupt\u001b[0m                         Traceback (most recent call last)",
      "\u001b[1;32m~\\AppData\\Local\\Temp/ipykernel_16416/3175554425.py\u001b[0m in \u001b[0;36m<module>\u001b[1;34m\u001b[0m\n\u001b[0;32m      2\u001b[0m \u001b[1;32mimport\u001b[0m \u001b[0msys\u001b[0m\u001b[1;33m\u001b[0m\u001b[1;33m\u001b[0m\u001b[0m\n\u001b[0;32m      3\u001b[0m \u001b[1;33m\u001b[0m\u001b[0m\n\u001b[1;32m----> 4\u001b[1;33m \u001b[1;32mimport\u001b[0m \u001b[0mtensorflow\u001b[0m\u001b[1;33m.\u001b[0m\u001b[0mkeras\u001b[0m\u001b[1;33m\u001b[0m\u001b[1;33m\u001b[0m\u001b[0m\n\u001b[0m\u001b[0;32m      5\u001b[0m \u001b[1;32mimport\u001b[0m \u001b[0mpandas\u001b[0m \u001b[1;32mas\u001b[0m \u001b[0mpd\u001b[0m\u001b[1;33m\u001b[0m\u001b[1;33m\u001b[0m\u001b[0m\n\u001b[0;32m      6\u001b[0m \u001b[1;32mimport\u001b[0m \u001b[0msklearn\u001b[0m \u001b[1;32mas\u001b[0m \u001b[0msk\u001b[0m\u001b[1;33m\u001b[0m\u001b[1;33m\u001b[0m\u001b[0m\n",
      "\u001b[1;32m~\\anaconda3\\envs\\dsi\\lib\\site-packages\\tensorflow\\__init__.py\u001b[0m in \u001b[0;36m<module>\u001b[1;34m\u001b[0m\n\u001b[0;32m     39\u001b[0m \u001b[1;32mimport\u001b[0m \u001b[0msys\u001b[0m \u001b[1;32mas\u001b[0m \u001b[0m_sys\u001b[0m\u001b[1;33m\u001b[0m\u001b[1;33m\u001b[0m\u001b[0m\n\u001b[0;32m     40\u001b[0m \u001b[1;33m\u001b[0m\u001b[0m\n\u001b[1;32m---> 41\u001b[1;33m \u001b[1;32mfrom\u001b[0m \u001b[0mtensorflow\u001b[0m\u001b[1;33m.\u001b[0m\u001b[0mpython\u001b[0m\u001b[1;33m.\u001b[0m\u001b[0mtools\u001b[0m \u001b[1;32mimport\u001b[0m \u001b[0mmodule_util\u001b[0m \u001b[1;32mas\u001b[0m \u001b[0m_module_util\u001b[0m\u001b[1;33m\u001b[0m\u001b[1;33m\u001b[0m\u001b[0m\n\u001b[0m\u001b[0;32m     42\u001b[0m \u001b[1;32mfrom\u001b[0m \u001b[0mtensorflow\u001b[0m\u001b[1;33m.\u001b[0m\u001b[0mpython\u001b[0m\u001b[1;33m.\u001b[0m\u001b[0mutil\u001b[0m\u001b[1;33m.\u001b[0m\u001b[0mlazy_loader\u001b[0m \u001b[1;32mimport\u001b[0m \u001b[0mLazyLoader\u001b[0m \u001b[1;32mas\u001b[0m \u001b[0m_LazyLoader\u001b[0m\u001b[1;33m\u001b[0m\u001b[1;33m\u001b[0m\u001b[0m\n\u001b[0;32m     43\u001b[0m \u001b[1;33m\u001b[0m\u001b[0m\n",
      "\u001b[1;32m~\\anaconda3\\envs\\dsi\\lib\\site-packages\\tensorflow\\python\\__init__.py\u001b[0m in \u001b[0;36m<module>\u001b[1;34m\u001b[0m\n\u001b[0;32m     44\u001b[0m \u001b[1;31m# Bring in subpackages.\u001b[0m\u001b[1;33m\u001b[0m\u001b[1;33m\u001b[0m\u001b[1;33m\u001b[0m\u001b[0m\n\u001b[0;32m     45\u001b[0m \u001b[1;32mfrom\u001b[0m \u001b[0mtensorflow\u001b[0m\u001b[1;33m.\u001b[0m\u001b[0mpython\u001b[0m \u001b[1;32mimport\u001b[0m \u001b[0mdata\u001b[0m\u001b[1;33m\u001b[0m\u001b[1;33m\u001b[0m\u001b[0m\n\u001b[1;32m---> 46\u001b[1;33m \u001b[1;32mfrom\u001b[0m \u001b[0mtensorflow\u001b[0m\u001b[1;33m.\u001b[0m\u001b[0mpython\u001b[0m \u001b[1;32mimport\u001b[0m \u001b[0mdistribute\u001b[0m\u001b[1;33m\u001b[0m\u001b[1;33m\u001b[0m\u001b[0m\n\u001b[0m\u001b[0;32m     47\u001b[0m \u001b[1;32mfrom\u001b[0m \u001b[0mtensorflow\u001b[0m\u001b[1;33m.\u001b[0m\u001b[0mpython\u001b[0m \u001b[1;32mimport\u001b[0m \u001b[0mkeras\u001b[0m\u001b[1;33m\u001b[0m\u001b[1;33m\u001b[0m\u001b[0m\n\u001b[0;32m     48\u001b[0m \u001b[1;32mfrom\u001b[0m \u001b[0mtensorflow\u001b[0m\u001b[1;33m.\u001b[0m\u001b[0mpython\u001b[0m\u001b[1;33m.\u001b[0m\u001b[0mfeature_column\u001b[0m \u001b[1;32mimport\u001b[0m \u001b[0mfeature_column_lib\u001b[0m \u001b[1;32mas\u001b[0m \u001b[0mfeature_column\u001b[0m\u001b[1;33m\u001b[0m\u001b[1;33m\u001b[0m\u001b[0m\n",
      "\u001b[1;32m~\\anaconda3\\envs\\dsi\\lib\\site-packages\\tensorflow\\python\\distribute\\__init__.py\u001b[0m in \u001b[0;36m<module>\u001b[1;34m\u001b[0m\n\u001b[0;32m     20\u001b[0m \u001b[1;33m\u001b[0m\u001b[0m\n\u001b[0;32m     21\u001b[0m \u001b[1;31m# pylint: disable=unused-import\u001b[0m\u001b[1;33m\u001b[0m\u001b[1;33m\u001b[0m\u001b[1;33m\u001b[0m\u001b[0m\n\u001b[1;32m---> 22\u001b[1;33m \u001b[1;32mfrom\u001b[0m \u001b[0mtensorflow\u001b[0m\u001b[1;33m.\u001b[0m\u001b[0mpython\u001b[0m\u001b[1;33m.\u001b[0m\u001b[0mdistribute\u001b[0m \u001b[1;32mimport\u001b[0m \u001b[0mcluster_resolver\u001b[0m\u001b[1;33m\u001b[0m\u001b[1;33m\u001b[0m\u001b[0m\n\u001b[0m\u001b[0;32m     23\u001b[0m \u001b[1;32mfrom\u001b[0m \u001b[0mtensorflow\u001b[0m\u001b[1;33m.\u001b[0m\u001b[0mpython\u001b[0m\u001b[1;33m.\u001b[0m\u001b[0mdistribute\u001b[0m \u001b[1;32mimport\u001b[0m \u001b[0mcross_device_ops\u001b[0m\u001b[1;33m\u001b[0m\u001b[1;33m\u001b[0m\u001b[0m\n\u001b[0;32m     24\u001b[0m \u001b[1;32mfrom\u001b[0m \u001b[0mtensorflow\u001b[0m\u001b[1;33m.\u001b[0m\u001b[0mpython\u001b[0m\u001b[1;33m.\u001b[0m\u001b[0mdistribute\u001b[0m \u001b[1;32mimport\u001b[0m \u001b[0mdistribute_lib\u001b[0m\u001b[1;33m\u001b[0m\u001b[1;33m\u001b[0m\u001b[0m\n",
      "\u001b[1;32m~\\anaconda3\\envs\\dsi\\lib\\site-packages\\tensorflow\\python\\distribute\\cluster_resolver\\__init__.py\u001b[0m in \u001b[0;36m<module>\u001b[1;34m\u001b[0m\n\u001b[0;32m     33\u001b[0m \u001b[1;32mfrom\u001b[0m \u001b[0mtensorflow\u001b[0m\u001b[1;33m.\u001b[0m\u001b[0mpython\u001b[0m\u001b[1;33m.\u001b[0m\u001b[0mdistribute\u001b[0m\u001b[1;33m.\u001b[0m\u001b[0mcluster_resolver\u001b[0m\u001b[1;33m.\u001b[0m\u001b[0mslurm_cluster_resolver\u001b[0m \u001b[1;32mimport\u001b[0m \u001b[0mSlurmClusterResolver\u001b[0m\u001b[1;33m\u001b[0m\u001b[1;33m\u001b[0m\u001b[0m\n\u001b[0;32m     34\u001b[0m \u001b[1;32mfrom\u001b[0m \u001b[0mtensorflow\u001b[0m\u001b[1;33m.\u001b[0m\u001b[0mpython\u001b[0m\u001b[1;33m.\u001b[0m\u001b[0mdistribute\u001b[0m\u001b[1;33m.\u001b[0m\u001b[0mcluster_resolver\u001b[0m\u001b[1;33m.\u001b[0m\u001b[0mtfconfig_cluster_resolver\u001b[0m \u001b[1;32mimport\u001b[0m \u001b[0mTFConfigClusterResolver\u001b[0m\u001b[1;33m\u001b[0m\u001b[1;33m\u001b[0m\u001b[0m\n\u001b[1;32m---> 35\u001b[1;33m \u001b[1;32mfrom\u001b[0m \u001b[0mtensorflow\u001b[0m\u001b[1;33m.\u001b[0m\u001b[0mpython\u001b[0m\u001b[1;33m.\u001b[0m\u001b[0mdistribute\u001b[0m\u001b[1;33m.\u001b[0m\u001b[0mcluster_resolver\u001b[0m\u001b[1;33m.\u001b[0m\u001b[0mtpu_cluster_resolver\u001b[0m \u001b[1;32mimport\u001b[0m \u001b[0mTPUClusterResolver\u001b[0m\u001b[1;33m\u001b[0m\u001b[1;33m\u001b[0m\u001b[0m\n\u001b[0m",
      "\u001b[1;32m~\\anaconda3\\envs\\dsi\\lib\\site-packages\\tensorflow\\python\\distribute\\cluster_resolver\\tpu_cluster_resolver.py\u001b[0m in \u001b[0;36m<module>\u001b[1;34m\u001b[0m\n\u001b[0;32m     20\u001b[0m \u001b[1;32mfrom\u001b[0m \u001b[0m__future__\u001b[0m \u001b[1;32mimport\u001b[0m \u001b[0mprint_function\u001b[0m\u001b[1;33m\u001b[0m\u001b[1;33m\u001b[0m\u001b[0m\n\u001b[0;32m     21\u001b[0m \u001b[1;33m\u001b[0m\u001b[0m\n\u001b[1;32m---> 22\u001b[1;33m \u001b[1;32mfrom\u001b[0m \u001b[0mtensorflow\u001b[0m\u001b[1;33m.\u001b[0m\u001b[0mpython\u001b[0m\u001b[1;33m.\u001b[0m\u001b[0mdistribute\u001b[0m\u001b[1;33m.\u001b[0m\u001b[0mcluster_resolver\u001b[0m\u001b[1;33m.\u001b[0m\u001b[0mtpu\u001b[0m\u001b[1;33m.\u001b[0m\u001b[0mtpu_cluster_resolver\u001b[0m \u001b[1;32mimport\u001b[0m \u001b[0mis_running_in_gce\u001b[0m  \u001b[1;31m# pylint: disable=unused-import\u001b[0m\u001b[1;33m\u001b[0m\u001b[1;33m\u001b[0m\u001b[0m\n\u001b[0m\u001b[0;32m     23\u001b[0m \u001b[1;32mfrom\u001b[0m \u001b[0mtensorflow\u001b[0m\u001b[1;33m.\u001b[0m\u001b[0mpython\u001b[0m\u001b[1;33m.\u001b[0m\u001b[0mdistribute\u001b[0m\u001b[1;33m.\u001b[0m\u001b[0mcluster_resolver\u001b[0m\u001b[1;33m.\u001b[0m\u001b[0mtpu\u001b[0m\u001b[1;33m.\u001b[0m\u001b[0mtpu_cluster_resolver\u001b[0m \u001b[1;32mimport\u001b[0m \u001b[0mTPUClusterResolver\u001b[0m\u001b[1;33m\u001b[0m\u001b[1;33m\u001b[0m\u001b[0m\n\u001b[0;32m     24\u001b[0m \u001b[1;32mfrom\u001b[0m \u001b[0mtensorflow\u001b[0m\u001b[1;33m.\u001b[0m\u001b[0mpython\u001b[0m\u001b[1;33m.\u001b[0m\u001b[0mutil\u001b[0m\u001b[1;33m.\u001b[0m\u001b[0mtf_export\u001b[0m \u001b[1;32mimport\u001b[0m \u001b[0mtf_export\u001b[0m\u001b[1;33m\u001b[0m\u001b[1;33m\u001b[0m\u001b[0m\n",
      "\u001b[1;32m~\\anaconda3\\envs\\dsi\\lib\\site-packages\\tensorflow\\python\\distribute\\cluster_resolver\\tpu\\tpu_cluster_resolver.py\u001b[0m in \u001b[0;36m<module>\u001b[1;34m\u001b[0m\n\u001b[0;32m     35\u001b[0m       \u001b[1;34m'Falling back to TensorFlow client; we recommended you install the Cloud '\u001b[0m\u001b[1;33m\u001b[0m\u001b[1;33m\u001b[0m\u001b[0m\n\u001b[0;32m     36\u001b[0m       'TPU client directly with pip install cloud-tpu-client.')\n\u001b[1;32m---> 37\u001b[1;33m   \u001b[1;32mfrom\u001b[0m \u001b[0mtensorflow\u001b[0m\u001b[1;33m.\u001b[0m\u001b[0mpython\u001b[0m\u001b[1;33m.\u001b[0m\u001b[0mtpu\u001b[0m\u001b[1;33m.\u001b[0m\u001b[0mclient\u001b[0m \u001b[1;32mimport\u001b[0m \u001b[0mclient\u001b[0m  \u001b[1;31m# pylint: disable=g-import-not-at-top\u001b[0m\u001b[1;33m\u001b[0m\u001b[1;33m\u001b[0m\u001b[0m\n\u001b[0m\u001b[0;32m     38\u001b[0m \u001b[1;33m\u001b[0m\u001b[0m\n\u001b[0;32m     39\u001b[0m \u001b[1;33m\u001b[0m\u001b[0m\n",
      "\u001b[1;32m~\\anaconda3\\envs\\dsi\\lib\\importlib\\_bootstrap.py\u001b[0m in \u001b[0;36m_find_and_load\u001b[1;34m(name, import_)\u001b[0m\n",
      "\u001b[1;32m~\\anaconda3\\envs\\dsi\\lib\\importlib\\_bootstrap.py\u001b[0m in \u001b[0;36m_find_and_load_unlocked\u001b[1;34m(name, import_)\u001b[0m\n",
      "\u001b[1;32m~\\anaconda3\\envs\\dsi\\lib\\importlib\\_bootstrap.py\u001b[0m in \u001b[0;36m_find_spec\u001b[1;34m(name, path, target)\u001b[0m\n",
      "\u001b[1;32m~\\anaconda3\\envs\\dsi\\lib\\importlib\\_bootstrap_external.py\u001b[0m in \u001b[0;36mfind_spec\u001b[1;34m(cls, fullname, path, target)\u001b[0m\n",
      "\u001b[1;32m~\\anaconda3\\envs\\dsi\\lib\\importlib\\_bootstrap_external.py\u001b[0m in \u001b[0;36m_get_spec\u001b[1;34m(cls, fullname, path, target)\u001b[0m\n",
      "\u001b[1;32m~\\anaconda3\\envs\\dsi\\lib\\importlib\\_bootstrap_external.py\u001b[0m in \u001b[0;36m_path_importer_cache\u001b[1;34m(cls, path)\u001b[0m\n",
      "\u001b[1;32m~\\anaconda3\\envs\\dsi\\lib\\importlib\\_bootstrap_external.py\u001b[0m in \u001b[0;36m_path_hooks\u001b[1;34m(cls, path)\u001b[0m\n",
      "\u001b[1;32m<frozen zipimport>\u001b[0m in \u001b[0;36m__init__\u001b[1;34m(self, path)\u001b[0m\n",
      "\u001b[1;32m~\\anaconda3\\envs\\dsi\\lib\\importlib\\_bootstrap_external.py\u001b[0m in \u001b[0;36m_path_stat\u001b[1;34m(path)\u001b[0m\n",
      "\u001b[1;31mKeyboardInterrupt\u001b[0m: "
     ]
    }
   ],
   "source": [
    "# What version of Python do you have?\n",
    "import sys\n",
    "\n",
    "import tensorflow.keras\n",
    "import pandas as pd\n",
    "import sklearn as sk\n",
    "import tensorflow as tf\n",
    "\n",
    "print(f\"Tensor Flow Version: {tf.__version__}\")\n",
    "print(f\"Keras Version: {tensorflow.keras.__version__}\")\n",
    "print()\n",
    "print(f\"Python {sys.version}\")\n",
    "print(f\"Pandas {pd.__version__}\")\n",
    "print(f\"Scikit-Learn {sk.__version__}\")\n",
    "gpu = len(tf.config.list_physical_devices('GPU'))>0\n",
    "print(\"GPU is\", \"available\" if gpu else \"NOT AVAILABLE\")"
   ]
  },
  {
   "cell_type": "code",
   "execution_count": null,
   "metadata": {},
   "outputs": [
    {
     "name": "stderr",
     "output_type": "stream",
     "text": [
      "C:\\Users\\User\\anaconda3\\envs\\dsi\\lib\\site-packages\\xgboost\\compat.py:36: FutureWarning: pandas.Int64Index is deprecated and will be removed from pandas in a future version. Use pandas.Index with the appropriate dtype instead.\n",
      "  from pandas import MultiIndex, Int64Index\n"
     ]
    }
   ],
   "source": [
    "import pandas as pd\n",
    "import numpy as np\n",
    "import seaborn as sns\n",
    "import matplotlib.pyplot as plt\n",
    "from datetime import datetime\n",
    "\n",
    "\n",
    "from sklearn import metrics\n",
    "from sklearn.metrics import confusion_matrix, plot_confusion_matrix, accuracy_score, \\\n",
    "    plot_roc_curve, roc_auc_score, recall_score, precision_score, f1_score, mean_squared_error\n",
    "\n",
    "\n",
    "from sklearn.linear_model import (\n",
    "    Ridge,RidgeCV,\n",
    "    Lasso,LassoCV,\n",
    "    ElasticNet, ElasticNetCV,\n",
    "    LinearRegression\n",
    ")\n",
    "\n",
    "from sklearn.model_selection import(\n",
    "    cross_val_score,\n",
    "    train_test_split\n",
    ")\n",
    "\n",
    "from sklearn.preprocessing import (\n",
    "    StandardScaler,\n",
    ")\n",
    "\n",
    "from imblearn.over_sampling import SMOTE\n",
    "from imblearn.pipeline import Pipeline, make_pipeline\n",
    "\n",
    "from sklearn.preprocessing import StandardScaler\n",
    "from sklearn.model_selection import train_test_split, cross_val_score, GridSearchCV\n",
    "from sklearn.linear_model import LogisticRegression\n",
    "from sklearn.ensemble import RandomForestClassifier\n",
    "from sklearn.svm import SVC\n",
    "from sklearn.inspection import permutation_importance\n",
    "\n",
    "from xgboost import XGBClassifier\n",
    "from xgboost import cv\n",
    "from xgboost import plot_importance\n",
    "import xgboost as xgb\n",
    "use_label_encoder=False\n",
    "\n",
    "# pd.set_option('display.max_rows', 1000)  # or 1000\n",
    "pd.set_option('display.max_columns', 50)  # or 1000"
   ]
  },
  {
   "cell_type": "markdown",
   "metadata": {},
   "source": [
    "# Exploratory Data Analysis"
   ]
  },
  {
   "cell_type": "code",
   "execution_count": null,
   "metadata": {},
   "outputs": [],
   "source": [
    "lag_train = pd.read_csv('../data/lag7_g1_pw.csv')\n",
    "lag_test = pd.read_csv('../data/test_lag7_g1_pw.csv')"
   ]
  },
  {
   "cell_type": "code",
   "execution_count": null,
   "metadata": {},
   "outputs": [
    {
     "data": {
      "text/plain": [
       "Text(0.69, 0.5, '5.39% of 8475 observations\\nare from the Positive class (1),\\nie. WNV present')"
      ]
     },
     "execution_count": 3,
     "metadata": {},
     "output_type": "execute_result"
    },
    {
     "data": {
      "image/png": "[encoded data removed]",
      "text/plain": [
       "<Figure size 576x576 with 1 Axes>"
      ]
     },
     "metadata": {
      "needs_background": "light"
     },
     "output_type": "display_data"
    }
   ],
   "source": [
    "# Plotting the balance of classes on a countplot.\n",
    "\n",
    "wnv_notpresent = lag_train['wnvpresent'].value_counts()[0]\n",
    "wnv_present = lag_train['wnvpresent'].value_counts()[1]\n",
    "neg_pct = lag_train['wnvpresent'].value_counts(normalize=True)[0] * 100\n",
    "pos_pct = lag_train['wnvpresent'].value_counts(normalize=True)[1] * 100\n",
    "total = wnv_notpresent + wnv_present\n",
    "\n",
    "# set up figure size \n",
    "plt.figure(figsize=(8,8))\n",
    "\n",
    "# plot countplot\n",
    "ax = sns.countplot(x='wnvpresent', data=lag_train)\n",
    "\n",
    "\n",
    "# set labels for X and y and titles\n",
    "ax.set_xticklabels(['Negative class (0)\\nWNV not present', 'Positive class(1)\\nWNV present'])\n",
    "ax.tick_params(axis='both', labelsize=12)\n",
    "\n",
    "plt.xlabel(\"WnvPresent\", fontsize=15)\n",
    "plt.ylabel(\"Counts\", fontsize=15)\n",
    "\n",
    "plt.title(\"Barplot displaying balance of classes\", fontdict = {'size' : 18, 'weight': 'bold'})\n",
    "\n",
    "# to plot number of points in each class \n",
    "plt.text(x=0, y=wnv_notpresent+100, s=str(wnv_notpresent) + ' (' + str(round(neg_pct,2)) + '%)', fontsize=13, ha='center')\n",
    "plt.text(x=1, y=wnv_present+100, s=str(wnv_present) + ' (' + str(round(pos_pct,2)) + '%)', fontsize=13, ha='center')\n",
    "\n",
    "# set up red text \n",
    "plt.figtext(x=0.69, \n",
    "            y=0.5, \n",
    "            s=f\"{round(pos_pct, 2)}% of {total} observations\\nare from the Positive class (1),\\nie. WNV present\", \n",
    "            fontdict = {'size' : 12, 'weight': 'semibold'},\n",
    "            ha='center',\n",
    "            color = 'red',\n",
    "           )\n"
   ]
  },
  {
   "cell_type": "markdown",
   "metadata": {},
   "source": [
    "From the above, we can see that the classes are very unbalanced. Of the 8475 observations, only 457 `(5.5%) are from the positive class` ie. West Nile Virus present (WvvPresent == 1) while 8018 (94.61%) observations from the negative class, ie. West Nile Virus not present (WvvPresent == 0)\n",
    "\n",
    "We will need to explore ways to balance the two classes before modelling "
   ]
  },
  {
   "cell_type": "markdown",
   "metadata": {},
   "source": [
    "# Model Preparation"
   ]
  },
  {
   "cell_type": "markdown",
   "metadata": {},
   "source": [
    "## Modelling Approaches"
   ]
  },
  {
   "cell_type": "markdown",
   "metadata": {},
   "source": [
    "As seen from the above, the classes in this case is unbalanced. We will need to deploy balancing techniques like `over-sampling` using imblearn `SMOTE` and also adjust `class_weights` on certain classifiers like RandomForestClassifier. \n",
    "\n",
    "We will be using these following models \n",
    "- Logistic Regression  \n",
    "- RandomForestClassifier\n",
    "- XGboost "
   ]
  },
  {
   "cell_type": "markdown",
   "metadata": {},
   "source": [
    "## Classification Matrix"
   ]
  },
  {
   "cell_type": "markdown",
   "metadata": {},
   "source": [
    "In the context of this project, we define our **positive class as the presence of WNV *(WnvPresent = 1)*, and the negative class as the absence of WNV *(WnvPresent = 0)***.\n",
    "\n",
    "`Accuracy` is defined as the total number of correct predictions over the total number of predictions made. Essentially, this refers to the correct predictions of mosquitos trapped containing WNV virus over the total number of predictions made.\n",
    "\n",
    "While `Accuracy` is a good overall measure of the model's performance, a high score doesnt reflect how well it is predicting for each class. For example, having high score, could also mean having very good predictions of mosquitos NOT having WNV (due to high skew of data towards no WnvPresent), that would overshadow class that contains correct predictions for those carrying WNV. \n",
    "\n",
    "Hence we need `sensitivity` and `specificity` as well to measure the true positive and true negative rate and achieve balance between the two. \n",
    "\n",
    "To answer the part on `calculating the cost involved to deploy the the pesticides` throughout the city of Chicago, having high amount of false positives will result in increased cost for spraying these pesticides. On the other hand, having `large number of false negatives could potentially lead to an outbreak of WNV which would greatly affect the economy should Chicago be forced to take drastic measures to contain it`. Hence, the team has decided it would be better to focus on having **minimal false negatives than *false positives* hence leaning towards `sensitivity` than `specificity`** while not sacrifising too much on `Accuracy`, `ROC_AUC` (how good the model is at predicting) and `Precision` (used to measure the quality of a ***positive prediction made by the model*** where cost of ***Too many False positives* can be a huge short term impact**)"
   ]
  },
  {
   "cell_type": "markdown",
   "metadata": {},
   "source": [
    "### Instantiate X and y variables"
   ]
  },
  {
   "cell_type": "code",
   "execution_count": null,
   "metadata": {},
   "outputs": [],
   "source": [
    "X = lag_train.drop(columns = ['wnvpresent','date','id'])\n",
    "y = lag_train['wnvpresent']"
   ]
  },
  {
   "cell_type": "code",
   "execution_count": null,
   "metadata": {},
   "outputs": [
    {
     "data": {
      "text/html": [
       "<div>\n",
       "<style scoped>\n",
       "    .dataframe tbody tr th:only-of-type {\n",
       "        vertical-align: middle;\n",
       "    }\n",
       "\n",
       "    .dataframe tbody tr th {\n",
       "        vertical-align: top;\n",
       "    }\n",
       "\n",
       "    .dataframe thead th {\n",
       "        text-align: right;\n",
       "    }\n",
       "</style>\n",
       "<table border=\"1\" class=\"dataframe\">\n",
       "  <thead>\n",
       "    <tr style=\"text-align: right;\">\n",
       "      <th></th>\n",
       "      <th>latitude</th>\n",
       "      <th>longitude</th>\n",
       "      <th>culex_pipiens/restuans</th>\n",
       "      <th>culex_pipiens</th>\n",
       "      <th>culex_restuans</th>\n",
       "      <th>week_28</th>\n",
       "      <th>week_29</th>\n",
       "      <th>week_30</th>\n",
       "      <th>week_31</th>\n",
       "      <th>week_32</th>\n",
       "      <th>week_33</th>\n",
       "      <th>week_34</th>\n",
       "      <th>week_35</th>\n",
       "      <th>week_36</th>\n",
       "      <th>week_37</th>\n",
       "      <th>week_38</th>\n",
       "      <th>week_39</th>\n",
       "      <th>trap_T086</th>\n",
       "      <th>trap_T003</th>\n",
       "      <th>trap_T028</th>\n",
       "      <th>trap_T082</th>\n",
       "      <th>trap_T014</th>\n",
       "      <th>trap_T115</th>\n",
       "      <th>trap_T158</th>\n",
       "      <th>trap_T016</th>\n",
       "      <th>...</th>\n",
       "      <th>trap_T103</th>\n",
       "      <th>trap_T221</th>\n",
       "      <th>trap_T114</th>\n",
       "      <th>trap_T096</th>\n",
       "      <th>trap_T009</th>\n",
       "      <th>trap_T235</th>\n",
       "      <th>trap_T008</th>\n",
       "      <th>trap_T061</th>\n",
       "      <th>trap_T147</th>\n",
       "      <th>trap_T073</th>\n",
       "      <th>tavg</th>\n",
       "      <th>dewpoint</th>\n",
       "      <th>preciptotal</th>\n",
       "      <th>stnpressure</th>\n",
       "      <th>sealevel</th>\n",
       "      <th>resultdir</th>\n",
       "      <th>avgspeed</th>\n",
       "      <th>sunset</th>\n",
       "      <th>br</th>\n",
       "      <th>fu</th>\n",
       "      <th>hz</th>\n",
       "      <th>ra</th>\n",
       "      <th>ts</th>\n",
       "      <th>tsra</th>\n",
       "      <th>vcts</th>\n",
       "    </tr>\n",
       "  </thead>\n",
       "  <tbody>\n",
       "    <tr>\n",
       "      <th>0</th>\n",
       "      <td>41.867108</td>\n",
       "      <td>-87.654224</td>\n",
       "      <td>1</td>\n",
       "      <td>0</td>\n",
       "      <td>0</td>\n",
       "      <td>0</td>\n",
       "      <td>0</td>\n",
       "      <td>0</td>\n",
       "      <td>0</td>\n",
       "      <td>0</td>\n",
       "      <td>0</td>\n",
       "      <td>0</td>\n",
       "      <td>0</td>\n",
       "      <td>0</td>\n",
       "      <td>0</td>\n",
       "      <td>0</td>\n",
       "      <td>0</td>\n",
       "      <td>0</td>\n",
       "      <td>0</td>\n",
       "      <td>0</td>\n",
       "      <td>0</td>\n",
       "      <td>0</td>\n",
       "      <td>0</td>\n",
       "      <td>0</td>\n",
       "      <td>0</td>\n",
       "      <td>...</td>\n",
       "      <td>0</td>\n",
       "      <td>0</td>\n",
       "      <td>0</td>\n",
       "      <td>0</td>\n",
       "      <td>0</td>\n",
       "      <td>0</td>\n",
       "      <td>0</td>\n",
       "      <td>0</td>\n",
       "      <td>0</td>\n",
       "      <td>0</td>\n",
       "      <td>73.5</td>\n",
       "      <td>44</td>\n",
       "      <td>0.0</td>\n",
       "      <td>29.41</td>\n",
       "      <td>30.05</td>\n",
       "      <td>16</td>\n",
       "      <td>10.6</td>\n",
       "      <td>19.183333</td>\n",
       "      <td>0</td>\n",
       "      <td>0</td>\n",
       "      <td>0</td>\n",
       "      <td>0</td>\n",
       "      <td>0</td>\n",
       "      <td>0</td>\n",
       "      <td>0</td>\n",
       "    </tr>\n",
       "    <tr>\n",
       "      <th>1</th>\n",
       "      <td>41.776156</td>\n",
       "      <td>-87.778927</td>\n",
       "      <td>0</td>\n",
       "      <td>1</td>\n",
       "      <td>0</td>\n",
       "      <td>0</td>\n",
       "      <td>0</td>\n",
       "      <td>0</td>\n",
       "      <td>0</td>\n",
       "      <td>0</td>\n",
       "      <td>0</td>\n",
       "      <td>0</td>\n",
       "      <td>0</td>\n",
       "      <td>0</td>\n",
       "      <td>0</td>\n",
       "      <td>0</td>\n",
       "      <td>1</td>\n",
       "      <td>0</td>\n",
       "      <td>0</td>\n",
       "      <td>0</td>\n",
       "      <td>0</td>\n",
       "      <td>0</td>\n",
       "      <td>0</td>\n",
       "      <td>0</td>\n",
       "      <td>0</td>\n",
       "      <td>...</td>\n",
       "      <td>0</td>\n",
       "      <td>0</td>\n",
       "      <td>0</td>\n",
       "      <td>0</td>\n",
       "      <td>0</td>\n",
       "      <td>0</td>\n",
       "      <td>0</td>\n",
       "      <td>0</td>\n",
       "      <td>0</td>\n",
       "      <td>0</td>\n",
       "      <td>65.5</td>\n",
       "      <td>55</td>\n",
       "      <td>0.0</td>\n",
       "      <td>29.52</td>\n",
       "      <td>30.17</td>\n",
       "      <td>3</td>\n",
       "      <td>6.7</td>\n",
       "      <td>17.933333</td>\n",
       "      <td>0</td>\n",
       "      <td>0</td>\n",
       "      <td>0</td>\n",
       "      <td>0</td>\n",
       "      <td>0</td>\n",
       "      <td>0</td>\n",
       "      <td>0</td>\n",
       "    </tr>\n",
       "    <tr>\n",
       "      <th>2</th>\n",
       "      <td>41.923738</td>\n",
       "      <td>-87.785288</td>\n",
       "      <td>0</td>\n",
       "      <td>0</td>\n",
       "      <td>1</td>\n",
       "      <td>0</td>\n",
       "      <td>0</td>\n",
       "      <td>0</td>\n",
       "      <td>0</td>\n",
       "      <td>0</td>\n",
       "      <td>0</td>\n",
       "      <td>0</td>\n",
       "      <td>0</td>\n",
       "      <td>0</td>\n",
       "      <td>0</td>\n",
       "      <td>0</td>\n",
       "      <td>1</td>\n",
       "      <td>0</td>\n",
       "      <td>0</td>\n",
       "      <td>0</td>\n",
       "      <td>0</td>\n",
       "      <td>0</td>\n",
       "      <td>0</td>\n",
       "      <td>0</td>\n",
       "      <td>0</td>\n",
       "      <td>...</td>\n",
       "      <td>0</td>\n",
       "      <td>0</td>\n",
       "      <td>0</td>\n",
       "      <td>0</td>\n",
       "      <td>0</td>\n",
       "      <td>0</td>\n",
       "      <td>0</td>\n",
       "      <td>0</td>\n",
       "      <td>0</td>\n",
       "      <td>0</td>\n",
       "      <td>65.5</td>\n",
       "      <td>55</td>\n",
       "      <td>0.0</td>\n",
       "      <td>29.52</td>\n",
       "      <td>30.17</td>\n",
       "      <td>3</td>\n",
       "      <td>6.7</td>\n",
       "      <td>17.933333</td>\n",
       "      <td>0</td>\n",
       "      <td>0</td>\n",
       "      <td>0</td>\n",
       "      <td>0</td>\n",
       "      <td>0</td>\n",
       "      <td>0</td>\n",
       "      <td>0</td>\n",
       "    </tr>\n",
       "    <tr>\n",
       "      <th>3</th>\n",
       "      <td>41.960616</td>\n",
       "      <td>-87.777189</td>\n",
       "      <td>0</td>\n",
       "      <td>0</td>\n",
       "      <td>1</td>\n",
       "      <td>0</td>\n",
       "      <td>0</td>\n",
       "      <td>0</td>\n",
       "      <td>0</td>\n",
       "      <td>0</td>\n",
       "      <td>0</td>\n",
       "      <td>0</td>\n",
       "      <td>0</td>\n",
       "      <td>0</td>\n",
       "      <td>0</td>\n",
       "      <td>0</td>\n",
       "      <td>1</td>\n",
       "      <td>0</td>\n",
       "      <td>0</td>\n",
       "      <td>0</td>\n",
       "      <td>0</td>\n",
       "      <td>0</td>\n",
       "      <td>0</td>\n",
       "      <td>0</td>\n",
       "      <td>0</td>\n",
       "      <td>...</td>\n",
       "      <td>0</td>\n",
       "      <td>0</td>\n",
       "      <td>0</td>\n",
       "      <td>0</td>\n",
       "      <td>0</td>\n",
       "      <td>0</td>\n",
       "      <td>0</td>\n",
       "      <td>0</td>\n",
       "      <td>0</td>\n",
       "      <td>0</td>\n",
       "      <td>64.5</td>\n",
       "      <td>55</td>\n",
       "      <td>0.0</td>\n",
       "      <td>29.46</td>\n",
       "      <td>30.18</td>\n",
       "      <td>2</td>\n",
       "      <td>6.4</td>\n",
       "      <td>17.933333</td>\n",
       "      <td>1</td>\n",
       "      <td>0</td>\n",
       "      <td>0</td>\n",
       "      <td>0</td>\n",
       "      <td>0</td>\n",
       "      <td>0</td>\n",
       "      <td>0</td>\n",
       "    </tr>\n",
       "    <tr>\n",
       "      <th>4</th>\n",
       "      <td>41.662014</td>\n",
       "      <td>-87.724608</td>\n",
       "      <td>0</td>\n",
       "      <td>0</td>\n",
       "      <td>1</td>\n",
       "      <td>0</td>\n",
       "      <td>0</td>\n",
       "      <td>0</td>\n",
       "      <td>0</td>\n",
       "      <td>0</td>\n",
       "      <td>0</td>\n",
       "      <td>1</td>\n",
       "      <td>0</td>\n",
       "      <td>0</td>\n",
       "      <td>0</td>\n",
       "      <td>0</td>\n",
       "      <td>0</td>\n",
       "      <td>0</td>\n",
       "      <td>0</td>\n",
       "      <td>0</td>\n",
       "      <td>0</td>\n",
       "      <td>0</td>\n",
       "      <td>0</td>\n",
       "      <td>0</td>\n",
       "      <td>0</td>\n",
       "      <td>...</td>\n",
       "      <td>0</td>\n",
       "      <td>0</td>\n",
       "      <td>0</td>\n",
       "      <td>0</td>\n",
       "      <td>0</td>\n",
       "      <td>0</td>\n",
       "      <td>0</td>\n",
       "      <td>0</td>\n",
       "      <td>0</td>\n",
       "      <td>0</td>\n",
       "      <td>72.5</td>\n",
       "      <td>54</td>\n",
       "      <td>0.0</td>\n",
       "      <td>29.46</td>\n",
       "      <td>30.08</td>\n",
       "      <td>31</td>\n",
       "      <td>7.4</td>\n",
       "      <td>18.850000</td>\n",
       "      <td>0</td>\n",
       "      <td>0</td>\n",
       "      <td>0</td>\n",
       "      <td>0</td>\n",
       "      <td>0</td>\n",
       "      <td>0</td>\n",
       "      <td>0</td>\n",
       "    </tr>\n",
       "  </tbody>\n",
       "</table>\n",
       "<p>5 rows × 78 columns</p>\n",
       "</div>"
      ],
      "text/plain": [
       "    latitude  longitude  culex_pipiens/restuans  culex_pipiens  \\\n",
       "0  41.867108 -87.654224                       1              0   \n",
       "1  41.776156 -87.778927                       0              1   \n",
       "2  41.923738 -87.785288                       0              0   \n",
       "3  41.960616 -87.777189                       0              0   \n",
       "4  41.662014 -87.724608                       0              0   \n",
       "\n",
       "   culex_restuans  week_28  week_29  week_30  week_31  week_32  week_33  \\\n",
       "0               0        0        0        0        0        0        0   \n",
       "1               0        0        0        0        0        0        0   \n",
       "2               1        0        0        0        0        0        0   \n",
       "3               1        0        0        0        0        0        0   \n",
       "4               1        0        0        0        0        0        0   \n",
       "\n",
       "   week_34  week_35  week_36  week_37  week_38  week_39  trap_T086  trap_T003  \\\n",
       "0        0        0        0        0        0        0          0          0   \n",
       "1        0        0        0        0        0        1          0          0   \n",
       "2        0        0        0        0        0        1          0          0   \n",
       "3        0        0        0        0        0        1          0          0   \n",
       "4        1        0        0        0        0        0          0          0   \n",
       "\n",
       "   trap_T028  trap_T082  trap_T014  trap_T115  trap_T158  trap_T016  ...  \\\n",
       "0          0          0          0          0          0          0  ...   \n",
       "1          0          0          0          0          0          0  ...   \n",
       "2          0          0          0          0          0          0  ...   \n",
       "3          0          0          0          0          0          0  ...   \n",
       "4          0          0          0          0          0          0  ...   \n",
       "\n",
       "   trap_T103  trap_T221  trap_T114  trap_T096  trap_T009  trap_T235  \\\n",
       "0          0          0          0          0          0          0   \n",
       "1          0          0          0          0          0          0   \n",
       "2          0          0          0          0          0          0   \n",
       "3          0          0          0          0          0          0   \n",
       "4          0          0          0          0          0          0   \n",
       "\n",
       "   trap_T008  trap_T061  trap_T147  trap_T073  tavg  dewpoint  preciptotal  \\\n",
       "0          0          0          0          0  73.5        44          0.0   \n",
       "1          0          0          0          0  65.5        55          0.0   \n",
       "2          0          0          0          0  65.5        55          0.0   \n",
       "3          0          0          0          0  64.5        55          0.0   \n",
       "4          0          0          0          0  72.5        54          0.0   \n",
       "\n",
       "   stnpressure  sealevel  resultdir  avgspeed     sunset  br  fu  hz  ra  ts  \\\n",
       "0        29.41     30.05         16      10.6  19.183333   0   0   0   0   0   \n",
       "1        29.52     30.17          3       6.7  17.933333   0   0   0   0   0   \n",
       "2        29.52     30.17          3       6.7  17.933333   0   0   0   0   0   \n",
       "3        29.46     30.18          2       6.4  17.933333   1   0   0   0   0   \n",
       "4        29.46     30.08         31       7.4  18.850000   0   0   0   0   0   \n",
       "\n",
       "   tsra  vcts  \n",
       "0     0     0  \n",
       "1     0     0  \n",
       "2     0     0  \n",
       "3     0     0  \n",
       "4     0     0  \n",
       "\n",
       "[5 rows x 78 columns]"
      ]
     },
     "execution_count": 5,
     "metadata": {},
     "output_type": "execute_result"
    }
   ],
   "source": [
    "X.head(5)"
   ]
  },
  {
   "cell_type": "code",
   "execution_count": null,
   "metadata": {},
   "outputs": [
    {
     "data": {
      "text/html": [
       "<div>\n",
       "<style scoped>\n",
       "    .dataframe tbody tr th:only-of-type {\n",
       "        vertical-align: middle;\n",
       "    }\n",
       "\n",
       "    .dataframe tbody tr th {\n",
       "        vertical-align: top;\n",
       "    }\n",
       "\n",
       "    .dataframe thead th {\n",
       "        text-align: right;\n",
       "    }\n",
       "</style>\n",
       "<table border=\"1\" class=\"dataframe\">\n",
       "  <thead>\n",
       "    <tr style=\"text-align: right;\">\n",
       "      <th></th>\n",
       "      <th>latitude</th>\n",
       "      <th>longitude</th>\n",
       "      <th>culex_pipiens/restuans</th>\n",
       "      <th>culex_pipiens</th>\n",
       "      <th>culex_restuans</th>\n",
       "      <th>week_28</th>\n",
       "      <th>week_29</th>\n",
       "      <th>week_30</th>\n",
       "      <th>week_31</th>\n",
       "      <th>week_32</th>\n",
       "      <th>week_33</th>\n",
       "      <th>week_34</th>\n",
       "      <th>week_35</th>\n",
       "      <th>week_36</th>\n",
       "      <th>week_37</th>\n",
       "      <th>week_38</th>\n",
       "      <th>week_39</th>\n",
       "      <th>trap_T003</th>\n",
       "      <th>trap_T061</th>\n",
       "      <th>trap_T128</th>\n",
       "      <th>trap_T230</th>\n",
       "      <th>trap_T008</th>\n",
       "      <th>trap_T011</th>\n",
       "      <th>trap_T009</th>\n",
       "      <th>trap_T090</th>\n",
       "      <th>...</th>\n",
       "      <th>trap_T233</th>\n",
       "      <th>trap_T225</th>\n",
       "      <th>trap_T095</th>\n",
       "      <th>trap_T103</th>\n",
       "      <th>trap_T030</th>\n",
       "      <th>trap_T228</th>\n",
       "      <th>trap_T223</th>\n",
       "      <th>trap_T031</th>\n",
       "      <th>trap_T015</th>\n",
       "      <th>trap_T221</th>\n",
       "      <th>tavg</th>\n",
       "      <th>dewpoint</th>\n",
       "      <th>preciptotal</th>\n",
       "      <th>stnpressure</th>\n",
       "      <th>sealevel</th>\n",
       "      <th>resultdir</th>\n",
       "      <th>avgspeed</th>\n",
       "      <th>sunset</th>\n",
       "      <th>br</th>\n",
       "      <th>fu</th>\n",
       "      <th>hz</th>\n",
       "      <th>ra</th>\n",
       "      <th>ts</th>\n",
       "      <th>tsra</th>\n",
       "      <th>vcts</th>\n",
       "    </tr>\n",
       "  </thead>\n",
       "  <tbody>\n",
       "    <tr>\n",
       "      <th>0</th>\n",
       "      <td>41.95469</td>\n",
       "      <td>-87.800991</td>\n",
       "      <td>1</td>\n",
       "      <td>0</td>\n",
       "      <td>0</td>\n",
       "      <td>0</td>\n",
       "      <td>0</td>\n",
       "      <td>0</td>\n",
       "      <td>0</td>\n",
       "      <td>0</td>\n",
       "      <td>0</td>\n",
       "      <td>0</td>\n",
       "      <td>0</td>\n",
       "      <td>0</td>\n",
       "      <td>0</td>\n",
       "      <td>0</td>\n",
       "      <td>0</td>\n",
       "      <td>0</td>\n",
       "      <td>0</td>\n",
       "      <td>0</td>\n",
       "      <td>0</td>\n",
       "      <td>0</td>\n",
       "      <td>0</td>\n",
       "      <td>0</td>\n",
       "      <td>0</td>\n",
       "      <td>...</td>\n",
       "      <td>0</td>\n",
       "      <td>0</td>\n",
       "      <td>0</td>\n",
       "      <td>0</td>\n",
       "      <td>0</td>\n",
       "      <td>0</td>\n",
       "      <td>0</td>\n",
       "      <td>0</td>\n",
       "      <td>0</td>\n",
       "      <td>0</td>\n",
       "      <td>66.0</td>\n",
       "      <td>59</td>\n",
       "      <td>0.005</td>\n",
       "      <td>28.9</td>\n",
       "      <td>29.62</td>\n",
       "      <td>4</td>\n",
       "      <td>5.2</td>\n",
       "      <td>19.366667</td>\n",
       "      <td>1</td>\n",
       "      <td>0</td>\n",
       "      <td>1</td>\n",
       "      <td>0</td>\n",
       "      <td>0</td>\n",
       "      <td>1</td>\n",
       "      <td>0</td>\n",
       "    </tr>\n",
       "    <tr>\n",
       "      <th>1</th>\n",
       "      <td>41.95469</td>\n",
       "      <td>-87.800991</td>\n",
       "      <td>0</td>\n",
       "      <td>0</td>\n",
       "      <td>1</td>\n",
       "      <td>0</td>\n",
       "      <td>0</td>\n",
       "      <td>0</td>\n",
       "      <td>0</td>\n",
       "      <td>0</td>\n",
       "      <td>0</td>\n",
       "      <td>0</td>\n",
       "      <td>0</td>\n",
       "      <td>0</td>\n",
       "      <td>0</td>\n",
       "      <td>0</td>\n",
       "      <td>0</td>\n",
       "      <td>0</td>\n",
       "      <td>0</td>\n",
       "      <td>0</td>\n",
       "      <td>0</td>\n",
       "      <td>0</td>\n",
       "      <td>0</td>\n",
       "      <td>0</td>\n",
       "      <td>0</td>\n",
       "      <td>...</td>\n",
       "      <td>0</td>\n",
       "      <td>0</td>\n",
       "      <td>0</td>\n",
       "      <td>0</td>\n",
       "      <td>0</td>\n",
       "      <td>0</td>\n",
       "      <td>0</td>\n",
       "      <td>0</td>\n",
       "      <td>0</td>\n",
       "      <td>0</td>\n",
       "      <td>66.0</td>\n",
       "      <td>59</td>\n",
       "      <td>0.005</td>\n",
       "      <td>28.9</td>\n",
       "      <td>29.62</td>\n",
       "      <td>4</td>\n",
       "      <td>5.2</td>\n",
       "      <td>19.366667</td>\n",
       "      <td>1</td>\n",
       "      <td>0</td>\n",
       "      <td>1</td>\n",
       "      <td>0</td>\n",
       "      <td>0</td>\n",
       "      <td>1</td>\n",
       "      <td>0</td>\n",
       "    </tr>\n",
       "    <tr>\n",
       "      <th>2</th>\n",
       "      <td>41.95469</td>\n",
       "      <td>-87.800991</td>\n",
       "      <td>0</td>\n",
       "      <td>1</td>\n",
       "      <td>0</td>\n",
       "      <td>0</td>\n",
       "      <td>0</td>\n",
       "      <td>0</td>\n",
       "      <td>0</td>\n",
       "      <td>0</td>\n",
       "      <td>0</td>\n",
       "      <td>0</td>\n",
       "      <td>0</td>\n",
       "      <td>0</td>\n",
       "      <td>0</td>\n",
       "      <td>0</td>\n",
       "      <td>0</td>\n",
       "      <td>0</td>\n",
       "      <td>0</td>\n",
       "      <td>0</td>\n",
       "      <td>0</td>\n",
       "      <td>0</td>\n",
       "      <td>0</td>\n",
       "      <td>0</td>\n",
       "      <td>0</td>\n",
       "      <td>...</td>\n",
       "      <td>0</td>\n",
       "      <td>0</td>\n",
       "      <td>0</td>\n",
       "      <td>0</td>\n",
       "      <td>0</td>\n",
       "      <td>0</td>\n",
       "      <td>0</td>\n",
       "      <td>0</td>\n",
       "      <td>0</td>\n",
       "      <td>0</td>\n",
       "      <td>66.0</td>\n",
       "      <td>59</td>\n",
       "      <td>0.005</td>\n",
       "      <td>28.9</td>\n",
       "      <td>29.62</td>\n",
       "      <td>4</td>\n",
       "      <td>5.2</td>\n",
       "      <td>19.366667</td>\n",
       "      <td>1</td>\n",
       "      <td>0</td>\n",
       "      <td>1</td>\n",
       "      <td>0</td>\n",
       "      <td>0</td>\n",
       "      <td>1</td>\n",
       "      <td>0</td>\n",
       "    </tr>\n",
       "    <tr>\n",
       "      <th>3</th>\n",
       "      <td>41.95469</td>\n",
       "      <td>-87.800991</td>\n",
       "      <td>0</td>\n",
       "      <td>0</td>\n",
       "      <td>0</td>\n",
       "      <td>0</td>\n",
       "      <td>0</td>\n",
       "      <td>0</td>\n",
       "      <td>0</td>\n",
       "      <td>0</td>\n",
       "      <td>0</td>\n",
       "      <td>0</td>\n",
       "      <td>0</td>\n",
       "      <td>0</td>\n",
       "      <td>0</td>\n",
       "      <td>0</td>\n",
       "      <td>0</td>\n",
       "      <td>0</td>\n",
       "      <td>0</td>\n",
       "      <td>0</td>\n",
       "      <td>0</td>\n",
       "      <td>0</td>\n",
       "      <td>0</td>\n",
       "      <td>0</td>\n",
       "      <td>0</td>\n",
       "      <td>...</td>\n",
       "      <td>0</td>\n",
       "      <td>0</td>\n",
       "      <td>0</td>\n",
       "      <td>0</td>\n",
       "      <td>0</td>\n",
       "      <td>0</td>\n",
       "      <td>0</td>\n",
       "      <td>0</td>\n",
       "      <td>0</td>\n",
       "      <td>0</td>\n",
       "      <td>66.0</td>\n",
       "      <td>59</td>\n",
       "      <td>0.005</td>\n",
       "      <td>28.9</td>\n",
       "      <td>29.62</td>\n",
       "      <td>4</td>\n",
       "      <td>5.2</td>\n",
       "      <td>19.366667</td>\n",
       "      <td>1</td>\n",
       "      <td>0</td>\n",
       "      <td>1</td>\n",
       "      <td>0</td>\n",
       "      <td>0</td>\n",
       "      <td>1</td>\n",
       "      <td>0</td>\n",
       "    </tr>\n",
       "    <tr>\n",
       "      <th>4</th>\n",
       "      <td>41.95469</td>\n",
       "      <td>-87.800991</td>\n",
       "      <td>0</td>\n",
       "      <td>0</td>\n",
       "      <td>0</td>\n",
       "      <td>0</td>\n",
       "      <td>0</td>\n",
       "      <td>0</td>\n",
       "      <td>0</td>\n",
       "      <td>0</td>\n",
       "      <td>0</td>\n",
       "      <td>0</td>\n",
       "      <td>0</td>\n",
       "      <td>0</td>\n",
       "      <td>0</td>\n",
       "      <td>0</td>\n",
       "      <td>0</td>\n",
       "      <td>0</td>\n",
       "      <td>0</td>\n",
       "      <td>0</td>\n",
       "      <td>0</td>\n",
       "      <td>0</td>\n",
       "      <td>0</td>\n",
       "      <td>0</td>\n",
       "      <td>0</td>\n",
       "      <td>...</td>\n",
       "      <td>0</td>\n",
       "      <td>0</td>\n",
       "      <td>0</td>\n",
       "      <td>0</td>\n",
       "      <td>0</td>\n",
       "      <td>0</td>\n",
       "      <td>0</td>\n",
       "      <td>0</td>\n",
       "      <td>0</td>\n",
       "      <td>0</td>\n",
       "      <td>66.0</td>\n",
       "      <td>59</td>\n",
       "      <td>0.005</td>\n",
       "      <td>28.9</td>\n",
       "      <td>29.62</td>\n",
       "      <td>4</td>\n",
       "      <td>5.2</td>\n",
       "      <td>19.366667</td>\n",
       "      <td>1</td>\n",
       "      <td>0</td>\n",
       "      <td>1</td>\n",
       "      <td>0</td>\n",
       "      <td>0</td>\n",
       "      <td>1</td>\n",
       "      <td>0</td>\n",
       "    </tr>\n",
       "  </tbody>\n",
       "</table>\n",
       "<p>5 rows × 78 columns</p>\n",
       "</div>"
      ],
      "text/plain": [
       "   latitude  longitude  culex_pipiens/restuans  culex_pipiens  culex_restuans  \\\n",
       "0  41.95469 -87.800991                       1              0               0   \n",
       "1  41.95469 -87.800991                       0              0               1   \n",
       "2  41.95469 -87.800991                       0              1               0   \n",
       "3  41.95469 -87.800991                       0              0               0   \n",
       "4  41.95469 -87.800991                       0              0               0   \n",
       "\n",
       "   week_28  week_29  week_30  week_31  week_32  week_33  week_34  week_35  \\\n",
       "0        0        0        0        0        0        0        0        0   \n",
       "1        0        0        0        0        0        0        0        0   \n",
       "2        0        0        0        0        0        0        0        0   \n",
       "3        0        0        0        0        0        0        0        0   \n",
       "4        0        0        0        0        0        0        0        0   \n",
       "\n",
       "   week_36  week_37  week_38  week_39  trap_T003  trap_T061  trap_T128  \\\n",
       "0        0        0        0        0          0          0          0   \n",
       "1        0        0        0        0          0          0          0   \n",
       "2        0        0        0        0          0          0          0   \n",
       "3        0        0        0        0          0          0          0   \n",
       "4        0        0        0        0          0          0          0   \n",
       "\n",
       "   trap_T230  trap_T008  trap_T011  trap_T009  trap_T090  ...  trap_T233  \\\n",
       "0          0          0          0          0          0  ...          0   \n",
       "1          0          0          0          0          0  ...          0   \n",
       "2          0          0          0          0          0  ...          0   \n",
       "3          0          0          0          0          0  ...          0   \n",
       "4          0          0          0          0          0  ...          0   \n",
       "\n",
       "   trap_T225  trap_T095  trap_T103  trap_T030  trap_T228  trap_T223  \\\n",
       "0          0          0          0          0          0          0   \n",
       "1          0          0          0          0          0          0   \n",
       "2          0          0          0          0          0          0   \n",
       "3          0          0          0          0          0          0   \n",
       "4          0          0          0          0          0          0   \n",
       "\n",
       "   trap_T031  trap_T015  trap_T221  tavg  dewpoint  preciptotal  stnpressure  \\\n",
       "0          0          0          0  66.0        59        0.005         28.9   \n",
       "1          0          0          0  66.0        59        0.005         28.9   \n",
       "2          0          0          0  66.0        59        0.005         28.9   \n",
       "3          0          0          0  66.0        59        0.005         28.9   \n",
       "4          0          0          0  66.0        59        0.005         28.9   \n",
       "\n",
       "   sealevel  resultdir  avgspeed     sunset  br  fu  hz  ra  ts  tsra  vcts  \n",
       "0     29.62          4       5.2  19.366667   1   0   1   0   0     1     0  \n",
       "1     29.62          4       5.2  19.366667   1   0   1   0   0     1     0  \n",
       "2     29.62          4       5.2  19.366667   1   0   1   0   0     1     0  \n",
       "3     29.62          4       5.2  19.366667   1   0   1   0   0     1     0  \n",
       "4     29.62          4       5.2  19.366667   1   0   1   0   0     1     0  \n",
       "\n",
       "[5 rows x 78 columns]"
      ]
     },
     "execution_count": 6,
     "metadata": {},
     "output_type": "execute_result"
    }
   ],
   "source": [
    "kaggle_test = lag_test.drop(columns = ['wnvpresent','id'])\n",
    "kaggle_test.head(5)"
   ]
  },
  {
   "cell_type": "code",
   "execution_count": null,
   "metadata": {},
   "outputs": [
    {
     "data": {
      "text/plain": [
       "(116293, 78)"
      ]
     },
     "execution_count": 7,
     "metadata": {},
     "output_type": "execute_result"
    }
   ],
   "source": [
    "kaggle_test.shape"
   ]
  },
  {
   "cell_type": "markdown",
   "metadata": {},
   "source": [
    "Train test split"
   ]
  },
  {
   "cell_type": "code",
   "execution_count": null,
   "metadata": {},
   "outputs": [],
   "source": [
    "# Splitting X and y into training and testing datasets.\n",
    "\n",
    "X_train, X_test, y_train, y_test = train_test_split(X, y, stratify=y, random_state=42)"
   ]
  },
  {
   "cell_type": "code",
   "execution_count": null,
   "metadata": {},
   "outputs": [],
   "source": [
    "# Scaling X_train to the standard scale.\n",
    "\n",
    "ss = StandardScaler()\n",
    "X_train_sc = ss.fit_transform(X_train)\n",
    "\n",
    "# Transforming X_test to the same scale.\n",
    "\n",
    "X_test_sc = ss.transform(X_test)"
   ]
  },
  {
   "cell_type": "code",
   "execution_count": null,
   "metadata": {},
   "outputs": [
    {
     "name": "stderr",
     "output_type": "stream",
     "text": [
      "C:\\Users\\User\\anaconda3\\envs\\dsi\\lib\\site-packages\\sklearn\\base.py:493: FutureWarning: The feature names should match those that were passed during fit. Starting version 1.2, an error will be raised.\n",
      "Feature names must be in the same order as they were in fit.\n",
      "\n",
      "  warnings.warn(message, FutureWarning)\n"
     ]
    }
   ],
   "source": [
    "# Transforming actual test dataframe to the same scale (to generate predictions for kaggle submission later).\n",
    "\n",
    "kaggle_test_sc = ss.transform(kaggle_test)"
   ]
  },
  {
   "cell_type": "markdown",
   "metadata": {},
   "source": [
    "# Classification Modelling"
   ]
  },
  {
   "cell_type": "markdown",
   "metadata": {},
   "source": [
    "### Class balancing Technique\n",
    "\n",
    "We will be using only `smote` for this project"
   ]
  },
  {
   "cell_type": "code",
   "execution_count": null,
   "metadata": {},
   "outputs": [],
   "source": [
    "# instantiate SMOTE\n",
    "smote = SMOTE(random_state=42)"
   ]
  },
  {
   "cell_type": "code",
   "execution_count": null,
   "metadata": {},
   "outputs": [],
   "source": [
    "X_train_sc_smote, y_train_smote = smote.fit_resample(X_train_sc, y_train)"
   ]
  },
  {
   "cell_type": "code",
   "execution_count": null,
   "metadata": {},
   "outputs": [
    {
     "data": {
      "text/plain": [
       "0.0    6013\n",
       "1.0    6013\n",
       "Name: wnvpresent, dtype: int64"
      ]
     },
     "execution_count": 13,
     "metadata": {},
     "output_type": "execute_result"
    }
   ],
   "source": [
    "# Checking the distribution of classes with SMOTE balancing technique.\n",
    "\n",
    "y_train_smote.value_counts()"
   ]
  },
  {
   "cell_type": "markdown",
   "metadata": {},
   "source": [
    "We can see the library helped balance the proportions between two classes. \n",
    "\n",
    "`SMOTE` is an over-sampling method, that creates copies of the minority class data points with small variations, making synthetic samples more diverse [source](https://www.analyticsvidhya.com/blog/2020/10/overcoming-class-imbalance-using-smote-techniques/). Hence we see the number of data points for the positive class matching with the negative class"
   ]
  },
  {
   "cell_type": "markdown",
   "metadata": {},
   "source": [
    "### Logistic regression & SMOTE"
   ]
  },
  {
   "cell_type": "code",
   "execution_count": null,
   "metadata": {},
   "outputs": [],
   "source": [
    "# Creating a pipeline object using imblearn.pipeline with SMOTE and LogisticRegression.\n",
    "\n",
    "pipe_logreg = make_pipeline(SMOTE(random_state=42),\n",
    "                      LogisticRegression(penalty='elasticnet', solver='saga', random_state=42, max_iter=1000)\n",
    "                     )"
   ]
  },
  {
   "cell_type": "code",
   "execution_count": null,
   "metadata": {},
   "outputs": [
    {
     "data": {
      "text/plain": [
       "{'memory': None,\n",
       " 'steps': [('smote', SMOTE(random_state=42)),\n",
       "  ('logisticregression',\n",
       "   LogisticRegression(max_iter=1000, penalty='elasticnet', random_state=42,\n",
       "                      solver='saga'))],\n",
       " 'verbose': False,\n",
       " 'smote': SMOTE(random_state=42),\n",
       " 'logisticregression': LogisticRegression(max_iter=1000, penalty='elasticnet', random_state=42,\n",
       "                    solver='saga'),\n",
       " 'smote__k_neighbors': 5,\n",
       " 'smote__n_jobs': None,\n",
       " 'smote__random_state': 42,\n",
       " 'smote__sampling_strategy': 'auto',\n",
       " 'logisticregression__C': 1.0,\n",
       " 'logisticregression__class_weight': None,\n",
       " 'logisticregression__dual': False,\n",
       " 'logisticregression__fit_intercept': True,\n",
       " 'logisticregression__intercept_scaling': 1,\n",
       " 'logisticregression__l1_ratio': None,\n",
       " 'logisticregression__max_iter': 1000,\n",
       " 'logisticregression__multi_class': 'auto',\n",
       " 'logisticregression__n_jobs': None,\n",
       " 'logisticregression__penalty': 'elasticnet',\n",
       " 'logisticregression__random_state': 42,\n",
       " 'logisticregression__solver': 'saga',\n",
       " 'logisticregression__tol': 0.0001,\n",
       " 'logisticregression__verbose': 0,\n",
       " 'logisticregression__warm_start': False}"
      ]
     },
     "execution_count": 15,
     "metadata": {},
     "output_type": "execute_result"
    }
   ],
   "source": [
    "pipe_logreg.get_params()"
   ]
  },
  {
   "cell_type": "code",
   "execution_count": null,
   "metadata": {},
   "outputs": [],
   "source": [
    "# {'logisticregression__C': 2.7777777777777777,\n",
    "#  'logisticregression__l1_ratio': 1}"
   ]
  },
  {
   "cell_type": "code",
   "execution_count": null,
   "metadata": {},
   "outputs": [],
   "source": [
    "# Establishing ranges of hyperparameters C and l1_ratio for GridSearchCV, and class_weight.\n",
    "\n",
    "pipe_logreg_params = {\n",
    "    'logisticregression__C': np.linspace(0,5,10),\n",
    "    'logisticregression__l1_ratio': [1],\n",
    "    }"
   ]
  },
  {
   "cell_type": "code",
   "execution_count": null,
   "metadata": {},
   "outputs": [],
   "source": [
    "# Creating a GridSearchCV with scoring of ROC_AUC\n",
    "\n",
    "gs_logreg = GridSearchCV(pipe_logreg, \n",
    "                        param_grid=pipe_logreg_params, \n",
    "                        cv=5, \n",
    "                        scoring='roc_auc',\n",
    "                        n_jobs = -1\n",
    "                       )"
   ]
  },
  {
   "cell_type": "code",
   "execution_count": null,
   "metadata": {},
   "outputs": [
    {
     "name": "stderr",
     "output_type": "stream",
     "text": [
      "C:\\Users\\User\\anaconda3\\envs\\dsi\\lib\\site-packages\\sklearn\\model_selection\\_validation.py:372: FitFailedWarning: \n",
      "5 fits failed out of a total of 50.\n",
      "The score on these train-test partitions for these parameters will be set to nan.\n",
      "If these failures are not expected, you can try to debug them by setting error_score='raise'.\n",
      "\n",
      "Below are more details about the failures:\n",
      "--------------------------------------------------------------------------------\n",
      "5 fits failed with the following error:\n",
      "Traceback (most recent call last):\n",
      "  File \"C:\\Users\\User\\anaconda3\\envs\\dsi\\lib\\site-packages\\sklearn\\model_selection\\_validation.py\", line 680, in _fit_and_score\n",
      "    estimator.fit(X_train, y_train, **fit_params)\n",
      "  File \"C:\\Users\\User\\anaconda3\\envs\\dsi\\lib\\site-packages\\imblearn\\pipeline.py\", line 272, in fit\n",
      "    self._final_estimator.fit(Xt, yt, **fit_params_last_step)\n",
      "  File \"C:\\Users\\User\\anaconda3\\envs\\dsi\\lib\\site-packages\\sklearn\\linear_model\\_logistic.py\", line 1589, in fit\n",
      "    fold_coefs_ = Parallel(\n",
      "  File \"C:\\Users\\User\\anaconda3\\envs\\dsi\\lib\\site-packages\\joblib\\parallel.py\", line 1043, in __call__\n",
      "    if self.dispatch_one_batch(iterator):\n",
      "  File \"C:\\Users\\User\\anaconda3\\envs\\dsi\\lib\\site-packages\\joblib\\parallel.py\", line 861, in dispatch_one_batch\n",
      "    self._dispatch(tasks)\n",
      "  File \"C:\\Users\\User\\anaconda3\\envs\\dsi\\lib\\site-packages\\joblib\\parallel.py\", line 779, in _dispatch\n",
      "    job = self._backend.apply_async(batch, callback=cb)\n",
      "  File \"C:\\Users\\User\\anaconda3\\envs\\dsi\\lib\\site-packages\\joblib\\_parallel_backends.py\", line 208, in apply_async\n",
      "    result = ImmediateResult(func)\n",
      "  File \"C:\\Users\\User\\anaconda3\\envs\\dsi\\lib\\site-packages\\joblib\\_parallel_backends.py\", line 572, in __init__\n",
      "    self.results = batch()\n",
      "  File \"C:\\Users\\User\\anaconda3\\envs\\dsi\\lib\\site-packages\\joblib\\parallel.py\", line 262, in __call__\n",
      "    return [func(*args, **kwargs)\n",
      "  File \"C:\\Users\\User\\anaconda3\\envs\\dsi\\lib\\site-packages\\joblib\\parallel.py\", line 262, in <listcomp>\n",
      "    return [func(*args, **kwargs)\n",
      "  File \"C:\\Users\\User\\anaconda3\\envs\\dsi\\lib\\site-packages\\sklearn\\utils\\fixes.py\", line 216, in __call__\n",
      "    return self.function(*args, **kwargs)\n",
      "  File \"C:\\Users\\User\\anaconda3\\envs\\dsi\\lib\\site-packages\\sklearn\\linear_model\\_logistic.py\", line 864, in _logistic_regression_path\n",
      "    w0, n_iter_i, warm_start_sag = sag_solver(\n",
      "  File \"C:\\Users\\User\\anaconda3\\envs\\dsi\\lib\\site-packages\\sklearn\\linear_model\\_sag.py\", line 327, in sag_solver\n",
      "    num_seen, n_iter_ = sag(\n",
      "  File \"sklearn\\linear_model\\_sag_fast.pyx\", line 616, in sklearn.linear_model._sag_fast.sag64\n",
      "ValueError: Floating-point under-/overflow occurred at epoch #1. Scaling input data with StandardScaler or MinMaxScaler might help.\n",
      "\n",
      "  warnings.warn(some_fits_failed_message, FitFailedWarning)\n",
      "C:\\Users\\User\\anaconda3\\envs\\dsi\\lib\\site-packages\\sklearn\\model_selection\\_search.py:969: UserWarning: One or more of the test scores are non-finite: [       nan 0.81174393 0.81171971 0.81163792 0.81159496 0.811508\n",
      " 0.81147198 0.8114719  0.81144541 0.8114019 ]\n",
      "  warnings.warn(\n"
     ]
    },
    {
     "data": {
      "text/plain": [
       "GridSearchCV(cv=5,\n",
       "             estimator=Pipeline(steps=[('smote', SMOTE(random_state=42)),\n",
       "                                       ('logisticregression',\n",
       "                                        LogisticRegression(max_iter=1000,\n",
       "                                                           penalty='elasticnet',\n",
       "                                                           random_state=42,\n",
       "                                                           solver='saga'))]),\n",
       "             n_jobs=-1,\n",
       "             param_grid={'logisticregression__C': array([0.        , 0.55555556, 1.11111111, 1.66666667, 2.22222222,\n",
       "       2.77777778, 3.33333333, 3.88888889, 4.44444444, 5.        ]),\n",
       "                         'logisticregression__l1_ratio': [1]},\n",
       "             scoring='roc_auc')"
      ]
     },
     "execution_count": 19,
     "metadata": {},
     "output_type": "execute_result"
    }
   ],
   "source": [
    "# Fitting GridSearchCV with SMOTE and LogisticRegression on X_train_sc and y_train.\n",
    "\n",
    "gs_logreg.fit(X_train_sc, y_train)"
   ]
  },
  {
   "cell_type": "code",
   "execution_count": null,
   "metadata": {},
   "outputs": [
    {
     "data": {
      "text/plain": [
       "{'logisticregression__C': 0.5555555555555556,\n",
       " 'logisticregression__l1_ratio': 1}"
      ]
     },
     "execution_count": 20,
     "metadata": {},
     "output_type": "execute_result"
    }
   ],
   "source": [
    "gs_logreg.best_params_"
   ]
  },
  {
   "cell_type": "code",
   "execution_count": null,
   "metadata": {},
   "outputs": [],
   "source": [
    "# Scoring model for all matrix \n",
    "\n",
    "train_acc = gs_logreg.score(X_train_sc, y_train)\n",
    "cross_val_acc = gs_logreg.best_score_\n",
    "test_acc = gs_logreg.score(X_test_sc, y_test)\n",
    "preds = gs_logreg.predict(X_test_sc)\n",
    "y_pred_proba = gs_logreg.predict_proba(X_test_sc)\n",
    "\n",
    "confusion_matrix(y_test, # True values.\n",
    "                 preds)# Predicted values.\n",
    "tn, fp, fn, tp = confusion_matrix(y_test, preds).ravel();\n",
    "\n",
    "sensitivity = tp/(tp+fn)\n",
    "specificity = tn/(tn+fp)\n",
    "precision = tp/(tp+fp)\n",
    "roc_auc  = roc_auc_score(y_test, y_pred_proba[:,1])\n"
   ]
  },
  {
   "cell_type": "code",
   "execution_count": null,
   "metadata": {},
   "outputs": [
    {
     "name": "stderr",
     "output_type": "stream",
     "text": [
      "C:\\Users\\User\\anaconda3\\envs\\dsi\\lib\\site-packages\\sklearn\\utils\\deprecation.py:87: FutureWarning: Function plot_confusion_matrix is deprecated; Function `plot_confusion_matrix` is deprecated in 1.0 and will be removed in 1.2. Use one of the class methods: ConfusionMatrixDisplay.from_predictions or ConfusionMatrixDisplay.from_estimator.\n",
      "  warnings.warn(msg, category=FutureWarning)\n"
     ]
    },
    {
     "data": {
      "image/png": "[encoded data removed]",
      "text/plain": [
       "<Figure size 432x288 with 2 Axes>"
      ]
     },
     "metadata": {
      "needs_background": "light"
     },
     "output_type": "display_data"
    }
   ],
   "source": [
    "# Plot Confusion matrix\n",
    "plot_confusion_matrix(gs_logreg, X_test_sc, y_test, cmap='Blues', \n",
    "                      values_format='d', display_labels=['No WnvPresent', 'WnvPresent']);                 "
   ]
  },
  {
   "cell_type": "code",
   "execution_count": null,
   "metadata": {},
   "outputs": [],
   "source": [
    "summary_df = pd.DataFrame(columns=['Classifier',\n",
    "                                   'Class Balancing Technique',\n",
    "                                   'Train Accuracy',\n",
    "                                   'GridSearchCV Accuracy',\n",
    "                                   'Actual Test Accuracy',\n",
    "                                   'Overfit (-ve) / Underfit (+ve)',\n",
    "                                   'Sensitivity',\n",
    "                                   'Specificity',\n",
    "                                   'Precision',\n",
    "                                   'ROC-AUC',\n",
    "                                  ])"
   ]
  },
  {
   "cell_type": "code",
   "execution_count": null,
   "metadata": {},
   "outputs": [
    {
     "data": {
      "text/html": [
       "<div>\n",
       "<style scoped>\n",
       "    .dataframe tbody tr th:only-of-type {\n",
       "        vertical-align: middle;\n",
       "    }\n",
       "\n",
       "    .dataframe tbody tr th {\n",
       "        vertical-align: top;\n",
       "    }\n",
       "\n",
       "    .dataframe thead th {\n",
       "        text-align: right;\n",
       "    }\n",
       "</style>\n",
       "<table border=\"1\" class=\"dataframe\">\n",
       "  <thead>\n",
       "    <tr style=\"text-align: right;\">\n",
       "      <th></th>\n",
       "      <th>Classifier</th>\n",
       "      <th>Class Balancing Technique</th>\n",
       "      <th>Train Accuracy</th>\n",
       "      <th>GridSearchCV Accuracy</th>\n",
       "      <th>Actual Test Accuracy</th>\n",
       "      <th>Overfit (-ve) / Underfit (+ve)</th>\n",
       "      <th>Sensitivity</th>\n",
       "      <th>Specificity</th>\n",
       "      <th>Precision</th>\n",
       "      <th>ROC-AUC</th>\n",
       "    </tr>\n",
       "  </thead>\n",
       "  <tbody>\n",
       "    <tr>\n",
       "      <th>1</th>\n",
       "      <td>LogisticRegression</td>\n",
       "      <td>SMOTE</td>\n",
       "      <td>0.866</td>\n",
       "      <td>0.812</td>\n",
       "      <td>0.813</td>\n",
       "      <td>0.053</td>\n",
       "      <td>0.754</td>\n",
       "      <td>0.742</td>\n",
       "      <td>0.142</td>\n",
       "      <td>0.813</td>\n",
       "    </tr>\n",
       "  </tbody>\n",
       "</table>\n",
       "</div>"
      ],
      "text/plain": [
       "           Classifier Class Balancing Technique  Train Accuracy  \\\n",
       "1  LogisticRegression                     SMOTE           0.866   \n",
       "\n",
       "   GridSearchCV Accuracy  Actual Test Accuracy  \\\n",
       "1                  0.812                 0.813   \n",
       "\n",
       "   Overfit (-ve) / Underfit (+ve)  Sensitivity  Specificity  Precision  \\\n",
       "1                           0.053        0.754        0.742      0.142   \n",
       "\n",
       "   ROC-AUC  \n",
       "1    0.813  "
      ]
     },
     "execution_count": 24,
     "metadata": {},
     "output_type": "execute_result"
    }
   ],
   "source": [
    "summary_df.loc[1] = [\"LogisticRegression\",\n",
    "                     \"SMOTE\",\n",
    "                     round(train_acc, 3),\n",
    "                     round(cross_val_acc, 3),\n",
    "                     round(test_acc, 3),\n",
    "                     round(train_acc-test_acc, 3),\n",
    "                     round(sensitivity, 3),\n",
    "                     round(specificity, 3),\n",
    "                     round(precision, 3),\n",
    "                     round(roc_auc, 3),\n",
    "                    ]\n",
    "\n",
    "summary_df"
   ]
  },
  {
   "cell_type": "markdown",
   "metadata": {},
   "source": [
    "### Random Forest Classifier & SMOTE"
   ]
  },
  {
   "cell_type": "code",
   "execution_count": null,
   "metadata": {},
   "outputs": [],
   "source": [
    "# # Creating a pipeline object using imblearn.pipeline with SMOTE and RandomForestClassifier.\n",
    "\n",
    "# rfc_smote_pipe = make_pipeline(\n",
    "#     SMOTE(\n",
    "#         # sampling_strategy='minority',\n",
    "#         random_state=42,\n",
    "#         k_neighbors=21,    \n",
    "#     ),\n",
    "#     RandomForestClassifier(\n",
    "#         n_estimators=2500,\n",
    "#         ccp_alpha=0,\n",
    "#         max_depth=3,\n",
    "#         # min_samples_split=5,\n",
    "#         # min_samples_leaf=200,\n",
    "#         random_state=42,\n",
    "#     )\n",
    "# )"
   ]
  },
  {
   "cell_type": "code",
   "execution_count": null,
   "metadata": {},
   "outputs": [],
   "source": [
    "# Creating a pipeline object using imblearn.pipeline with SMOTE and RandomForestClassifier.\n",
    "\n",
    "rfc_smote_pipe = make_pipeline(\n",
    "    SMOTE(\n",
    "        # sampling_strategy='minority',\n",
    "        random_state=42,\n",
    "        k_neighbors=19,    \n",
    "    ),\n",
    "    RandomForestClassifier(\n",
    "        n_estimators=2250,\n",
    "        ccp_alpha=0,\n",
    "        max_depth=3,\n",
    "        random_state=42,\n",
    "    )\n",
    ")\n"
   ]
  },
  {
   "cell_type": "code",
   "execution_count": null,
   "metadata": {},
   "outputs": [
    {
     "data": {
      "text/plain": [
       "Pipeline(steps=[('smote', SMOTE(k_neighbors=19, random_state=42)),\n",
       "                ('randomforestclassifier',\n",
       "                 RandomForestClassifier(ccp_alpha=0, max_depth=3,\n",
       "                                        n_estimators=2250, random_state=42))])"
      ]
     },
     "execution_count": 27,
     "metadata": {},
     "output_type": "execute_result"
    }
   ],
   "source": [
    "# Fitting X_train_sc and y_train on the pipeline object defined above.\n",
    "\n",
    "rfc_smote_pipe.fit(X_train_sc, y_train)"
   ]
  },
  {
   "cell_type": "code",
   "execution_count": null,
   "metadata": {},
   "outputs": [],
   "source": [
    "# # Establishing ranges of hyperparameters for GridSearchCV\n",
    "\n",
    "# pipe_rfs_smote = {\n",
    "#     'randomforestclassifier__n_estimators': np.linspace(2000,5000,5, dtype=int)\n",
    "#     # 'randomforestclassifier__max_depth': [3,5,8],\n",
    "#     # 'randomforestclassifier__min_samples_leaf': [3,4,5],\n",
    "#     # 'randomforestclassifier__min_samples_split': [3,4,5],\n",
    "#     # 'randomforestclassifier__ccp_alpha': [0.04]\n",
    "#     }"
   ]
  },
  {
   "cell_type": "code",
   "execution_count": null,
   "metadata": {},
   "outputs": [],
   "source": [
    "# # Creating a GridSearchCV with scoring of ROC_AUC with Randomforest\n",
    "\n",
    "# gs_pipe_rfs_smote = GridSearchCV(rfc_smote_pipe, \n",
    "#                         param_grid=pipe_rfs_smote, \n",
    "#                         cv=3, \n",
    "#                         scoring='roc_auc',\n",
    "#                         n_jobs = -1\n",
    "#                        )"
   ]
  },
  {
   "cell_type": "code",
   "execution_count": null,
   "metadata": {},
   "outputs": [],
   "source": [
    "# # Fitting GridSearchCV with Random Forest Classifier\n",
    "\n",
    "# gs_pipe_rfs_smote.fit(X_train_sc, y_train)"
   ]
  },
  {
   "cell_type": "code",
   "execution_count": null,
   "metadata": {},
   "outputs": [],
   "source": [
    "# gs_pipe_rfs_smote.best_params_"
   ]
  },
  {
   "cell_type": "code",
   "execution_count": null,
   "metadata": {},
   "outputs": [],
   "source": [
    "# Scoring model for all matrix \n",
    "\n",
    "train_acc = rfc_smote_pipe.score(X_train_sc, y_train)\n",
    "cross_val_acc = cross_val_score(rfc_smote_pipe, X_train_sc,y_train, cv=3).mean()\n",
    "test_acc = rfc_smote_pipe.score(X_test_sc, y_test)\n",
    "preds = rfc_smote_pipe.predict(X_test_sc)\n",
    "y_pred_proba = rfc_smote_pipe.predict_proba(X_test_sc)\n",
    "confusion_matrix(y_test, # True values.\n",
    "                 preds)# Predicted values.\n",
    "tn, fp, fn, tp = confusion_matrix(y_test, preds).ravel();\n",
    "\n",
    "sensitivity = tp/(tp+fn)\n",
    "specificity = tn/(tn+fp)\n",
    "precision = tp/(tp+fp)\n",
    "roc_auc  = roc_auc_score(y_test, y_pred_proba[:,1])\n"
   ]
  },
  {
   "cell_type": "code",
   "execution_count": null,
   "metadata": {},
   "outputs": [
    {
     "name": "stderr",
     "output_type": "stream",
     "text": [
      "C:\\Users\\User\\anaconda3\\envs\\dsi\\lib\\site-packages\\sklearn\\utils\\deprecation.py:87: FutureWarning: Function plot_confusion_matrix is deprecated; Function `plot_confusion_matrix` is deprecated in 1.0 and will be removed in 1.2. Use one of the class methods: ConfusionMatrixDisplay.from_predictions or ConfusionMatrixDisplay.from_estimator.\n",
      "  warnings.warn(msg, category=FutureWarning)\n"
     ]
    },
    {
     "data": {
      "image/png": "[encoded data removed]",
      "text/plain": [
       "<Figure size 432x288 with 2 Axes>"
      ]
     },
     "metadata": {
      "needs_background": "light"
     },
     "output_type": "display_data"
    }
   ],
   "source": [
    "# Plot Confusion matrix\n",
    "plot_confusion_matrix(rfc_smote_pipe, X_test_sc, y_test, cmap='Blues', \n",
    "                      values_format='d', display_labels=['No WnvPresent', 'WnvPresent']);                 "
   ]
  },
  {
   "cell_type": "code",
   "execution_count": null,
   "metadata": {},
   "outputs": [
    {
     "data": {
      "text/html": [
       "<div>\n",
       "<style scoped>\n",
       "    .dataframe tbody tr th:only-of-type {\n",
       "        vertical-align: middle;\n",
       "    }\n",
       "\n",
       "    .dataframe tbody tr th {\n",
       "        vertical-align: top;\n",
       "    }\n",
       "\n",
       "    .dataframe thead th {\n",
       "        text-align: right;\n",
       "    }\n",
       "</style>\n",
       "<table border=\"1\" class=\"dataframe\">\n",
       "  <thead>\n",
       "    <tr style=\"text-align: right;\">\n",
       "      <th></th>\n",
       "      <th>Classifier</th>\n",
       "      <th>Class Balancing Technique</th>\n",
       "      <th>Train Accuracy</th>\n",
       "      <th>GridSearchCV Accuracy</th>\n",
       "      <th>Actual Test Accuracy</th>\n",
       "      <th>Overfit (-ve) / Underfit (+ve)</th>\n",
       "      <th>Sensitivity</th>\n",
       "      <th>Specificity</th>\n",
       "      <th>Precision</th>\n",
       "      <th>ROC-AUC</th>\n",
       "    </tr>\n",
       "  </thead>\n",
       "  <tbody>\n",
       "    <tr>\n",
       "      <th>1</th>\n",
       "      <td>LogisticRegression</td>\n",
       "      <td>SMOTE</td>\n",
       "      <td>0.866</td>\n",
       "      <td>0.812</td>\n",
       "      <td>0.813</td>\n",
       "      <td>0.053</td>\n",
       "      <td>0.754</td>\n",
       "      <td>0.742</td>\n",
       "      <td>0.142</td>\n",
       "      <td>0.813</td>\n",
       "    </tr>\n",
       "    <tr>\n",
       "      <th>2</th>\n",
       "      <td>RandomForestClassifier</td>\n",
       "      <td>SMOTE</td>\n",
       "      <td>0.807</td>\n",
       "      <td>0.803</td>\n",
       "      <td>0.795</td>\n",
       "      <td>0.012</td>\n",
       "      <td>0.518</td>\n",
       "      <td>0.811</td>\n",
       "      <td>0.135</td>\n",
       "      <td>0.761</td>\n",
       "    </tr>\n",
       "  </tbody>\n",
       "</table>\n",
       "</div>"
      ],
      "text/plain": [
       "               Classifier Class Balancing Technique  Train Accuracy  \\\n",
       "1      LogisticRegression                     SMOTE           0.866   \n",
       "2  RandomForestClassifier                     SMOTE           0.807   \n",
       "\n",
       "   GridSearchCV Accuracy  Actual Test Accuracy  \\\n",
       "1                  0.812                 0.813   \n",
       "2                  0.803                 0.795   \n",
       "\n",
       "   Overfit (-ve) / Underfit (+ve)  Sensitivity  Specificity  Precision  \\\n",
       "1                           0.053        0.754        0.742      0.142   \n",
       "2                           0.012        0.518        0.811      0.135   \n",
       "\n",
       "   ROC-AUC  \n",
       "1    0.813  \n",
       "2    0.761  "
      ]
     },
     "execution_count": 34,
     "metadata": {},
     "output_type": "execute_result"
    }
   ],
   "source": [
    "summary_df.loc[2] = [\"RandomForestClassifier\",\n",
    "                     \"SMOTE\",\n",
    "                     round(train_acc, 3),\n",
    "                     round(cross_val_acc, 3),\n",
    "                     round(test_acc, 3),\n",
    "                     round(train_acc-test_acc, 3),\n",
    "                     round(sensitivity, 3),\n",
    "                     round(specificity, 3),\n",
    "                     round(precision, 3),\n",
    "                     round(roc_auc, 3),\n",
    "                    ]\n",
    "\n",
    "summary_df"
   ]
  },
  {
   "cell_type": "markdown",
   "metadata": {},
   "source": [
    "After tuning `RandomForestClassifier with Smote`, we can see that the accuracy and ROC-AUC is better than `LogisticRegression`. \n",
    "\n",
    "However, sensitivity will be hard to tune upwards while maintaining high precision and ROC_AUC. Bumping up the sensitivity will bring down overall accuracy, ROC_AUC and Precision. Anything below below ROC_AUC score of 0.8 will not be good as per ([source](https://www.ncbi.nlm.nih.gov/pmc/articles/PMC2935260/#:~:text=The%20area%20under%20the%20ROC,AUC%20values%20between%200.5%2D0.6.)). Hence, we can explore tuning RandomForestClassifier with balanced subsample."
   ]
  },
  {
   "cell_type": "markdown",
   "metadata": {},
   "source": [
    "### Random Forest Classifier & Hyperparameter class_weight = `balance_subsample`"
   ]
  },
  {
   "cell_type": "markdown",
   "metadata": {},
   "source": [
    "We will be manually tuning the parameters as GridsearchCV will only optimise the model based on one scoring parameter. There is a need to find a balance between multiple matrix like accuracy, sensitivity, specifity, precision and ROC_AUC. \n"
   ]
  },
  {
   "cell_type": "code",
   "execution_count": null,
   "metadata": {},
   "outputs": [],
   "source": [
    "rfs_hyperparam_bal =  RandomForestClassifier(\n",
    "        n_estimators=1000,\n",
    "        ccp_alpha=0,\n",
    "        max_depth=10,\n",
    "        min_samples_split=3,\n",
    "        min_samples_leaf=3,\n",
    "        random_state=42,\n",
    "        class_weight='balanced_subsample')"
   ]
  },
  {
   "cell_type": "code",
   "execution_count": null,
   "metadata": {},
   "outputs": [
    {
     "data": {
      "text/plain": [
       "RandomForestClassifier(ccp_alpha=0, class_weight='balanced_subsample',\n",
       "                       max_depth=10, min_samples_leaf=3, min_samples_split=3,\n",
       "                       n_estimators=1000, random_state=42)"
      ]
     },
     "execution_count": 36,
     "metadata": {},
     "output_type": "execute_result"
    }
   ],
   "source": [
    "# Fitting X_train_sc and y_train on RandomForestClassifier object defined above.\n",
    "\n",
    "rfs_hyperparam_bal.fit(X_train_sc, y_train)"
   ]
  },
  {
   "cell_type": "code",
   "execution_count": null,
   "metadata": {},
   "outputs": [],
   "source": [
    "# # Establishing ranges of hyperparameters for GridSearchCV\n",
    "\n",
    "# pipe_rfs_hyperparam_bal = {\n",
    "#     'randomforestclassifier__n_estimators': [100,200,300],\n",
    "#     'randomforestclassifier__max_depth': [5,6],\n",
    "#     'randomforestclassifier__max_features': ['sqrt','log2',None],\n",
    "#     'randomforestclassifier__min_samples_split': [4,5],\n",
    "#     'randomforestclassifier__min_samples_leaf': [2,3,4] \n",
    "#     }"
   ]
  },
  {
   "cell_type": "code",
   "execution_count": null,
   "metadata": {},
   "outputs": [],
   "source": [
    "# # Creating a GridSearchCV with scoring of ROC_AUC with Randomforest\n",
    "\n",
    "# gs_rfs_hyperparam_bal = GridSearchCV(rfs_hyperparam_bal, \n",
    "#                         param_grid=pipe_rfs_hyperparam_bal, \n",
    "#                         cv=5, \n",
    "#                         scoring='roc_auc',\n",
    "#                         n_jobs = -1\n",
    "#                        )"
   ]
  },
  {
   "cell_type": "code",
   "execution_count": null,
   "metadata": {},
   "outputs": [
    {
     "data": {
      "text/plain": [
       "RandomForestClassifier(ccp_alpha=0, class_weight='balanced_subsample',\n",
       "                       max_depth=10, min_samples_leaf=3, min_samples_split=3,\n",
       "                       n_estimators=1000, random_state=42)"
      ]
     },
     "execution_count": 39,
     "metadata": {},
     "output_type": "execute_result"
    }
   ],
   "source": [
    "# Fitting GridSearchCV with Random Forest Classifier\n",
    "\n",
    "rfs_hyperparam_bal.fit(X_train_sc, y_train)"
   ]
  },
  {
   "cell_type": "code",
   "execution_count": null,
   "metadata": {},
   "outputs": [],
   "source": [
    "# # Best params for rfs with SMOTE\n",
    "# gs_rfs_hyperparam_bal.best_params_"
   ]
  },
  {
   "cell_type": "code",
   "execution_count": null,
   "metadata": {},
   "outputs": [],
   "source": [
    "# Scoring model for all matrix \n",
    "\n",
    "train_acc = rfs_hyperparam_bal.score(X_train_sc, y_train)\n",
    "cross_val_acc = cross_val_score(rfs_hyperparam_bal,X_train_sc,y_train, cv = 5).mean()\n",
    "test_acc = rfs_hyperparam_bal.score(X_test_sc, y_test)\n",
    "preds = rfs_hyperparam_bal.predict(X_test_sc)\n",
    "y_pred_proba = rfs_hyperparam_bal.predict_proba(X_test_sc)\n",
    "\n",
    "confusion_matrix(y_test, # True values.\n",
    "                 preds)# Predicted values.\n",
    "tn, fp, fn, tp = confusion_matrix(y_test, preds).ravel();\n",
    "\n",
    "sensitivity = tp/(tp+fn)\n",
    "specificity = tn/(tn+fp)\n",
    "precision = tp/(tp+fp)\n",
    "roc_auc  = roc_auc_score(y_test, y_pred_proba[:,1])\n"
   ]
  },
  {
   "cell_type": "code",
   "execution_count": null,
   "metadata": {},
   "outputs": [
    {
     "name": "stderr",
     "output_type": "stream",
     "text": [
      "C:\\Users\\User\\anaconda3\\envs\\dsi\\lib\\site-packages\\sklearn\\utils\\deprecation.py:87: FutureWarning: Function plot_confusion_matrix is deprecated; Function `plot_confusion_matrix` is deprecated in 1.0 and will be removed in 1.2. Use one of the class methods: ConfusionMatrixDisplay.from_predictions or ConfusionMatrixDisplay.from_estimator.\n",
      "  warnings.warn(msg, category=FutureWarning)\n"
     ]
    },
    {
     "data": {
      "image/png": "[encoded data removed]",
      "text/plain": [
       "<Figure size 432x288 with 2 Axes>"
      ]
     },
     "metadata": {
      "needs_background": "light"
     },
     "output_type": "display_data"
    }
   ],
   "source": [
    "# Plot Confusion matrix\n",
    "plot_confusion_matrix(rfs_hyperparam_bal, X_test_sc, y_test, cmap='Blues', \n",
    "                      values_format='d', display_labels=['No WnvPresent', 'WnvPresent']);                 "
   ]
  },
  {
   "cell_type": "code",
   "execution_count": null,
   "metadata": {},
   "outputs": [
    {
     "data": {
      "text/html": [
       "<div>\n",
       "<style scoped>\n",
       "    .dataframe tbody tr th:only-of-type {\n",
       "        vertical-align: middle;\n",
       "    }\n",
       "\n",
       "    .dataframe tbody tr th {\n",
       "        vertical-align: top;\n",
       "    }\n",
       "\n",
       "    .dataframe thead th {\n",
       "        text-align: right;\n",
       "    }\n",
       "</style>\n",
       "<table border=\"1\" class=\"dataframe\">\n",
       "  <thead>\n",
       "    <tr style=\"text-align: right;\">\n",
       "      <th></th>\n",
       "      <th>Classifier</th>\n",
       "      <th>Class Balancing Technique</th>\n",
       "      <th>Train Accuracy</th>\n",
       "      <th>GridSearchCV Accuracy</th>\n",
       "      <th>Actual Test Accuracy</th>\n",
       "      <th>Overfit (-ve) / Underfit (+ve)</th>\n",
       "      <th>Sensitivity</th>\n",
       "      <th>Specificity</th>\n",
       "      <th>Precision</th>\n",
       "      <th>ROC-AUC</th>\n",
       "    </tr>\n",
       "  </thead>\n",
       "  <tbody>\n",
       "    <tr>\n",
       "      <th>1</th>\n",
       "      <td>LogisticRegression</td>\n",
       "      <td>SMOTE</td>\n",
       "      <td>0.866</td>\n",
       "      <td>0.812</td>\n",
       "      <td>0.813</td>\n",
       "      <td>0.053</td>\n",
       "      <td>0.754</td>\n",
       "      <td>0.742</td>\n",
       "      <td>0.142</td>\n",
       "      <td>0.813</td>\n",
       "    </tr>\n",
       "    <tr>\n",
       "      <th>2</th>\n",
       "      <td>RandomForestClassifier</td>\n",
       "      <td>SMOTE</td>\n",
       "      <td>0.807</td>\n",
       "      <td>0.803</td>\n",
       "      <td>0.795</td>\n",
       "      <td>0.012</td>\n",
       "      <td>0.518</td>\n",
       "      <td>0.811</td>\n",
       "      <td>0.135</td>\n",
       "      <td>0.761</td>\n",
       "    </tr>\n",
       "    <tr>\n",
       "      <th>3</th>\n",
       "      <td>RandomForestClassifier</td>\n",
       "      <td>Hyperparameter: Balanced Subsample</td>\n",
       "      <td>0.816</td>\n",
       "      <td>0.815</td>\n",
       "      <td>0.795</td>\n",
       "      <td>0.022</td>\n",
       "      <td>0.667</td>\n",
       "      <td>0.802</td>\n",
       "      <td>0.161</td>\n",
       "      <td>0.830</td>\n",
       "    </tr>\n",
       "  </tbody>\n",
       "</table>\n",
       "</div>"
      ],
      "text/plain": [
       "               Classifier           Class Balancing Technique  Train Accuracy  \\\n",
       "1      LogisticRegression                               SMOTE           0.866   \n",
       "2  RandomForestClassifier                               SMOTE           0.807   \n",
       "3  RandomForestClassifier  Hyperparameter: Balanced Subsample           0.816   \n",
       "\n",
       "   GridSearchCV Accuracy  Actual Test Accuracy  \\\n",
       "1                  0.812                 0.813   \n",
       "2                  0.803                 0.795   \n",
       "3                  0.815                 0.795   \n",
       "\n",
       "   Overfit (-ve) / Underfit (+ve)  Sensitivity  Specificity  Precision  \\\n",
       "1                           0.053        0.754        0.742      0.142   \n",
       "2                           0.012        0.518        0.811      0.135   \n",
       "3                           0.022        0.667        0.802      0.161   \n",
       "\n",
       "   ROC-AUC  \n",
       "1    0.813  \n",
       "2    0.761  \n",
       "3    0.830  "
      ]
     },
     "execution_count": 43,
     "metadata": {},
     "output_type": "execute_result"
    }
   ],
   "source": [
    "summary_df.loc[3] = [\"RandomForestClassifier\",\n",
    "                     \"Hyperparameter: Balanced Subsample\",\n",
    "                     round(train_acc, 3),\n",
    "                     round(cross_val_acc, 3),\n",
    "                     round(test_acc, 3),\n",
    "                     round(train_acc-test_acc, 3),\n",
    "                     round(sensitivity, 3),\n",
    "                     round(specificity, 3),\n",
    "                     round(precision, 3),\n",
    "                     round(roc_auc, 3),\n",
    "                    ]\n",
    "\n",
    "summary_df"
   ]
  },
  {
   "cell_type": "markdown",
   "metadata": {},
   "source": [
    "This hyperparameter tuning enables RandomForestClassifier to handle unbalanced dataset without using the oversampling method, SMOTE. Although the test accuracy suffers a little, the sensitivity and ROC_AUC improved. "
   ]
  },
  {
   "cell_type": "markdown",
   "metadata": {},
   "source": [
    "### SVC with Class weight tuning"
   ]
  },
  {
   "cell_type": "code",
   "execution_count": null,
   "metadata": {},
   "outputs": [
    {
     "data": {
      "text/plain": [
       "0.0    6013\n",
       "1.0     343\n",
       "Name: wnvpresent, dtype: int64"
      ]
     },
     "execution_count": 44,
     "metadata": {},
     "output_type": "execute_result"
    }
   ],
   "source": [
    "y_train.value_counts()"
   ]
  },
  {
   "cell_type": "code",
   "execution_count": null,
   "metadata": {},
   "outputs": [],
   "source": [
    "# Weights tuned down for y and tuned up for minority class \n",
    "weights = {0:0.4, 1:100}\n",
    "\n",
    "# Instantiating SVC with weight tuning\n",
    "svc  = SVC(\n",
    "        kernel='rbf',\n",
    "        probability=True, \n",
    "        class_weight=weights,\n",
    "        random_state=42,\n",
    "        C = 0.5\n",
    ")"
   ]
  },
  {
   "cell_type": "code",
   "execution_count": null,
   "metadata": {},
   "outputs": [
    {
     "data": {
      "text/plain": [
       "SVC(C=0.5, class_weight={0: 0.4, 1: 100}, probability=True, random_state=42)"
      ]
     },
     "execution_count": 46,
     "metadata": {},
     "output_type": "execute_result"
    }
   ],
   "source": [
    "# Fitting X_train_sc and y_train on SVC\n",
    "\n",
    "svc.fit(X_train_sc, y_train)"
   ]
  },
  {
   "cell_type": "code",
   "execution_count": null,
   "metadata": {},
   "outputs": [],
   "source": [
    "# Scoring model for all matrix \n",
    "\n",
    "train_acc = svc.score(X_train_sc, y_train)\n",
    "# cross_val_acc = cross_val_score(svc, X_train_sc,y_train, cv = 3).mean()\n",
    "test_acc = svc.score(X_test_sc, y_test)\n",
    "preds = svc.predict(X_test_sc)\n",
    "y_pred_proba = svc.predict_proba(X_test_sc)\n",
    "\n",
    "confusion_matrix(y_test, # True values.\n",
    "                 preds)# Predicted values.\n",
    "tn, fp, fn, tp = confusion_matrix(y_test, preds).ravel();\n",
    "\n",
    "sensitivity = tp/(tp+fn)\n",
    "specificity = tn/(tn+fp)\n",
    "precision = tp/(tp+fp)\n",
    "roc_auc  = roc_auc_score(y_test, y_pred_proba[:,1])\n"
   ]
  },
  {
   "cell_type": "code",
   "execution_count": null,
   "metadata": {},
   "outputs": [
    {
     "name": "stderr",
     "output_type": "stream",
     "text": [
      "C:\\Users\\User\\anaconda3\\envs\\dsi\\lib\\site-packages\\sklearn\\utils\\deprecation.py:87: FutureWarning: Function plot_confusion_matrix is deprecated; Function `plot_confusion_matrix` is deprecated in 1.0 and will be removed in 1.2. Use one of the class methods: ConfusionMatrixDisplay.from_predictions or ConfusionMatrixDisplay.from_estimator.\n",
      "  warnings.warn(msg, category=FutureWarning)\n"
     ]
    },
    {
     "data": {
      "image/png": "[encoded data removed]",
      "text/plain": [
       "<Figure size 432x288 with 2 Axes>"
      ]
     },
     "metadata": {
      "needs_background": "light"
     },
     "output_type": "display_data"
    }
   ],
   "source": [
    "# Plot Confusion matrix\n",
    "plot_confusion_matrix(svc, X_test_sc, y_test, cmap='Blues', \n",
    "                      values_format='d', display_labels=['No WnvPresent', 'WnvPresent']);                 "
   ]
  },
  {
   "cell_type": "code",
   "execution_count": null,
   "metadata": {},
   "outputs": [
    {
     "data": {
      "text/html": [
       "<div>\n",
       "<style scoped>\n",
       "    .dataframe tbody tr th:only-of-type {\n",
       "        vertical-align: middle;\n",
       "    }\n",
       "\n",
       "    .dataframe tbody tr th {\n",
       "        vertical-align: top;\n",
       "    }\n",
       "\n",
       "    .dataframe thead th {\n",
       "        text-align: right;\n",
       "    }\n",
       "</style>\n",
       "<table border=\"1\" class=\"dataframe\">\n",
       "  <thead>\n",
       "    <tr style=\"text-align: right;\">\n",
       "      <th></th>\n",
       "      <th>Classifier</th>\n",
       "      <th>Class Balancing Technique</th>\n",
       "      <th>Train Accuracy</th>\n",
       "      <th>GridSearchCV Accuracy</th>\n",
       "      <th>Actual Test Accuracy</th>\n",
       "      <th>Overfit (-ve) / Underfit (+ve)</th>\n",
       "      <th>Sensitivity</th>\n",
       "      <th>Specificity</th>\n",
       "      <th>Precision</th>\n",
       "      <th>ROC-AUC</th>\n",
       "    </tr>\n",
       "  </thead>\n",
       "  <tbody>\n",
       "    <tr>\n",
       "      <th>1</th>\n",
       "      <td>LogisticRegression</td>\n",
       "      <td>SMOTE</td>\n",
       "      <td>0.866</td>\n",
       "      <td>0.812</td>\n",
       "      <td>0.813</td>\n",
       "      <td>0.053</td>\n",
       "      <td>0.754</td>\n",
       "      <td>0.742</td>\n",
       "      <td>0.142</td>\n",
       "      <td>0.813</td>\n",
       "    </tr>\n",
       "    <tr>\n",
       "      <th>2</th>\n",
       "      <td>RandomForestClassifier</td>\n",
       "      <td>SMOTE</td>\n",
       "      <td>0.807</td>\n",
       "      <td>0.803</td>\n",
       "      <td>0.795</td>\n",
       "      <td>0.012</td>\n",
       "      <td>0.518</td>\n",
       "      <td>0.811</td>\n",
       "      <td>0.135</td>\n",
       "      <td>0.761</td>\n",
       "    </tr>\n",
       "    <tr>\n",
       "      <th>3</th>\n",
       "      <td>RandomForestClassifier</td>\n",
       "      <td>Hyperparameter: Balanced Subsample</td>\n",
       "      <td>0.816</td>\n",
       "      <td>0.815</td>\n",
       "      <td>0.795</td>\n",
       "      <td>0.022</td>\n",
       "      <td>0.667</td>\n",
       "      <td>0.802</td>\n",
       "      <td>0.161</td>\n",
       "      <td>0.830</td>\n",
       "    </tr>\n",
       "    <tr>\n",
       "      <th>4</th>\n",
       "      <td>SVC</td>\n",
       "      <td>Hyperparameter: Balanced</td>\n",
       "      <td>0.658</td>\n",
       "      <td>0.815</td>\n",
       "      <td>0.622</td>\n",
       "      <td>0.036</td>\n",
       "      <td>0.667</td>\n",
       "      <td>0.619</td>\n",
       "      <td>0.091</td>\n",
       "      <td>0.709</td>\n",
       "    </tr>\n",
       "  </tbody>\n",
       "</table>\n",
       "</div>"
      ],
      "text/plain": [
       "               Classifier           Class Balancing Technique  Train Accuracy  \\\n",
       "1      LogisticRegression                               SMOTE           0.866   \n",
       "2  RandomForestClassifier                               SMOTE           0.807   \n",
       "3  RandomForestClassifier  Hyperparameter: Balanced Subsample           0.816   \n",
       "4                     SVC            Hyperparameter: Balanced           0.658   \n",
       "\n",
       "   GridSearchCV Accuracy  Actual Test Accuracy  \\\n",
       "1                  0.812                 0.813   \n",
       "2                  0.803                 0.795   \n",
       "3                  0.815                 0.795   \n",
       "4                  0.815                 0.622   \n",
       "\n",
       "   Overfit (-ve) / Underfit (+ve)  Sensitivity  Specificity  Precision  \\\n",
       "1                           0.053        0.754        0.742      0.142   \n",
       "2                           0.012        0.518        0.811      0.135   \n",
       "3                           0.022        0.667        0.802      0.161   \n",
       "4                           0.036        0.667        0.619      0.091   \n",
       "\n",
       "   ROC-AUC  \n",
       "1    0.813  \n",
       "2    0.761  \n",
       "3    0.830  \n",
       "4    0.709  "
      ]
     },
     "execution_count": 49,
     "metadata": {},
     "output_type": "execute_result"
    }
   ],
   "source": [
    "summary_df.loc[4] = [\"SVC\",\n",
    "                     \"Hyperparameter: Balanced\",\n",
    "                     round(train_acc, 3),\n",
    "                     round(cross_val_acc, 3),\n",
    "                     round(test_acc, 3),\n",
    "                     round(train_acc-test_acc, 3),\n",
    "                     round(sensitivity, 3),\n",
    "                     round(specificity, 3),\n",
    "                     round(precision, 3),\n",
    "                     round(roc_auc, 3),\n",
    "                    ]\n",
    "\n",
    "summary_df"
   ]
  },
  {
   "cell_type": "markdown",
   "metadata": {},
   "source": [
    "The SVC despite multiple tuning, was unable to get a good accuracy score while achieving higher sensitivity score. \n",
    "\n",
    "SVC is generally difficult to tune to get what we intended to achieve. Overall, its accuracy/specificity score are not as competitive as the rest of the models. Overall ROC_AUC is bad too, hence this model will not be useful."
   ]
  },
  {
   "cell_type": "markdown",
   "metadata": {},
   "source": [
    "### XGBoost & Hyperparameter tuned: `Scale_pos_weight`"
   ]
  },
  {
   "cell_type": "code",
   "execution_count": null,
   "metadata": {},
   "outputs": [
    {
     "data": {
      "text/plain": [
       "XGBClassifier(base_score=0.5, booster='dart', colsample_bylevel=1,\n",
       "              colsample_bynode=1, colsample_bytree=0.41,\n",
       "              enable_categorical=False, eval_metric='error', gamma=0, gpu_id=-1,\n",
       "              importance_type=None, interaction_constraints='',\n",
       "              learning_rate=1.6, max_delta_step=0, max_depth=4,\n",
       "              min_child_weight=3, missing=nan, monotone_constraints='()',\n",
       "              n_estimators=100, n_jobs=4, num_parallel_tree=1, predictor='auto',\n",
       "              random_state=0, reg_alpha=26, reg_lambda=1, scale_pos_weight=40,\n",
       "              subsample=0.99, tree_method='exact', use_label_encoder=False,\n",
       "              validate_parameters=1, verbosity=None)"
      ]
     },
     "execution_count": 50,
     "metadata": {},
     "output_type": "execute_result"
    }
   ],
   "source": [
    "# fit XGBoost on training data\n",
    "\n",
    "xbg_model = XGBClassifier(\n",
    "    scale_pos_weight=40,\n",
    "    learning_rate=1.6,  \n",
    "    colsample_bytree = 0.41,\n",
    "    subsample = 0.99,\n",
    "    objective='binary:logistic',\n",
    "    booster = 'dart',\n",
    "    reg_alpha = 26,\n",
    "    max_depth= 4, \n",
    "    min_child_weight = 3,\n",
    "    use_label_encoder=False,\n",
    "    eval_metric = 'error'\n",
    ")\n",
    "\n",
    "                      \n",
    "eval_set = [(X_test_sc,y_test)]\n",
    "\n",
    "\n",
    "# use AUC as eval matric\n",
    "xbg_model.fit(\n",
    "    X_train_sc,\n",
    "    y_train,\n",
    "    early_stopping_rounds=10,\n",
    "    eval_set=eval_set,\n",
    "    verbose = False,\n",
    "    eval_metric='auc'\n",
    ")"
   ]
  },
  {
   "cell_type": "code",
   "execution_count": 447,
   "metadata": {},
   "outputs": [
    {
     "data": {
      "text/plain": [
       "XGBClassifier(base_score=0.5, booster='gbtree', colsample_bylevel=1,\n",
       "              colsample_bynode=1, colsample_bytree=0.38,\n",
       "              enable_categorical=False, eval_metric='error', gamma=0, gpu_id=-1,\n",
       "              importance_type=None, interaction_constraints='',\n",
       "              learning_rate=0.02, max_delta_step=0, max_depth=6,\n",
       "              min_child_weight=1, missing=nan, monotone_constraints='()',\n",
       "              n_estimators=100, n_jobs=4, num_parallel_tree=1, predictor='auto',\n",
       "              random_state=0, reg_alpha=20, reg_lambda=1, scale_pos_weight=25,\n",
       "              subsample=0.99, tree_method='exact', use_label_encoder=False,\n",
       "              validate_parameters=1, verbosity=None)"
      ]
     },
     "execution_count": 447,
     "metadata": {},
     "output_type": "execute_result"
    }
   ],
   "source": [
    "# fit XGBoost on training data\n",
    "\n",
    "xbg_model = XGBClassifier(\n",
    "    scale_pos_weight=25,\n",
    "    learning_rate = 0.02,  \n",
    "    colsample_bytree = 0.38,\n",
    "    subsample = 0.99,\n",
    "    objective='binary:logistic',\n",
    "    # booster = 'dart',\n",
    "    reg_alpha = 20,\n",
    "    max_depth= 6, \n",
    "    # min_child_weight = 3,\n",
    "    use_label_encoder=False,\n",
    "    eval_metric = 'error'\n",
    ")\n",
    "             \n",
    "eval_set = [(X_test_sc,y_test)]\n",
    "# use AUC as eval matric\n",
    "xbg_model.fit(\n",
    "    X_train_sc,\n",
    "    y_train,\n",
    "    early_stopping_rounds=10,\n",
    "    eval_set=eval_set,\n",
    "    verbose = False,\n",
    "    eval_metric='auc'\n",
    ")"
   ]
  },
  {
   "cell_type": "code",
   "execution_count": 448,
   "metadata": {},
   "outputs": [],
   "source": [
    "# pipe_xgb = Pipeline([    \n",
    "#                     ('xgb',XGBClassifier(\n",
    "#                         objective='binary:logistic',\n",
    "#                         verbosity=1, \n",
    "#                         n_jobs=-1, \n",
    "#                         random_state=42, \n",
    "#                         eval_metric='auc', \n",
    "#                         use_label_encoder =False)),\n",
    "#                     ])\n",
    "    \n",
    "  \n",
    "# pipe_xgb_params = {\n",
    "# 'xgb__gamma': [0.5, 1, 2, 3],\n",
    "# 'xgb__learning_rate': [0.1, 0.3, 0.5, 0.7],\n",
    "# 'xgb__max_depth':[15, 20, 30, 40, 50],\n",
    "# 'xgb__min_child_weight': [10, 20, 25, 30],\n",
    "# 'xgb__n_estimators':[40, 50, 60],\n",
    "# 'xgb__scale_pos_weight': [55,60,65],\n",
    "# 'xgb__subsample':[0.5, 1]\n",
    "# }\n",
    "\n",
    "# gs_xgb = GridSearchCV(estimator=pipe_xgb, param_grid=pipe_xgb_params, cv=5, scoring='roc_auc', n_jobs = -1)\n",
    "\n",
    "# gs_xgb.fit(X_train_sc, y_train)"
   ]
  },
  {
   "cell_type": "code",
   "execution_count": 449,
   "metadata": {},
   "outputs": [],
   "source": [
    "# Scoring model for all matrix \n",
    "\n",
    "train_acc = xbg_model.score(X_train_sc, y_train)\n",
    "# cross_val_acc = cross_val_score(xbg_model, X_train_sc, y_train, cv=3).mean()\n",
    "test_acc = xbg_model.score(X_test_sc, y_test)\n",
    "preds = xbg_model.predict(X_test_sc)\n",
    "y_pred_proba = xbg_model.predict_proba(X_test_sc)\n",
    "\n",
    "confusion_matrix(y_test, # True values.\n",
    "                 preds)# Predicted values.\n",
    "tn, fp, fn, tp = confusion_matrix(y_test, preds).ravel();\n",
    "\n",
    "sensitivity = tp/(tp+fn)\n",
    "specificity = tn/(tn+fp)\n",
    "precision = tp/(tp+fp)\n",
    "roc_auc  = roc_auc_score(y_test, y_pred_proba[:,1])\n"
   ]
  },
  {
   "cell_type": "code",
   "execution_count": 450,
   "metadata": {},
   "outputs": [
    {
     "name": "stderr",
     "output_type": "stream",
     "text": [
      "C:\\Users\\User\\anaconda3\\envs\\dsi\\lib\\site-packages\\sklearn\\utils\\deprecation.py:87: FutureWarning: Function plot_confusion_matrix is deprecated; Function `plot_confusion_matrix` is deprecated in 1.0 and will be removed in 1.2. Use one of the class methods: ConfusionMatrixDisplay.from_predictions or ConfusionMatrixDisplay.from_estimator.\n",
      "  warnings.warn(msg, category=FutureWarning)\n"
     ]
    },
    {
     "data": {
      "image/png": "[encoded data removed]",
      "text/plain": [
       "<Figure size 432x288 with 2 Axes>"
      ]
     },
     "metadata": {
      "needs_background": "light"
     },
     "output_type": "display_data"
    }
   ],
   "source": [
    "# Plot Confusion matrix\n",
    "plot_confusion_matrix(xbg_model, X_test_sc, y_test, cmap='Blues', \n",
    "                      values_format='d', display_labels=['No WnvPresent', 'WnvPresent']);                 "
   ]
  },
  {
   "cell_type": "code",
   "execution_count": 451,
   "metadata": {},
   "outputs": [
    {
     "data": {
      "text/html": [
       "<div>\n",
       "<style scoped>\n",
       "    .dataframe tbody tr th:only-of-type {\n",
       "        vertical-align: middle;\n",
       "    }\n",
       "\n",
       "    .dataframe tbody tr th {\n",
       "        vertical-align: top;\n",
       "    }\n",
       "\n",
       "    .dataframe thead th {\n",
       "        text-align: right;\n",
       "    }\n",
       "</style>\n",
       "<table border=\"1\" class=\"dataframe\">\n",
       "  <thead>\n",
       "    <tr style=\"text-align: right;\">\n",
       "      <th></th>\n",
       "      <th>Classifier</th>\n",
       "      <th>Class Balancing Technique</th>\n",
       "      <th>Train Accuracy</th>\n",
       "      <th>GridSearchCV Accuracy</th>\n",
       "      <th>Actual Test Accuracy</th>\n",
       "      <th>Overfit (-ve) / Underfit (+ve)</th>\n",
       "      <th>Sensitivity</th>\n",
       "      <th>Specificity</th>\n",
       "      <th>Precision</th>\n",
       "      <th>ROC-AUC</th>\n",
       "    </tr>\n",
       "  </thead>\n",
       "  <tbody>\n",
       "    <tr>\n",
       "      <th>1</th>\n",
       "      <td>LogisticRegression</td>\n",
       "      <td>SMOTE</td>\n",
       "      <td>0.866</td>\n",
       "      <td>0.812</td>\n",
       "      <td>0.813</td>\n",
       "      <td>0.053</td>\n",
       "      <td>0.754</td>\n",
       "      <td>0.742</td>\n",
       "      <td>0.142</td>\n",
       "      <td>0.813</td>\n",
       "    </tr>\n",
       "    <tr>\n",
       "      <th>2</th>\n",
       "      <td>RandomForestClassifier</td>\n",
       "      <td>SMOTE</td>\n",
       "      <td>0.807</td>\n",
       "      <td>0.803</td>\n",
       "      <td>0.795</td>\n",
       "      <td>0.012</td>\n",
       "      <td>0.518</td>\n",
       "      <td>0.811</td>\n",
       "      <td>0.135</td>\n",
       "      <td>0.761</td>\n",
       "    </tr>\n",
       "    <tr>\n",
       "      <th>3</th>\n",
       "      <td>RandomForestClassifier</td>\n",
       "      <td>Hyperparameter: Balanced Subsample</td>\n",
       "      <td>0.816</td>\n",
       "      <td>0.815</td>\n",
       "      <td>0.795</td>\n",
       "      <td>0.022</td>\n",
       "      <td>0.667</td>\n",
       "      <td>0.802</td>\n",
       "      <td>0.161</td>\n",
       "      <td>0.830</td>\n",
       "    </tr>\n",
       "    <tr>\n",
       "      <th>4</th>\n",
       "      <td>SVC</td>\n",
       "      <td>Hyperparameter: Balanced</td>\n",
       "      <td>0.658</td>\n",
       "      <td>0.815</td>\n",
       "      <td>0.622</td>\n",
       "      <td>0.036</td>\n",
       "      <td>0.667</td>\n",
       "      <td>0.619</td>\n",
       "      <td>0.091</td>\n",
       "      <td>0.709</td>\n",
       "    </tr>\n",
       "    <tr>\n",
       "      <th>5</th>\n",
       "      <td>XGBoost</td>\n",
       "      <td>Hyperparameter: Scale_pos_weight</td>\n",
       "      <td>0.668</td>\n",
       "      <td>0.815</td>\n",
       "      <td>0.657</td>\n",
       "      <td>0.011</td>\n",
       "      <td>0.895</td>\n",
       "      <td>0.644</td>\n",
       "      <td>0.125</td>\n",
       "      <td>0.826</td>\n",
       "    </tr>\n",
       "  </tbody>\n",
       "</table>\n",
       "</div>"
      ],
      "text/plain": [
       "               Classifier           Class Balancing Technique  Train Accuracy  \\\n",
       "1      LogisticRegression                               SMOTE           0.866   \n",
       "2  RandomForestClassifier                               SMOTE           0.807   \n",
       "3  RandomForestClassifier  Hyperparameter: Balanced Subsample           0.816   \n",
       "4                     SVC            Hyperparameter: Balanced           0.658   \n",
       "5                 XGBoost    Hyperparameter: Scale_pos_weight           0.668   \n",
       "\n",
       "   GridSearchCV Accuracy  Actual Test Accuracy  \\\n",
       "1                  0.812                 0.813   \n",
       "2                  0.803                 0.795   \n",
       "3                  0.815                 0.795   \n",
       "4                  0.815                 0.622   \n",
       "5                  0.815                 0.657   \n",
       "\n",
       "   Overfit (-ve) / Underfit (+ve)  Sensitivity  Specificity  Precision  \\\n",
       "1                           0.053        0.754        0.742      0.142   \n",
       "2                           0.012        0.518        0.811      0.135   \n",
       "3                           0.022        0.667        0.802      0.161   \n",
       "4                           0.036        0.667        0.619      0.091   \n",
       "5                           0.011        0.895        0.644      0.125   \n",
       "\n",
       "   ROC-AUC  \n",
       "1    0.813  \n",
       "2    0.761  \n",
       "3    0.830  \n",
       "4    0.709  \n",
       "5    0.826  "
      ]
     },
     "execution_count": 451,
     "metadata": {},
     "output_type": "execute_result"
    }
   ],
   "source": [
    "summary_df.loc[5] = [\"XGBoost\",\n",
    "                    'Hyperparameter: Scale_pos_weight',\n",
    "                     round(train_acc, 3),\n",
    "                     round(cross_val_acc, 3),\n",
    "                     round(test_acc, 3),\n",
    "                     round(train_acc-test_acc, 3),\n",
    "                     round(sensitivity, 3),\n",
    "                     round(specificity, 3),\n",
    "                     round(precision, 3),\n",
    "                     round(roc_auc, 3),\n",
    "                    ]\n",
    "\n",
    "summary_df"
   ]
  },
  {
   "cell_type": "code",
   "execution_count": 452,
   "metadata": {},
   "outputs": [
    {
     "ename": "SyntaxError",
     "evalue": "invalid syntax (Temp/ipykernel_16416/1763773627.py, line 1)",
     "output_type": "error",
     "traceback": [
      "\u001b[1;36m  File \u001b[1;32m\"C:\\Users\\User\\AppData\\Local\\Temp/ipykernel_16416/1763773627.py\"\u001b[1;36m, line \u001b[1;32m1\u001b[0m\n\u001b[1;33m    =\u001b[0m\n\u001b[1;37m    ^\u001b[0m\n\u001b[1;31mSyntaxError\u001b[0m\u001b[1;31m:\u001b[0m invalid syntax\n"
     ]
    }
   ],
   "source": [
    "="
   ]
  },
  {
   "cell_type": "code",
   "execution_count": null,
   "metadata": {},
   "outputs": [
    {
     "data": {
      "text/html": [
       "<div>\n",
       "<style scoped>\n",
       "    .dataframe tbody tr th:only-of-type {\n",
       "        vertical-align: middle;\n",
       "    }\n",
       "\n",
       "    .dataframe tbody tr th {\n",
       "        vertical-align: top;\n",
       "    }\n",
       "\n",
       "    .dataframe thead th {\n",
       "        text-align: right;\n",
       "    }\n",
       "</style>\n",
       "<table border=\"1\" class=\"dataframe\">\n",
       "  <thead>\n",
       "    <tr style=\"text-align: right;\">\n",
       "      <th></th>\n",
       "      <th>Classifier</th>\n",
       "      <th>Class Balancing Technique</th>\n",
       "      <th>Train Accuracy</th>\n",
       "      <th>GridSearchCV Accuracy</th>\n",
       "      <th>Actual Test Accuracy</th>\n",
       "      <th>Overfit (-ve) / Underfit (+ve)</th>\n",
       "      <th>Sensitivity</th>\n",
       "      <th>Specificity</th>\n",
       "      <th>Precision</th>\n",
       "      <th>ROC-AUC</th>\n",
       "    </tr>\n",
       "  </thead>\n",
       "  <tbody>\n",
       "    <tr>\n",
       "      <th>1</th>\n",
       "      <td>LogisticRegression</td>\n",
       "      <td>SMOTE</td>\n",
       "      <td>0.871</td>\n",
       "      <td>0.815</td>\n",
       "      <td>0.810</td>\n",
       "      <td>0.061</td>\n",
       "      <td>0.746</td>\n",
       "      <td>0.737</td>\n",
       "      <td>0.139</td>\n",
       "      <td>0.810</td>\n",
       "    </tr>\n",
       "    <tr>\n",
       "      <th>2</th>\n",
       "      <td>RandomForestClassifier</td>\n",
       "      <td>SMOTE</td>\n",
       "      <td>0.746</td>\n",
       "      <td>0.744</td>\n",
       "      <td>0.741</td>\n",
       "      <td>0.004</td>\n",
       "      <td>0.649</td>\n",
       "      <td>0.747</td>\n",
       "      <td>0.127</td>\n",
       "      <td>0.765</td>\n",
       "    </tr>\n",
       "    <tr>\n",
       "      <th>3</th>\n",
       "      <td>RandomForestClassifier</td>\n",
       "      <td>Hyperparameter: Balanced Subsample</td>\n",
       "      <td>0.802</td>\n",
       "      <td>0.802</td>\n",
       "      <td>0.780</td>\n",
       "      <td>0.022</td>\n",
       "      <td>0.728</td>\n",
       "      <td>0.783</td>\n",
       "      <td>0.160</td>\n",
       "      <td>0.834</td>\n",
       "    </tr>\n",
       "    <tr>\n",
       "      <th>4</th>\n",
       "      <td>SVC</td>\n",
       "      <td>Hyperparameter: Balanced</td>\n",
       "      <td>0.661</td>\n",
       "      <td>0.802</td>\n",
       "      <td>0.620</td>\n",
       "      <td>0.041</td>\n",
       "      <td>0.684</td>\n",
       "      <td>0.616</td>\n",
       "      <td>0.092</td>\n",
       "      <td>0.720</td>\n",
       "    </tr>\n",
       "    <tr>\n",
       "      <th>5</th>\n",
       "      <td>XGBoost</td>\n",
       "      <td>Hyperparameter: Scale_pos_weight</td>\n",
       "      <td>0.789</td>\n",
       "      <td>0.802</td>\n",
       "      <td>0.757</td>\n",
       "      <td>0.032</td>\n",
       "      <td>0.763</td>\n",
       "      <td>0.757</td>\n",
       "      <td>0.151</td>\n",
       "      <td>0.848</td>\n",
       "    </tr>\n",
       "  </tbody>\n",
       "</table>\n",
       "</div>"
      ],
      "text/plain": [
       "               Classifier           Class Balancing Technique  Train Accuracy  \\\n",
       "1      LogisticRegression                               SMOTE           0.871   \n",
       "2  RandomForestClassifier                               SMOTE           0.746   \n",
       "3  RandomForestClassifier  Hyperparameter: Balanced Subsample           0.802   \n",
       "4                     SVC            Hyperparameter: Balanced           0.661   \n",
       "5                 XGBoost    Hyperparameter: Scale_pos_weight           0.789   \n",
       "\n",
       "   GridSearchCV Accuracy  Actual Test Accuracy  \\\n",
       "1                  0.815                 0.810   \n",
       "2                  0.744                 0.741   \n",
       "3                  0.802                 0.780   \n",
       "4                  0.802                 0.620   \n",
       "5                  0.802                 0.757   \n",
       "\n",
       "   Overfit (-ve) / Underfit (+ve)  Sensitivity  Specificity  Precision  \\\n",
       "1                           0.061        0.746        0.737      0.139   \n",
       "2                           0.004        0.649        0.747      0.127   \n",
       "3                           0.022        0.728        0.783      0.160   \n",
       "4                           0.041        0.684        0.616      0.092   \n",
       "5                           0.032        0.763        0.757      0.151   \n",
       "\n",
       "   ROC-AUC  \n",
       "1    0.810  \n",
       "2    0.765  \n",
       "3    0.834  \n",
       "4    0.720  \n",
       "5    0.848  "
      ]
     },
     "execution_count": 339,
     "metadata": {},
     "output_type": "execute_result"
    }
   ],
   "source": [
    "summary_df.loc[5] = [\"XGBoost\",\n",
    "                    'Hyperparameter: Scale_pos_weight',\n",
    "                     round(train_acc, 3),\n",
    "                     round(cross_val_acc, 3),\n",
    "                     round(test_acc, 3),\n",
    "                     round(train_acc-test_acc, 3),\n",
    "                     round(sensitivity, 3),\n",
    "                     round(specificity, 3),\n",
    "                     round(precision, 3),\n",
    "                     round(roc_auc, 3),\n",
    "                    ]\n",
    "\n",
    "summary_df"
   ]
  },
  {
   "cell_type": "markdown",
   "metadata": {},
   "source": [
    "`XGBoost` has the `highest ROC_AUC, sensitivity, specificity hence with good precision score` compared to the other models. Although it suffers from the train accuracies, it is relatively better fitted, achieving the best balance between bias and variance, allowing the model to predict well with unseen data. Although it has the a low precision, the priority is to strongly predict true wnv containing places in order to prevent a huge outbreak that may cause further monetary damage than just spending on spraying. Like they say, better be safe than sorry.  "
   ]
  },
  {
   "cell_type": "code",
   "execution_count": null,
   "metadata": {},
   "outputs": [],
   "source": [
    "# create a dataframe to contain the posts, actual reddit and predicted reddit\n",
    "\n",
    "y_test_pred_df = pd.DataFrame()\n",
    "y_test_pred_df['index'] = y_test.index\n",
    "y_test_pred_df['y'] = y_test.values\n",
    "y_test_pred_df['y_pred'] = pred\n",
    "y_test_pred_df = y_test_pred_df.merge(lag_train.reset_index(), on = 'index')\n"
   ]
  },
  {
   "cell_type": "markdown",
   "metadata": {},
   "source": [
    "# Feature importance"
   ]
  },
  {
   "cell_type": "code",
   "execution_count": null,
   "metadata": {},
   "outputs": [],
   "source": [
    "def plot_feature_importance(importance,names,model_type):\n",
    "\n",
    "    #Create arrays from feature importance and feature names\n",
    "    feature_importance = np.array(importance)\n",
    "    feature_names = np.array(names)\n",
    "\n",
    "    #Create a DataFrame using a Dictionary\n",
    "    data={'feature_names':feature_names,'feature_importance':feature_importance}\n",
    "    fi_df = pd.DataFrame(data)\n",
    "\n",
    "    #Sort the DataFrame in order decreasing feature importance\n",
    "    fi_df.sort_values(by=['feature_importance'], ascending=False,inplace=True)\n",
    "\n",
    "    #Define size of bar plot\n",
    "    plt.figure(figsize=(15,40))\n",
    "    #Plot Searborn bar chart\n",
    "    sns.barplot(x=fi_df['feature_importance'], y=fi_df['feature_names'])\n",
    "\n",
    "    \n",
    "    #Add chart labels\n",
    "    plt.title(model_type + ' FEATURE IMPORTANCE')\n",
    "    plt.xlabel('FEATURE IMPORTANCE')\n",
    "    plt.ylabel('FEATURE NAMES')"
   ]
  },
  {
   "cell_type": "code",
   "execution_count": null,
   "metadata": {},
   "outputs": [
    {
     "data": {
      "image/png": "[encoded data removed]",
      "text/plain": [
       "<Figure size 1080x2880 with 1 Axes>"
      ]
     },
     "metadata": {
      "needs_background": "light"
     },
     "output_type": "display_data"
    }
   ],
   "source": [
    "plot_feature_importance(xbg_model.feature_importances_,X.columns,'XGBoost')"
   ]
  },
  {
   "cell_type": "code",
   "execution_count": null,
   "metadata": {},
   "outputs": [
    {
     "ename": "ValueError",
     "evalue": "cannot reshape array of size 94 into shape (76,)",
     "output_type": "error",
     "traceback": [
      "\u001b[1;31m---------------------------------------------------------------------------\u001b[0m",
      "\u001b[1;31mValueError\u001b[0m                                Traceback (most recent call last)",
      "\u001b[1;32m~\\AppData\\Local\\Temp/ipykernel_12068/1284764607.py\u001b[0m in \u001b[0;36m<module>\u001b[1;34m\u001b[0m\n\u001b[1;32m----> 1\u001b[1;33m \u001b[0mplot_feature_importance\u001b[0m\u001b[1;33m(\u001b[0m\u001b[0mgs_logreg\u001b[0m\u001b[1;33m.\u001b[0m\u001b[0mbest_estimator_\u001b[0m\u001b[1;33m[\u001b[0m\u001b[1;36m1\u001b[0m\u001b[1;33m]\u001b[0m\u001b[1;33m.\u001b[0m\u001b[0mcoef_\u001b[0m\u001b[1;33m.\u001b[0m\u001b[0mreshape\u001b[0m\u001b[1;33m(\u001b[0m\u001b[1;36m76\u001b[0m\u001b[1;33m,\u001b[0m\u001b[1;33m)\u001b[0m\u001b[1;33m,\u001b[0m\u001b[0mX\u001b[0m\u001b[1;33m.\u001b[0m\u001b[0mcolumns\u001b[0m\u001b[1;33m,\u001b[0m\u001b[1;34m'LogisticRegression'\u001b[0m\u001b[1;33m)\u001b[0m\u001b[1;33m\u001b[0m\u001b[1;33m\u001b[0m\u001b[0m\n\u001b[0m",
      "\u001b[1;31mValueError\u001b[0m: cannot reshape array of size 94 into shape (76,)"
     ]
    }
   ],
   "source": [
    "plot_feature_importance(gs_logreg.best_estimator_[1].coef_.reshape(76,),X.columns,'LogisticRegression')"
   ]
  },
  {
   "cell_type": "code",
   "execution_count": null,
   "metadata": {},
   "outputs": [
    {
     "ename": "",
     "evalue": "",
     "output_type": "error",
     "traceback": [
      "\u001b[1;31mFailed to start the Kernel. \n",
      "Canceled. \n",
      "View Jupyter <a href='command:jupyter.viewOutput'>log</a> for further details."
     ]
    }
   ],
   "source": [
    "plot_feature_importance(rfs_hyperparam_bal.feature_importances_,X.columns,'RandomForestClassifier')"
   ]
  },
  {
   "cell_type": "code",
   "execution_count": null,
   "metadata": {},
   "outputs": [
    {
     "ename": "",
     "evalue": "",
     "output_type": "error",
     "traceback": [
      "\u001b[1;31mFailed to start the Kernel. \n",
      "Canceled. \n",
      "View Jupyter <a href='command:jupyter.viewOutput'>log</a> for further details."
     ]
    }
   ],
   "source": []
  },
  {
   "cell_type": "markdown",
   "metadata": {},
   "source": [
    "# ROC Curve"
   ]
  },
  {
   "cell_type": "code",
   "execution_count": null,
   "metadata": {},
   "outputs": [
    {
     "name": "stderr",
     "output_type": "stream",
     "text": [
      "C:\\Users\\User\\anaconda3\\envs\\dsi\\lib\\site-packages\\sklearn\\utils\\deprecation.py:87: FutureWarning: Function plot_roc_curve is deprecated; Function :func:`plot_roc_curve` is deprecated in 1.0 and will be removed in 1.2. Use one of the class methods: :meth:`sklearn.metric.RocCurveDisplay.from_predictions` or :meth:`sklearn.metric.RocCurveDisplay.from_estimator`.\n",
      "  warnings.warn(msg, category=FutureWarning)\n"
     ]
    },
    {
     "data": {
      "image/png": "[encoded data removed]",
      "text/plain": [
       "<Figure size 432x288 with 1 Axes>"
      ]
     },
     "metadata": {
      "needs_background": "light"
     },
     "output_type": "display_data"
    }
   ],
   "source": [
    "\n",
    "plot_roc_curve(xbg_model, X_test_sc, y_test)\n",
    "\n",
    "plt.plot([0, 1], [0, 1],\n",
    "         label='baseline', linestyle='--')\n",
    "plt.legend();"
   ]
  },
  {
   "cell_type": "code",
   "execution_count": null,
   "metadata": {},
   "outputs": [],
   "source": []
  },
  {
   "cell_type": "markdown",
   "metadata": {},
   "source": [
    "# Cost Benefit Analysis"
   ]
  },
  {
   "cell_type": "markdown",
   "metadata": {},
   "source": [
    "# Kaggle Submission"
   ]
  },
  {
   "cell_type": "code",
   "execution_count": 453,
   "metadata": {},
   "outputs": [
    {
     "name": "stderr",
     "output_type": "stream",
     "text": [
      "C:\\Users\\User\\anaconda3\\envs\\dsi\\lib\\site-packages\\xgboost\\data.py:262: FutureWarning: pandas.Int64Index is deprecated and will be removed from pandas in a future version. Use pandas.Index with the appropriate dtype instead.\n",
      "  elif isinstance(data.columns, (pd.Int64Index, pd.RangeIndex)):\n"
     ]
    },
    {
     "data": {
      "text/plain": [
       "XGBClassifier(base_score=0.5, booster='gbtree', colsample_bylevel=1,\n",
       "              colsample_bynode=1, colsample_bytree=0.38,\n",
       "              enable_categorical=False, eval_metric='error', gamma=0, gpu_id=-1,\n",
       "              importance_type=None, interaction_constraints='',\n",
       "              learning_rate=0.02, max_delta_step=0, max_depth=6,\n",
       "              min_child_weight=1, missing=nan, monotone_constraints='()',\n",
       "              n_estimators=100, n_jobs=4, num_parallel_tree=1, predictor='auto',\n",
       "              random_state=0, reg_alpha=20, reg_lambda=1, scale_pos_weight=25,\n",
       "              subsample=0.99, tree_method='exact', use_label_encoder=False,\n",
       "              validate_parameters=1, verbosity=None)"
      ]
     },
     "execution_count": 453,
     "metadata": {},
     "output_type": "execute_result"
    }
   ],
   "source": [
    "# retrain whole dataset\n",
    "\n",
    "xbg_model.fit(X,y)"
   ]
  },
  {
   "cell_type": "code",
   "execution_count": 454,
   "metadata": {},
   "outputs": [],
   "source": [
    "# Generating prediction probabilities on actual testing dataset using the model above (for kaggle submission).\n",
    "\n",
    "submission_pred_proba= xbg_model.predict_proba(kaggle_test_sc)[:, 1]"
   ]
  },
  {
   "cell_type": "code",
   "execution_count": 455,
   "metadata": {},
   "outputs": [
    {
     "data": {
      "text/plain": [
       "(116293,)"
      ]
     },
     "execution_count": 455,
     "metadata": {},
     "output_type": "execute_result"
    }
   ],
   "source": [
    "submission_pred_proba.shape"
   ]
  },
  {
   "cell_type": "code",
   "execution_count": 456,
   "metadata": {},
   "outputs": [],
   "source": [
    "# Putting the above predicted probabilities into a dataframe and exporting it as a csv file for submission to kaggle.\n",
    "\n",
    "submission = pd.DataFrame({'Id' : lag_test['id'].values, 'WnvPresent' : submission_pred_proba})\n",
    "submission.Id = submission.Id.astype('int')\n",
    "submission.to_csv('../kaggle_submission/submission_XGBoost_combined.csv', index=False)"
   ]
  },
  {
   "cell_type": "code",
   "execution_count": 457,
   "metadata": {},
   "outputs": [],
   "source": [
    "# xbgoost_score_kaggle = 0.66728\n",
    "\n",
    "# XGBoost\tHyperparameter: Scale_pos_weight\t0.778\t0.839\t0.774\t0.004\t0.798\t0.773\t0.167\t0.855 --> 0.58 \n",
    "\n",
    "# XGBoost\tHyperparameter: Scale_pos_weight\t0.685\t0.833\t0.674\t0.011\t0.868\t0.663\t0.128\t0.839 --> 0.59\n",
    "\n",
    "# XGBoost\tHyperparameter: Scale_pos_weight\t0.789\t0.833\t0.773\t0.016\t0.772\t0.773\t0.162\t0.833 --> 0.588\n",
    "\n",
    "# XGBoost\tHyperparameter: Scale_pos_weight\t0.847\t0.833\t0.815\t0.031\t0.649\t0.825\t0.174\t0.834 --> 0.59561\n",
    "\n",
    "# XGBoost\tHyperparameter: Scale_pos_weight\t0.826\t0.833\t0.800\t0.026\t0.667\t0.807\t0.165\t0.836 --> 0.61308\n",
    "\n",
    "# XGBoost\tHyperparameter: Scale_pos_weight\t0.888\t0.833\t0.852\t0.036\t0.588\t0.867\t0.201\t0.840 --> 0.60659\n",
    "\n",
    "# XGBoost\tHyperparameter: Scale_pos_weight\t0.770\t0.833\t0.760\t0.011\t0.807\t0.757\t0.159\t0.845 --> 0.48988\n",
    "  \n",
    "\n",
    "# XGBoost\tHyperparameter: Scale_pos_weight\t0.801\t0.833\t0.776\t0.025\t0.728\t0.779\t0.158\t0.831 --> 0.57979\n",
    "\n",
    "# RandomForestClassifier\t                    0.776\t0.776\t0.757\t0.019\t0.746\t0.758\t0.149\t0.826 -- > 0.62340\n",
    "\n",
    "# LogisticRegression\tSMOTE\t0.865\t0.809\t0.811\t0.054\t0.737\t0.746\t0.141\t0.811 -->                 0.64244\n",
    "\n",
    "# XGBoost\tHyperparameter: Scale_pos_weight\t0.684\t0.776\t0.675\t0.009\t0.895\t0.662\t0.131\t0.857 -- >0.58187\n",
    "\n",
    "# XGBoost\tHyperparameter: Scale_pos_weight\t0.812\t0.802\t0.781\t0.031\t0.711\t0.785\t0.158\t0.842 -- > 0.65715\n",
    "\n",
    "# XGBoost\tHyperparameter: Scale_pos_weight\t0.693\t0.802\t0.670\t0.023\t0.895\t0.657\t0.129\t0.838 -- > 0.5\n",
    "\n",
    "# XGBoost\tHyperparameter: Scale_pos_weight\t0.871\t0.802\t0.837\t0.034\t0.658\t0.847\t0.197\t0.843 --> 0.59240\n",
    "\n",
    "# XGBoost\tHyperparameter: Scale_pos_weight\t0.789\t0.802\t0.757\t0.032\t0.763\t0.757\t0.151\t0.848 --> 0.65406\n",
    "\n",
    "# xbg_model = XGBClassifier(\n",
    "#     scale_pos_weight=25,\n",
    "#     learning_rate = 0.5,  \n",
    "#     colsample_bytree = 0.41,\n",
    "#     subsample = 0.99,\n",
    "#     objective='binary:logistic',\n",
    "#     # booster = 'dart',\n",
    "#     reg_alpha = 10,\n",
    "#     max_depth= 5, \n",
    "\n",
    "\n",
    "# XGBoost\tHyperparameter: Scale_pos_weight\t0.862\t0.802\t0.817\t0.046\t0.658\t0.826\t0.177\t0.840 --> 0.64662\n",
    "\n",
    "# xbg_model = XGBClassifier(\n",
    "#     scale_pos_weight=20,\n",
    "#     learning_rate = 0.5,  \n",
    "#     colsample_bytree = 0.45,\n",
    "#     subsample = 0.99,\n",
    "#     objective='binary:logistic',\n",
    "#     # booster = 'dart',\n",
    "#     reg_alpha = 20,\n",
    "#     max_depth= 5, \n",
    "\n",
    "\n",
    "# XGBoost\tHyperparameter: Scale_pos_weight\t0.768\t0.802\t0.740\t0.028\t0.816\t0.736\t0.150\t0.849 --> 0.64662\n",
    "\n",
    "# xbg_model = XGBClassifier(\n",
    "#     scale_pos_weight=25,\n",
    "#     learning_rate=0.5,  \n",
    "#     # colsample_bytree = 0.41,\n",
    "#     subsample = 0.99,\n",
    "#     objective='binary:logistic',\n",
    "#     booster = 'dart',\n",
    "#     reg_alpha = 10,\n",
    "#     max_depth= 5, \n",
    "#     min_child_weight = 3,\n",
    "#     use_label_encoder=False,\n",
    "#     eval_metric = 'error'\n",
    "\n",
    "\n",
    "# XGBoost\tHyperparameter: Scale_pos_weight\t0.896\t0.802\t0.852\t0.045\t0.526\t0.870\t0.188\t0.847 --> 0.58674\n",
    "\n",
    "# xbg_model = XGBClassifier(\n",
    "#     scale_pos_weight=10,\n",
    "#     learning_rate=0.1,  \n",
    "#     # colsample_bytree = 0.41,\n",
    "#     subsample = 0.99,\n",
    "#     objective='binary:logistic',\n",
    "#     booster = 'dart',\n",
    "#     reg_alpha = 10,\n",
    "#     max_depth= 5, \n",
    "#     min_child_weight = 3,\n",
    "#     use_label_encoder=False,\n",
    "#     eval_metric = 'error'\n",
    "\n",
    "\n",
    "# XGBoost\tHyperparameter: Scale_pos_weight\t0.803\t0.802\t0.778\t0.025\t0.781\t0.778\t0.167\t0.839 --> 0.60205\n",
    "\n",
    "# xbg_model = XGBClassifier(\n",
    "#     scale_pos_weight=20,\n",
    "#     learning_rate = 0.5,  \n",
    "#     colsample_bytree = 0.41,\n",
    "#     subsample = 0.99,\n",
    "#     objective='binary:logistic',\n",
    "#     # booster = 'dart',\n",
    "#     reg_alpha = 10,\n",
    "#     max_depth= 5, \n",
    "#     # min_child_weight = 3,\n",
    "#     use_label_encoder=False,\n",
    "#     eval_metric = 'error'\n",
    "# )\n",
    "\n",
    "# XGBoost\tHyperparameter: Scale_pos_weight\t0.656\t0.802\t0.647\t0.010\t0.904\t0.632\t0.122\t0.833 --> 0.66161\n",
    "\n",
    "# xbg_model = XGBClassifier(\n",
    "#     scale_pos_weight=25,\n",
    "#     learning_rate = 0.02,  \n",
    "#     colsample_bytree = 0.38,\n",
    "#     subsample = 0.99,\n",
    "#     objective='binary:logistic',\n",
    "#     # booster = 'dart',\n",
    "#     reg_alpha = 20,\n",
    "#     max_depth= 6, \n",
    "#     # min_child_weight = 3,\n",
    "#     use_label_encoder=False,\n",
    "#     eval_metric = 'error'\n",
    "# )\n",
    "\n",
    "\n"
   ]
  },
  {
   "cell_type": "code",
   "execution_count": 458,
   "metadata": {},
   "outputs": [
    {
     "ename": "SyntaxError",
     "evalue": "invalid syntax (Temp/ipykernel_16416/3135633998.py, line 1)",
     "output_type": "error",
     "traceback": [
      "\u001b[1;36m  File \u001b[1;32m\"C:\\Users\\User\\AppData\\Local\\Temp/ipykernel_16416/3135633998.py\"\u001b[1;36m, line \u001b[1;32m1\u001b[0m\n\u001b[1;33m    XGBoost\tHyperparameter: Scale_pos_weight\t0.656\t0.802\t0.647\t0.010\t0.904\t0.632\t0.122\t0.833 --> 0.66161\u001b[0m\n\u001b[1;37m           \t^\u001b[0m\n\u001b[1;31mSyntaxError\u001b[0m\u001b[1;31m:\u001b[0m invalid syntax\n"
     ]
    }
   ],
   "source": [
    "XGBoost\tHyperparameter: Scale_pos_weight\t0.656\t0.802\t0.647\t0.010\t0.904\t0.632\t0.122\t0.833 --> 0.58686\n",
    "\n",
    "xbg_model = XGBClassifier(\n",
    "    scale_pos_weight=25,\n",
    "    learning_rate = 0.02,  \n",
    "    colsample_bytree = 0.38,\n",
    "    subsample = 0.99,\n",
    "    objective='binary:logistic',\n",
    "    # booster = 'dart',\n",
    "    reg_alpha = 20,\n",
    "    max_depth= 6, \n",
    "    # min_child_weight = 3,\n",
    "    use_label_encoder=False,\n",
    "    eval_metric = 'error'\n",
    ")\n"
   ]
  }
 ],
 "metadata": {
  "interpreter": {
   "hash": "006be043bc5636bd4f043fb67299334f749b935cdb979ce371419345f6e1f02a"
  },
  "kernelspec": {
   "display_name": "Python 3 (ipykernel)",
   "language": "python",
   "name": "python3"
  },
  "language_info": {
   "codemirror_mode": {
    "name": "ipython",
    "version": 3
   },
   "file_extension": ".py",
   "mimetype": "text/x-python",
   "name": "python",
   "nbconvert_exporter": "python",
   "pygments_lexer": "ipython3",
   "version": "3.8.12"
  }
 },
 "nbformat": 4,
 "nbformat_minor": 2
}
