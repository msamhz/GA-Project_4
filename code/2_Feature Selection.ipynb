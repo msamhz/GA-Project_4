{
 "cells": [
  {
   "cell_type": "markdown",
   "id": "3b96574d",
   "metadata": {},
   "source": [
    "<img src=\"http://imgur.com/1ZcRyrc.png\" style=\"float: left; margin: 20px; height: 55px\">\n",
    "\n",
    "# Project 4: Identifying west nile virus hotspots and its exacerbating factors\n",
    "### Part2: Feature Engineering and Selection\n",
    "\n",
    "This section will focus on engineering features for subsequent data analysis. As weather lag has already been generated already, the features generated here will be related to time, species, and location of traps. After which, preliminary analysis with Random Forest will be used to select a few combination of features to be used for modelling.\n",
    "\n",
    "- Engineer features (e.g. temporal, species, weatherlag etc.) which will be required for modelling\n",
    "- Perform preliminary analysis to select features to be used for modelling and tuning\n",
    "- Save datasets for modelling and Kaggle test"
   ]
  },
  {
   "cell_type": "markdown",
   "id": "4f9153ca",
   "metadata": {},
   "source": [
    "# Contents\n",
    "\n",
    "Preliminary Analysis and Selection of Different Weather Lags\n",
    "- [Weather Lag Selection](#Preliminary-Analysis-and-Selection-of-Different-Weather-Lags)\n",
    "- [Weather Feature Selection](#Weather-Feature-Selection)\n",
    "\n",
    "Feature Engineering for temporal, species and location(trap) variables\n",
    "- [Exploring Locations(Traps)](#Relationship-between-locations-(traps)-and-time-with-WNV-present)\n",
    "- [Feature Engineering](#Feature-Engineering)\n",
    "\n",
    "Preliminary Analysis and Selection of Best Combination of Features and Weather Lag\n",
    "- [Model Feature Selection](#Model-Feature-Selection)\n",
    "\n",
    "Merging datasets for analysis and Kaggle\n",
    "- [Merging Datasets for Modelling](#Merging-Datasets-for-Modelling)\n",
    "- [Merging Datasets for Kaggle Test](#Merging-Datasets-for-Kaggle-Test)"
   ]
  },
  {
   "cell_type": "code",
   "execution_count": 4,
   "id": "ab120b1f",
   "metadata": {},
   "outputs": [],
   "source": [
    "# Import Packages\n",
    "\n",
    "import pandas as pd\n",
    "import numpy as np\n",
    "import seaborn as sns\n",
    "import matplotlib.pyplot as plt\n",
    "from datetime import datetime\n",
    "\n",
    "from sklearn.preprocessing import StandardScaler\n",
    "from sklearn.model_selection import train_test_split, cross_val_score\n",
    "from sklearn.pipeline import Pipeline\n",
    "from sklearn.ensemble import RandomForestClassifier\n",
    "\n",
    "from sklearn.metrics import (\n",
    "    confusion_matrix, \n",
    "    plot_confusion_matrix,\n",
    "    roc_auc_score,\n",
    "    recall_score\n",
    ")"
   ]
  },
  {
   "cell_type": "markdown",
   "id": "86d077aa",
   "metadata": {},
   "source": [
    "# Preliminary Analysis and Selection of Different Weather Lags\n",
    "\n",
    "Weather conditions will have an effect of WNV spread, as conditions such as wind will affect the mosquitos' mobility and precipitation will affect its availability of breeding grounds. However, it is intuitive that this effect is not immediate and will take several days to influence mosquito numbers. Here we will explore what is the best time interval (time lag) to model this effect."
   ]
  },
  {
   "cell_type": "code",
   "execution_count": 2,
   "id": "aec73cbc",
   "metadata": {},
   "outputs": [],
   "source": [
    "# Read in datasets\n",
    "\n",
    "lag0 = pd.read_csv(r'../data/weather_cleaned_lag0.csv')\n",
    "lag2 = pd.read_csv(r'../data/weather_cleaned_lag2.csv')\n",
    "lag3 = pd.read_csv(r'../data/weather_cleaned_lag3.csv')\n",
    "lag5 = pd.read_csv(r'../data/weather_cleaned_lag5.csv')\n",
    "lag7 = pd.read_csv(r'../data/weather_cleaned_lag7.csv')\n",
    "lag14 = pd.read_csv(r'../data/weather_cleaned_lag14.csv')\n",
    "lag21 = pd.read_csv(r'../data/weather_cleaned_lag21.csv')\n",
    "lag28 = pd.read_csv(r'../data/weather_cleaned_lag28.csv')"
   ]
  },
  {
   "cell_type": "code",
   "execution_count": 3,
   "id": "6268dfe5",
   "metadata": {},
   "outputs": [
    {
     "data": {
      "text/plain": [
       "Index(['date', 'species', 'latitude', 'longitude', 'trap', 'nummosquitos',\n",
       "       'wnvpresent', 'wnvcount', 'id', 'station', 'tavg', 'dewpoint',\n",
       "       'codesum', 'preciptotal', 'stnpressure', 'sealevel', 'resultdir',\n",
       "       'avgspeed', 'month', 'sunset', 'bcfg', 'br', 'dz', 'fg', 'fg+', 'fu',\n",
       "       'hz', 'mifg', 'ra', 'sn', 'sq', 'ts', 'tsra', 'vcts', 'gr', 'vcfg'],\n",
       "      dtype='object')"
      ]
     },
     "execution_count": 3,
     "metadata": {},
     "output_type": "execute_result"
    }
   ],
   "source": [
    "lag2.columns"
   ]
  },
  {
   "cell_type": "code",
   "execution_count": 146,
   "id": "226abc2a",
   "metadata": {},
   "outputs": [],
   "source": [
    "# Create function to perform classification of train data (Random Forest)\n",
    "# and add scores to a table\n",
    "\n",
    "def rf_weather_lag(df, lag_num, concat_df=None):\n",
    "    \n",
    "    df.drop(columns=['id'], axis=1, inplace=True)\n",
    "    df = df.dropna()\n",
    "    X = df[[col for col in df.columns if (df[col].dtypes !='O') & \n",
    "                      (col not in ['date','nummosquitos', 'wnvcount','wnvpresent',\n",
    "                                   'station','species', 'month'])]]\n",
    "    y = df['wnvpresent']\n",
    "    \n",
    "    X_train, X_test, y_train, y_test = train_test_split(\n",
    "        X,\n",
    "        y,\n",
    "        stratify=y,\n",
    "        random_state=42\n",
    "    )\n",
    "    \n",
    "    ss = StandardScaler()\n",
    "    \n",
    "    X_train = ss.fit_transform(X_train)\n",
    "    X_test = ss.transform(X_test)\n",
    "    \n",
    "    rf = RandomForestClassifier(n_estimators=100)\n",
    "    \n",
    "    train_acc = cross_val_score(\n",
    "        rf,\n",
    "        X_train,\n",
    "        y_train,\n",
    "        cv=5\n",
    "    ).mean()\n",
    "    \n",
    "    test_acc = cross_val_score(\n",
    "        rf,\n",
    "        X_test,\n",
    "        y_test,\n",
    "        cv=5\n",
    "    ).mean()\n",
    "    \n",
    "    rf.fit(X_train, y_train)\n",
    "    \n",
    "    forest_predictions = rf.predict(X_test)\n",
    "    \n",
    "    tn, fp, fn, tp = confusion_matrix(y_test, forest_predictions).ravel()\n",
    "    \n",
    "    sensitivity = recall_score(y_test, forest_predictions)\n",
    "\n",
    "    specificity = (tn / (tn + fp))\n",
    "    \n",
    "    roc_auc = roc_auc_score(y_test, rf.predict_proba(X_test)[:,1])\n",
    "    \n",
    "    weather_dict = {\n",
    "        'weather_lag': lag_num, \n",
    "        'train_acc': [round(train_acc * 100, 2)], \n",
    "        'test_acc': [round(test_acc * 100, 2)], \n",
    "        'sensitivity': [round(sensitivity * 100, 2)], \n",
    "        'specificity': [round(specificity * 100, 2)],\n",
    "        'roc_auc_score': [round(roc_auc * 100, 2)]\n",
    "    }\n",
    "    \n",
    "    new_df = pd.DataFrame(weather_dict)\n",
    "    \n",
    "    if isinstance(concat_df, pd.DataFrame) == True:\n",
    "        final_df = pd.concat(\n",
    "            objs=[concat_df, new_df],\n",
    "            axis=0\n",
    "        )\n",
    "        final_df.reset_index(drop=True, inplace=True)\n",
    "        return final_df\n",
    "        \n",
    "    else:    \n",
    "        return new_df\n",
    "    "
   ]
  },
  {
   "cell_type": "code",
   "execution_count": 147,
   "id": "6639c1f1",
   "metadata": {},
   "outputs": [],
   "source": [
    "# Perform analysis with different weather lags\n",
    "\n",
    "weather_lag_df = rf_weather_lag(lag0, 0)\n",
    "weather_lag_df = rf_weather_lag(lag2, 2, weather_lag_df)\n",
    "weather_lag_df = rf_weather_lag(lag3, 3, weather_lag_df)\n",
    "weather_lag_df = rf_weather_lag(lag5, 5, weather_lag_df)\n",
    "weather_lag_df = rf_weather_lag(lag7, 7, weather_lag_df)\n",
    "weather_lag_df = rf_weather_lag(lag14, 14, weather_lag_df)\n",
    "weather_lag_df = rf_weather_lag(lag21, 21, weather_lag_df)\n",
    "weather_lag_df = rf_weather_lag(lag28, 28, weather_lag_df)"
   ]
  },
  {
   "cell_type": "code",
   "execution_count": 148,
   "id": "9ffce7a8",
   "metadata": {
    "scrolled": true
   },
   "outputs": [
    {
     "data": {
      "text/html": [
       "<div>\n",
       "<style scoped>\n",
       "    .dataframe tbody tr th:only-of-type {\n",
       "        vertical-align: middle;\n",
       "    }\n",
       "\n",
       "    .dataframe tbody tr th {\n",
       "        vertical-align: top;\n",
       "    }\n",
       "\n",
       "    .dataframe thead th {\n",
       "        text-align: right;\n",
       "    }\n",
       "</style>\n",
       "<table border=\"1\" class=\"dataframe\">\n",
       "  <thead>\n",
       "    <tr style=\"text-align: right;\">\n",
       "      <th></th>\n",
       "      <th>weather_lag</th>\n",
       "      <th>train_acc</th>\n",
       "      <th>test_acc</th>\n",
       "      <th>sensitivity</th>\n",
       "      <th>specificity</th>\n",
       "      <th>roc_auc_score</th>\n",
       "    </tr>\n",
       "  </thead>\n",
       "  <tbody>\n",
       "    <tr>\n",
       "      <th>0</th>\n",
       "      <td>0</td>\n",
       "      <td>92.90</td>\n",
       "      <td>93.54</td>\n",
       "      <td>16.67</td>\n",
       "      <td>97.16</td>\n",
       "      <td>77.85</td>\n",
       "    </tr>\n",
       "    <tr>\n",
       "      <th>1</th>\n",
       "      <td>2</td>\n",
       "      <td>92.92</td>\n",
       "      <td>93.39</td>\n",
       "      <td>15.79</td>\n",
       "      <td>97.26</td>\n",
       "      <td>75.99</td>\n",
       "    </tr>\n",
       "    <tr>\n",
       "      <th>2</th>\n",
       "      <td>3</td>\n",
       "      <td>92.97</td>\n",
       "      <td>93.44</td>\n",
       "      <td>18.42</td>\n",
       "      <td>97.36</td>\n",
       "      <td>76.28</td>\n",
       "    </tr>\n",
       "    <tr>\n",
       "      <th>3</th>\n",
       "      <td>5</td>\n",
       "      <td>92.98</td>\n",
       "      <td>93.63</td>\n",
       "      <td>15.79</td>\n",
       "      <td>97.46</td>\n",
       "      <td>76.21</td>\n",
       "    </tr>\n",
       "    <tr>\n",
       "      <th>4</th>\n",
       "      <td>7</td>\n",
       "      <td>93.00</td>\n",
       "      <td>93.58</td>\n",
       "      <td>16.67</td>\n",
       "      <td>97.51</td>\n",
       "      <td>77.80</td>\n",
       "    </tr>\n",
       "    <tr>\n",
       "      <th>5</th>\n",
       "      <td>14</td>\n",
       "      <td>93.06</td>\n",
       "      <td>93.11</td>\n",
       "      <td>16.67</td>\n",
       "      <td>97.21</td>\n",
       "      <td>76.89</td>\n",
       "    </tr>\n",
       "    <tr>\n",
       "      <th>6</th>\n",
       "      <td>21</td>\n",
       "      <td>93.06</td>\n",
       "      <td>93.44</td>\n",
       "      <td>16.67</td>\n",
       "      <td>97.21</td>\n",
       "      <td>76.59</td>\n",
       "    </tr>\n",
       "    <tr>\n",
       "      <th>7</th>\n",
       "      <td>28</td>\n",
       "      <td>93.28</td>\n",
       "      <td>93.11</td>\n",
       "      <td>18.42</td>\n",
       "      <td>97.94</td>\n",
       "      <td>74.43</td>\n",
       "    </tr>\n",
       "  </tbody>\n",
       "</table>\n",
       "</div>"
      ],
      "text/plain": [
       "   weather_lag  train_acc  test_acc  sensitivity  specificity  roc_auc_score\n",
       "0            0      92.90     93.54        16.67        97.16          77.85\n",
       "1            2      92.92     93.39        15.79        97.26          75.99\n",
       "2            3      92.97     93.44        18.42        97.36          76.28\n",
       "3            5      92.98     93.63        15.79        97.46          76.21\n",
       "4            7      93.00     93.58        16.67        97.51          77.80\n",
       "5           14      93.06     93.11        16.67        97.21          76.89\n",
       "6           21      93.06     93.44        16.67        97.21          76.59\n",
       "7           28      93.28     93.11        18.42        97.94          74.43"
      ]
     },
     "execution_count": 148,
     "metadata": {},
     "output_type": "execute_result"
    }
   ],
   "source": [
    "# Print the metrics of the different models\n",
    "\n",
    "weather_lag_df"
   ]
  },
  {
   "cell_type": "code",
   "execution_count": 149,
   "id": "df21ff6b",
   "metadata": {},
   "outputs": [],
   "source": [
    "# Create function to perform classification of train data (Random Forest with oversampling)\n",
    "# and add scores to a table\n",
    "\n",
    "def rf_2_weather_lag(df, lag_num, concat_df=None):\n",
    "    \n",
    "    df.drop(columns=['id'], axis=1, inplace=True)\n",
    "    df = df.dropna()\n",
    "    X = df[[col for col in df.columns if (df[col].dtypes !='O') & \n",
    "                      (col not in ['date','nummosquitos', 'wnvcount','wnvpresent',\n",
    "                                   'station','species', 'month'])]]\n",
    "    y = df['wnvpresent']\n",
    "    \n",
    "    X_train, X_test, y_train, y_test = train_test_split(\n",
    "        X,\n",
    "        y,\n",
    "        stratify=y,\n",
    "        random_state=42\n",
    "    )\n",
    "    \n",
    "    ss = StandardScaler()\n",
    "    \n",
    "    X_train = ss.fit_transform(X_train)\n",
    "    X_test = ss.transform(X_test)\n",
    "    \n",
    "    \n",
    "    rf =  RandomForestClassifier(\n",
    "        n_estimators=1500,\n",
    "        ccp_alpha=0,\n",
    "        max_depth=10,\n",
    "        min_samples_split=5,\n",
    "        min_samples_leaf=5,\n",
    "        random_state=42,\n",
    "        class_weight='balanced_subsample')\n",
    "    \n",
    "    train_acc = cross_val_score(\n",
    "        rf,\n",
    "        X_train,\n",
    "        y_train,\n",
    "        cv=5\n",
    "    ).mean()\n",
    "    \n",
    "    test_acc = cross_val_score(\n",
    "        rf,\n",
    "        X_test,\n",
    "        y_test,\n",
    "        cv=5\n",
    "    ).mean()\n",
    "    \n",
    "    rf.fit(X_train, y_train)\n",
    "    \n",
    "    forest_predictions = rf.predict(X_test)\n",
    "    \n",
    "    tn, fp, fn, tp = confusion_matrix(y_test, forest_predictions).ravel()\n",
    "    \n",
    "    sensitivity = recall_score(y_test, forest_predictions)\n",
    "\n",
    "    specificity = (tn / (tn + fp))\n",
    "    \n",
    "    roc_auc = roc_auc_score(y_test, rf.predict_proba(X_test)[:,1])\n",
    "    \n",
    "    weather_dict = {\n",
    "        'weather_lag': lag_num, \n",
    "        'train_acc': [round(train_acc * 100, 2)], \n",
    "        'test_acc': [round(test_acc * 100, 2)], \n",
    "        'sensitivity': [round(sensitivity * 100, 2)], \n",
    "        'specificity': [round(specificity * 100, 2)],\n",
    "        'roc_auc_score': [round(roc_auc * 100, 2)]\n",
    "    }\n",
    "    \n",
    "    new_df = pd.DataFrame(weather_dict)\n",
    "    \n",
    "    if isinstance(concat_df, pd.DataFrame) == True:\n",
    "        final_df = pd.concat(\n",
    "            objs=[concat_df, new_df],\n",
    "            axis=0\n",
    "        )\n",
    "        final_df.reset_index(drop=True, inplace=True)\n",
    "        return final_df\n",
    "        \n",
    "    else:    \n",
    "        return new_df\n",
    "    "
   ]
  },
  {
   "cell_type": "code",
   "execution_count": 151,
   "id": "0a245812",
   "metadata": {},
   "outputs": [],
   "source": [
    "# Perform analysis with different weather lags\n",
    "\n",
    "weather_lag_df2 = rf_2_weather_lag(lag0, 0)\n",
    "weather_lag_df2 = rf_2_weather_lag(lag2, 2, weather_lag_df2)\n",
    "weather_lag_df2 = rf_2_weather_lag(lag3, 3, weather_lag_df2)\n",
    "weather_lag_df2 = rf_2_weather_lag(lag5, 5, weather_lag_df2)\n",
    "weather_lag_df2 = rf_2_weather_lag(lag7, 7, weather_lag_df2)\n",
    "weather_lag_df2 = rf_2_weather_lag(lag14, 14, weather_lag_df2)\n",
    "weather_lag_df2 = rf_2_weather_lag(lag21, 21, weather_lag_df2)\n",
    "weather_lag_df2 = rf_2_weather_lag(lag28, 28, weather_lag_df2)"
   ]
  },
  {
   "cell_type": "code",
   "execution_count": 152,
   "id": "aae0f934",
   "metadata": {},
   "outputs": [
    {
     "data": {
      "text/html": [
       "<div>\n",
       "<style scoped>\n",
       "    .dataframe tbody tr th:only-of-type {\n",
       "        vertical-align: middle;\n",
       "    }\n",
       "\n",
       "    .dataframe tbody tr th {\n",
       "        vertical-align: top;\n",
       "    }\n",
       "\n",
       "    .dataframe thead th {\n",
       "        text-align: right;\n",
       "    }\n",
       "</style>\n",
       "<table border=\"1\" class=\"dataframe\">\n",
       "  <thead>\n",
       "    <tr style=\"text-align: right;\">\n",
       "      <th></th>\n",
       "      <th>weather_lag</th>\n",
       "      <th>train_acc</th>\n",
       "      <th>test_acc</th>\n",
       "      <th>sensitivity</th>\n",
       "      <th>specificity</th>\n",
       "      <th>roc_auc_score</th>\n",
       "    </tr>\n",
       "  </thead>\n",
       "  <tbody>\n",
       "    <tr>\n",
       "      <th>0</th>\n",
       "      <td>0</td>\n",
       "      <td>79.63</td>\n",
       "      <td>88.82</td>\n",
       "      <td>71.05</td>\n",
       "      <td>81.40</td>\n",
       "      <td>84.84</td>\n",
       "    </tr>\n",
       "    <tr>\n",
       "      <th>1</th>\n",
       "      <td>2</td>\n",
       "      <td>81.06</td>\n",
       "      <td>89.01</td>\n",
       "      <td>69.30</td>\n",
       "      <td>81.95</td>\n",
       "      <td>84.90</td>\n",
       "    </tr>\n",
       "    <tr>\n",
       "      <th>2</th>\n",
       "      <td>3</td>\n",
       "      <td>80.46</td>\n",
       "      <td>89.52</td>\n",
       "      <td>71.93</td>\n",
       "      <td>81.50</td>\n",
       "      <td>84.92</td>\n",
       "    </tr>\n",
       "    <tr>\n",
       "      <th>3</th>\n",
       "      <td>5</td>\n",
       "      <td>81.21</td>\n",
       "      <td>88.77</td>\n",
       "      <td>71.93</td>\n",
       "      <td>83.44</td>\n",
       "      <td>85.20</td>\n",
       "    </tr>\n",
       "    <tr>\n",
       "      <th>4</th>\n",
       "      <td>7</td>\n",
       "      <td>80.36</td>\n",
       "      <td>89.81</td>\n",
       "      <td>72.81</td>\n",
       "      <td>81.90</td>\n",
       "      <td>85.52</td>\n",
       "    </tr>\n",
       "    <tr>\n",
       "      <th>5</th>\n",
       "      <td>14</td>\n",
       "      <td>82.06</td>\n",
       "      <td>88.49</td>\n",
       "      <td>71.05</td>\n",
       "      <td>83.44</td>\n",
       "      <td>85.45</td>\n",
       "    </tr>\n",
       "    <tr>\n",
       "      <th>6</th>\n",
       "      <td>21</td>\n",
       "      <td>80.90</td>\n",
       "      <td>88.35</td>\n",
       "      <td>73.68</td>\n",
       "      <td>82.04</td>\n",
       "      <td>84.65</td>\n",
       "    </tr>\n",
       "    <tr>\n",
       "      <th>7</th>\n",
       "      <td>28</td>\n",
       "      <td>81.49</td>\n",
       "      <td>89.45</td>\n",
       "      <td>60.53</td>\n",
       "      <td>82.62</td>\n",
       "      <td>82.56</td>\n",
       "    </tr>\n",
       "  </tbody>\n",
       "</table>\n",
       "</div>"
      ],
      "text/plain": [
       "   weather_lag  train_acc  test_acc  sensitivity  specificity  roc_auc_score\n",
       "0            0      79.63     88.82        71.05        81.40          84.84\n",
       "1            2      81.06     89.01        69.30        81.95          84.90\n",
       "2            3      80.46     89.52        71.93        81.50          84.92\n",
       "3            5      81.21     88.77        71.93        83.44          85.20\n",
       "4            7      80.36     89.81        72.81        81.90          85.52\n",
       "5           14      82.06     88.49        71.05        83.44          85.45\n",
       "6           21      80.90     88.35        73.68        82.04          84.65\n",
       "7           28      81.49     89.45        60.53        82.62          82.56"
      ]
     },
     "execution_count": 152,
     "metadata": {},
     "output_type": "execute_result"
    }
   ],
   "source": [
    "# Print the metrics of the different models\n",
    "\n",
    "weather_lag_df2"
   ]
  },
  {
   "cell_type": "markdown",
   "id": "295d75eb",
   "metadata": {},
   "source": [
    "**Recommended weather lag**"
   ]
  },
  {
   "cell_type": "markdown",
   "id": "deefb599",
   "metadata": {},
   "source": [
    "Based on the randomforest model, 7day and 21day lag appears to be the best"
   ]
  },
  {
   "cell_type": "code",
   "execution_count": null,
   "id": "03ca2be1",
   "metadata": {},
   "outputs": [],
   "source": []
  },
  {
   "cell_type": "markdown",
   "id": "5a35b0d1",
   "metadata": {},
   "source": [
    "# Weather Feature Selection\n",
    "Here we will do a rough first cut of the weather features. Weather features that have VERY LOW features importance according to the Random Forest model will be removed."
   ]
  },
  {
   "cell_type": "code",
   "execution_count": 4,
   "id": "dbefa7b8",
   "metadata": {},
   "outputs": [],
   "source": [
    "# Fitting a Random Forest Model with lag 7 weather variables\n",
    "\n",
    "lag7_train = lag7.drop(columns=['id'], axis=1)\n",
    "lag7_train = lag7_train.dropna()\n",
    "X = lag7_train[[col for col in lag7_train.columns if (lag7_train[col].dtypes !='O') & \n",
    "                      (col not in ['date','nummosquitos', 'wnvcount','wnvpresent',\n",
    "                                   'station','species', 'month'])]]\n",
    "y = lag7_train['wnvpresent']\n",
    "    \n",
    "X_train, X_test, y_train, y_test = train_test_split(\n",
    "        X,\n",
    "        y,\n",
    "        stratify=y,\n",
    "        random_state=42\n",
    "    )\n",
    "ss = StandardScaler()\n",
    "X_train = ss.fit_transform(X_train)\n",
    "X_test = ss.transform(X_test)"
   ]
  },
  {
   "cell_type": "code",
   "execution_count": 5,
   "id": "ed1c6f64",
   "metadata": {},
   "outputs": [
    {
     "data": {
      "text/plain": [
       "RandomForestClassifier(ccp_alpha=0, class_weight='balanced_subsample',\n",
       "                       max_depth=10, min_samples_leaf=5, min_samples_split=5,\n",
       "                       n_estimators=1500, random_state=42)"
      ]
     },
     "execution_count": 5,
     "metadata": {},
     "output_type": "execute_result"
    }
   ],
   "source": [
    "rfs_hyperparam_bal =  RandomForestClassifier(\n",
    "        n_estimators=1500,\n",
    "        ccp_alpha=0,\n",
    "        max_depth=10,\n",
    "        min_samples_split=5,\n",
    "        min_samples_leaf=5,\n",
    "        random_state=42,\n",
    "        class_weight='balanced_subsample')\n",
    "\n",
    "# Fitting X_train_sc and y_train on RandomForestClassifier object defined above.\n",
    "\n",
    "rfs_hyperparam_bal.fit(X_train, y_train)\n"
   ]
  },
  {
   "cell_type": "code",
   "execution_count": 6,
   "id": "28c6c4b5",
   "metadata": {},
   "outputs": [],
   "source": [
    "# create function to plot feature importance\n",
    "\n",
    "def plot_feature_importance(importance,names,model_type):\n",
    "\n",
    "    #Create arrays from feature importance and feature names\n",
    "    feature_importance = np.array(importance)\n",
    "    feature_names = np.array(names)\n",
    "\n",
    "    #Create a DataFrame using a Dictionary\n",
    "    data={'feature_names':feature_names,'feature_importance':feature_importance}\n",
    "    fi_df = pd.DataFrame(data)\n",
    "\n",
    "    #Sort the DataFrame in order decreasing feature importance\n",
    "    fi_df.sort_values(by=['feature_importance'], ascending=False,inplace=True)\n",
    "\n",
    "    #Define size of bar plot\n",
    "    plt.figure(figsize=(15,15))\n",
    "    #Plot Searborn bar chart\n",
    "    sns.barplot(x=fi_df['feature_importance'], y=fi_df['feature_names'])\n",
    "\n",
    "    \n",
    "    #Add chart labels\n",
    "    plt.title(model_type + ' FEATURE IMPORTANCE')\n",
    "    plt.xlabel('FEATURE IMPORTANCE')\n",
    "    plt.ylabel('FEATURE NAMES')"
   ]
  },
  {
   "cell_type": "code",
   "execution_count": 7,
   "id": "ad015f2e",
   "metadata": {},
   "outputs": [
    {
     "data": {
      "image/png": "[encoded data removed]",
      "text/plain": [
       "<Figure size 1080x1080 with 1 Axes>"
      ]
     },
     "metadata": {
      "needs_background": "light"
     },
     "output_type": "display_data"
    }
   ],
   "source": [
    "plot_feature_importance(rfs_hyperparam_bal.feature_importances_,X.columns,'RandomForestClassifier')"
   ]
  },
  {
   "cell_type": "code",
   "execution_count": null,
   "id": "f697a397",
   "metadata": {},
   "outputs": [],
   "source": [
    "# Fitting a Random Forest Model with lag 21 weather variables\n",
    "\n",
    "lag21_train = lag21.drop(columns=['id'], axis=1)\n",
    "lag21_train = lag21_train.dropna()\n",
    "X = lag21_train[[col for col in lag21_train.columns if (lag21_train[col].dtypes !='O') & \n",
    "                      (col not in ['date','nummosquitos', 'wnvcount','wnvpresent',\n",
    "                                   'station','species', 'month'])]]\n",
    "y = lag21_train['wnvpresent']\n",
    "    \n",
    "X_train, X_test, y_train, y_test = train_test_split(\n",
    "        X,\n",
    "        y,\n",
    "        stratify=y,\n",
    "        random_state=42\n",
    "    )\n",
    "ss = StandardScaler()\n",
    "X_train = ss.fit_transform(X_train)\n",
    "X_test = ss.transform(X_test)"
   ]
  },
  {
   "cell_type": "code",
   "execution_count": null,
   "id": "7f42b7b0",
   "metadata": {},
   "outputs": [],
   "source": [
    "rfs_hyperparam_bal =  RandomForestClassifier(\n",
    "        n_estimators=1500,\n",
    "        ccp_alpha=0,\n",
    "        max_depth=10,\n",
    "        min_samples_split=5,\n",
    "        min_samples_leaf=5,\n",
    "        random_state=42,\n",
    "        class_weight='balanced_subsample')\n",
    "\n",
    "# Fitting X_train_sc and y_train on RandomForestClassifier object defined above.\n",
    "\n",
    "rfs_hyperparam_bal.fit(X_train, y_train)"
   ]
  },
  {
   "cell_type": "code",
   "execution_count": 160,
   "id": "ab1b7071",
   "metadata": {},
   "outputs": [
    {
     "data": {
      "image/png": "[encoded data removed]",
      "text/plain": [
       "<Figure size 1080x1080 with 1 Axes>"
      ]
     },
     "metadata": {
      "needs_background": "light"
     },
     "output_type": "display_data"
    }
   ],
   "source": [
    "plot_feature_importance(rfs_hyperparam_bal.feature_importances_,X.columns,'RandomForestClassifier')"
   ]
  },
  {
   "cell_type": "code",
   "execution_count": 261,
   "id": "1f1d8f23",
   "metadata": {},
   "outputs": [],
   "source": []
  },
  {
   "cell_type": "markdown",
   "id": "dcb6c735",
   "metadata": {},
   "source": [
    "**Preliminary feature importance assessment**<br/>\n",
    "Features with VERY low feature importance appear to be very similar in lag7 and lag21. To remove the bottom 9 variables which are common across both lags."
   ]
  },
  {
   "cell_type": "code",
   "execution_count": 3,
   "id": "32611b6d",
   "metadata": {},
   "outputs": [],
   "source": [
    "# save to csv\n",
    "\n",
    "#lag7_p = lag7.drop(['vcfg', 'gr', 'fg+', 'mifg', 'sn', 'sq', 'fg', 'bcfg', 'dz'], axis=1)\n",
    "lag14_p = lag7.drop(['vcfg', 'gr', 'fg+', 'mifg', 'sn', 'sq', 'fg', 'bcfg', 'dz'], axis=1)\n",
    "#lag21_p = lag21.drop(['vcfg', 'gr', 'fg+', 'mifg', 'sn', 'sq', 'fg', 'bcfg', 'dz'], axis=1)\n",
    "\n",
    "#lag7_p.to_csv('../data/lag7_p.csv', index=False)\n",
    "lag14_p.to_csv('../data/lag14_p.csv', index=False)\n",
    "#lag21_p.to_csv('../data/lag21_p.csv', index=False)"
   ]
  },
  {
   "cell_type": "markdown",
   "id": "e8558843",
   "metadata": {},
   "source": [
    "# Relationship between locations (traps) and time with WNV present\n",
    "\n",
    "In an earlier exploratory data analysis, we have seen that the prevalence of the West Nile Virus varies greatly across the years and within the weeks/months within each year. Here, we will further explore if the locations (traps) vary widely as well.\n",
    "\n",
    "If the same traps consistently appear in each year. It is likely that the WNV hotspots are consistent.\n",
    "If the there are groups of traps that appear is certain years (or groups of years) but not others, there is a chance that there are some interactions between location (traps) and time."
   ]
  },
  {
   "cell_type": "code",
   "execution_count": 5,
   "id": "0d92e08c",
   "metadata": {},
   "outputs": [],
   "source": [
    "# import data\n",
    "\n",
    "merge_df = pd.read_csv('../data/merged_train.csv')\n",
    "\n",
    "# create time related features\n",
    "\n",
    "merge_df['date']=pd.to_datetime(merge_df['date'])\n",
    "merge_df['year'] = merge_df['date'].dt.year\n",
    "merge_df['month'] = merge_df['date'].dt.month\n",
    "merge_df['week'] = merge_df['date'].dt.isocalendar().week\n",
    "\n",
    "# subset required columns and rows\n",
    "betw_year = merge_df[['trap', 'year', 'wnvpresent', 'wnvcount']]\n",
    "betw_year = betw_year.loc[betw_year['wnvpresent']>0,:]           # only rows where wnv is present\n",
    "\n",
    "# Collapse by trap and year\n",
    "betw_year = betw_year.groupby(['trap', 'year'], as_index=False)[['wnvpresent', 'wnvcount']]\\\n",
    ".sum().sort_values(['year','wnvpresent'], ascending=False)"
   ]
  },
  {
   "cell_type": "code",
   "execution_count": 6,
   "id": "2c309b1c",
   "metadata": {},
   "outputs": [
    {
     "data": {
      "text/html": [
       "<div>\n",
       "<style scoped>\n",
       "    .dataframe tbody tr th:only-of-type {\n",
       "        vertical-align: middle;\n",
       "    }\n",
       "\n",
       "    .dataframe tbody tr th {\n",
       "        vertical-align: top;\n",
       "    }\n",
       "\n",
       "    .dataframe thead th {\n",
       "        text-align: right;\n",
       "    }\n",
       "</style>\n",
       "<table border=\"1\" class=\"dataframe\">\n",
       "  <thead>\n",
       "    <tr style=\"text-align: right;\">\n",
       "      <th></th>\n",
       "      <th>wnvpresent</th>\n",
       "    </tr>\n",
       "    <tr>\n",
       "      <th>year</th>\n",
       "      <th></th>\n",
       "    </tr>\n",
       "  </thead>\n",
       "  <tbody>\n",
       "    <tr>\n",
       "      <th>2007</th>\n",
       "      <td>189.0</td>\n",
       "    </tr>\n",
       "    <tr>\n",
       "      <th>2009</th>\n",
       "      <td>19.0</td>\n",
       "    </tr>\n",
       "    <tr>\n",
       "      <th>2011</th>\n",
       "      <td>50.0</td>\n",
       "    </tr>\n",
       "    <tr>\n",
       "      <th>2013</th>\n",
       "      <td>199.0</td>\n",
       "    </tr>\n",
       "  </tbody>\n",
       "</table>\n",
       "</div>"
      ],
      "text/plain": [
       "      wnvpresent\n",
       "year            \n",
       "2007       189.0\n",
       "2009        19.0\n",
       "2011        50.0\n",
       "2013       199.0"
      ]
     },
     "execution_count": 6,
     "metadata": {},
     "output_type": "execute_result"
    }
   ],
   "source": [
    "# Is there a consistent wave of WNV in each year?\n",
    "\n",
    "betw_year.groupby('year')[['wnvpresent']].sum()"
   ]
  },
  {
   "cell_type": "markdown",
   "id": "b0e01f0d",
   "metadata": {},
   "source": [
    "**Is there a consistent wave of WNV in each year?**<br/>\n",
    "No, mosquitos thrive in some years but not others. This is probably due to favourable conditions in 2007 and 2013 but not in 2009 and 2011. Unfortunately, as it is not able to objectively determine the cause and effect of this. However, if it is related to weather conditions, our weather variables will account for this variation."
   ]
  },
  {
   "cell_type": "code",
   "execution_count": 7,
   "id": "c9573cfe",
   "metadata": {},
   "outputs": [
    {
     "name": "stderr",
     "output_type": "stream",
     "text": [
      "C:\\Users\\User\\AppData\\Local\\Temp/ipykernel_15276/1500054444.py:6: FutureWarning: Indexing with multiple keys (implicitly converted to a tuple of keys) will be deprecated, use a list instead.\n",
      "  betw_year.groupby(['trap'])['wnvpresent', 'years_wnvp'].sum()\\\n"
     ]
    },
    {
     "data": {
      "text/plain": [
       "years_wnvp\n",
       "1             51\n",
       "2             26\n",
       "3             16\n",
       "4              4\n",
       "dtype: int64"
      ]
     },
     "execution_count": 7,
     "metadata": {},
     "output_type": "execute_result"
    }
   ],
   "source": [
    "# Are mosquitos always found in the same location? \n",
    "# IE MOSQUITOS THRIVE IN SPECIFIC LOCATIONS Reardless of year on year changes\n",
    "\n",
    "betw_year['years_wnvp'] = betw_year['wnvpresent'].map(lambda x: 1 if x >0 else 0)\n",
    "\n",
    "betw_year.groupby(['trap'])['wnvpresent', 'years_wnvp'].sum()\\\n",
    ".sort_values('years_wnvp', ascending=False)[['years_wnvp']].value_counts()\n"
   ]
  },
  {
   "cell_type": "markdown",
   "id": "4f098e6c",
   "metadata": {},
   "source": [
    "**Are mosquitos always found in the same location?**<br/>\n",
    "Not exactly. Only 4 locations have WNV present consistently across the 4 years. Even if we use the year with lowest number of WNV found in the traps (2009) the 4 traps only account for 4/19 of them. This means that there are very few hotspots that have WNV independent of the year (or annual weather conditions)."
   ]
  },
  {
   "cell_type": "code",
   "execution_count": 8,
   "id": "b9513b49",
   "metadata": {},
   "outputs": [],
   "source": [
    "# Are the hotspots in specific group of years?\n",
    "\n",
    "inter_year = betw_year.pivot(index='trap', columns='year', values=['wnvpresent'])\n",
    "inter_year.fillna(0, inplace=True)"
   ]
  },
  {
   "cell_type": "code",
   "execution_count": 9,
   "id": "4045a949",
   "metadata": {},
   "outputs": [],
   "source": [
    "# positive traps in 2007\n",
    "ptrap_2007 = betw_year.loc[betw_year['year']==2007, 'trap']\n",
    "ptrap_2009 = betw_year.loc[betw_year['year']==2009, 'trap']\n",
    "ptrap_2011 = betw_year.loc[betw_year['year']==2011, 'trap']\n",
    "ptrap_2013 = betw_year.loc[betw_year['year']==2013, 'trap']\n",
    "\n",
    "ptrap_2007 = set(ptrap_2007)\n",
    "ptrap_2009 = set(ptrap_2009)\n",
    "ptrap_2011 = set(ptrap_2011)\n",
    "ptrap_2013 = set(ptrap_2013)"
   ]
  },
  {
   "cell_type": "code",
   "execution_count": 10,
   "id": "3cf3aa83",
   "metadata": {},
   "outputs": [
    {
     "data": {
      "text/plain": [
       "{'T002', 'T090', 'T095', 'T158'}"
      ]
     },
     "execution_count": 10,
     "metadata": {},
     "output_type": "execute_result"
    }
   ],
   "source": [
    "ptrap_2007.intersection(ptrap_2009, ptrap_2011, ptrap_2013)"
   ]
  },
  {
   "cell_type": "code",
   "execution_count": 11,
   "id": "38786ed8",
   "metadata": {},
   "outputs": [
    {
     "data": {
      "text/plain": [
       "33"
      ]
     },
     "execution_count": 11,
     "metadata": {},
     "output_type": "execute_result"
    }
   ],
   "source": [
    "ptrap_2007_2013 = ptrap_2007.intersection(ptrap_2013)\n",
    "len(ptrap_2007_2013)"
   ]
  },
  {
   "cell_type": "markdown",
   "id": "88faf288",
   "metadata": {},
   "source": [
    "**Are the hotspots in specific group of years?**\n",
    "We previously saw that there are onyl 4 traps that found WNV present mosquitos in all 4 years. Here we additionally find that there are groups of traps that have WNV in a subset of years. For example, that are 33 traps with WNV present in year 2007 and 2013. This suggests that some hotspots on appear in certain years, possibly due to similar conditions in those years."
   ]
  },
  {
   "cell_type": "markdown",
   "id": "6c350566",
   "metadata": {},
   "source": [
    "### Remarks\n",
    "\n",
    "In the exploration above, we have seen that there is small number of traps that will have WNV present mosquitos every year (ie. locations that are independent across time). However, there are also many traps that are only \"hotspots\" in specific years (ie. an interation of location and time and/or weather conditions).\n",
    "\n",
    "**Modelling implications**<br/>\n",
    "To account for this, we will include traps in our model which have both a high overall WNVpresent across years, as well as within years. As we expect the interaction effects to be very complex, it will be unfeasible to manyally create these interaction terms. Fortunately, models such as Random Forest, will naturally account for these effects.\n",
    "\n",
    "As such, we will include Random Forest as one of the models to be explored later on. Additionally we will also expect Random Forest to perform better than a model such as Logistic Regression which does not explicitly account for such interactions."
   ]
  },
  {
   "cell_type": "markdown",
   "id": "8ba5c3d7",
   "metadata": {},
   "source": [
    "## Selecting location (traps) to be included for analysis\n",
    "\n",
    "To avoid including ALL traps in the model and risk overfitting, we will include only a subset of traps in the model. As explained earlier, these traps will show a high WNV count across years OR within year). (ie. a hotpost across years or wihtin each year.<br/>\n",
    "1. WNV ACROSS YEARS\n",
    "   - WNV in the same trap ACROSS years\n",
    "   - High counts of WNV ACROSS years\n",
    "2. High count WITHIN each year"
   ]
  },
  {
   "cell_type": "markdown",
   "id": "77881c0a",
   "metadata": {},
   "source": [
    "Across years: Appear in \n",
    "    at least 3 of 4 years (20 traps) ay_3of4\n",
    "    at least 2 of 4 years (46 traps) ay_2of4\n",
    "\n",
    "Across years: wnvpresent \n",
    "    > wnvpresent 8 times (17 traps) ay_8nabov\n",
    "    > wnvpresent 6 times (25 traps) ay_6nabov    \n",
    "\n",
    "Within years: wnvpresent at least 4\n",
    "2007 (19 traps) wy_2007_4nabv\n",
    "2009 (0 traps)  0\n",
    "2011 (3 traps)  wy_2011_4nabv\n",
    "2013 (22 traps) wy_2013_4nabv\n",
    "\n",
    "\n",
    "Within years: wnvpresent at least 3\n",
    "2007 (27 traps) wy_2007_3nabv\n",
    "2009 (0 traps)  0\n",
    "2011 (4 traps)  wy_2011_3nabv\n",
    "2013 (33 traps) wy_2013_3nabv"
   ]
  },
  {
   "cell_type": "markdown",
   "id": "0bd068ad",
   "metadata": {},
   "source": [
    "### WNV in the same trap ACROSS years\n",
    "\n",
    "To create 2 groups of traps\n",
    "1) Traps with WNV present in at least 3 of 4 years<br/>\n",
    "2) Traps with WNV present in at least 2 of 4 years"
   ]
  },
  {
   "cell_type": "code",
   "execution_count": 12,
   "id": "d3ba3f40",
   "metadata": {},
   "outputs": [
    {
     "name": "stderr",
     "output_type": "stream",
     "text": [
      "C:\\Users\\User\\AppData\\Local\\Temp/ipykernel_15276/3925836779.py:3: FutureWarning: Indexing with multiple keys (implicitly converted to a tuple of keys) will be deprecated, use a list instead.\n",
      "  ay = betw_year.groupby(['trap'])['wnvpresent', 'years_wnvp'].sum()\\\n"
     ]
    },
    {
     "data": {
      "text/html": [
       "<div>\n",
       "<style scoped>\n",
       "    .dataframe tbody tr th:only-of-type {\n",
       "        vertical-align: middle;\n",
       "    }\n",
       "\n",
       "    .dataframe tbody tr th {\n",
       "        vertical-align: top;\n",
       "    }\n",
       "\n",
       "    .dataframe thead th {\n",
       "        text-align: right;\n",
       "    }\n",
       "</style>\n",
       "<table border=\"1\" class=\"dataframe\">\n",
       "  <thead>\n",
       "    <tr style=\"text-align: right;\">\n",
       "      <th></th>\n",
       "      <th>wnvpresent</th>\n",
       "      <th>years_wnvp</th>\n",
       "    </tr>\n",
       "    <tr>\n",
       "      <th>trap</th>\n",
       "      <th></th>\n",
       "      <th></th>\n",
       "    </tr>\n",
       "  </thead>\n",
       "  <tbody>\n",
       "    <tr>\n",
       "      <th>T002</th>\n",
       "      <td>15.0</td>\n",
       "      <td>4</td>\n",
       "    </tr>\n",
       "    <tr>\n",
       "      <th>T090</th>\n",
       "      <td>7.0</td>\n",
       "      <td>4</td>\n",
       "    </tr>\n",
       "    <tr>\n",
       "      <th>T095</th>\n",
       "      <td>5.0</td>\n",
       "      <td>4</td>\n",
       "    </tr>\n",
       "    <tr>\n",
       "      <th>T158</th>\n",
       "      <td>5.0</td>\n",
       "      <td>4</td>\n",
       "    </tr>\n",
       "    <tr>\n",
       "      <th>T028</th>\n",
       "      <td>9.0</td>\n",
       "      <td>3</td>\n",
       "    </tr>\n",
       "  </tbody>\n",
       "</table>\n",
       "</div>"
      ],
      "text/plain": [
       "      wnvpresent  years_wnvp\n",
       "trap                        \n",
       "T002        15.0           4\n",
       "T090         7.0           4\n",
       "T095         5.0           4\n",
       "T158         5.0           4\n",
       "T028         9.0           3"
      ]
     },
     "execution_count": 12,
     "metadata": {},
     "output_type": "execute_result"
    }
   ],
   "source": [
    "# Create variable which shows how many ears the trap has positive WNV\n",
    "\n",
    "ay = betw_year.groupby(['trap'])['wnvpresent', 'years_wnvp'].sum()\\\n",
    ".sort_values('years_wnvp', ascending=False)\n",
    "ay[:5]"
   ]
  },
  {
   "cell_type": "code",
   "execution_count": 13,
   "id": "f93fc2e1",
   "metadata": {},
   "outputs": [
    {
     "data": {
      "text/plain": [
       "Index(['T002', 'T090', 'T095', 'T158', 'T028', 'T003', 'T114', 'T115', 'T151',\n",
       "       'T039', 'T031', 'T073', 'T011', 'T225', 'T900', 'T013', 'T230', 'T008',\n",
       "       'T221', 'T009'],\n",
       "      dtype='object', name='trap')"
      ]
     },
     "execution_count": 13,
     "metadata": {},
     "output_type": "execute_result"
    }
   ],
   "source": [
    "# Traps with WNV present in at least 3 of 4 years (ay_3of4)\n",
    "\n",
    "ay_3of4 = ay.loc[ay['years_wnvp']>2,:].index\n",
    "ay_3of4"
   ]
  },
  {
   "cell_type": "code",
   "execution_count": 14,
   "id": "6c73c138",
   "metadata": {},
   "outputs": [
    {
     "data": {
      "text/plain": [
       "Index(['T002', 'T090', 'T095', 'T158', 'T028', 'T003', 'T114', 'T115', 'T151',\n",
       "       'T039', 'T031', 'T073', 'T011', 'T225', 'T900', 'T013', 'T230', 'T008',\n",
       "       'T221', 'T009', 'T102', 'T081', 'T082', 'T083', 'T089', 'T094', 'T220',\n",
       "       'T128', 'T135', 'T228', 'T152', 'T080', 'T159', 'T223', 'T160', 'T155',\n",
       "       'T903', 'T035', 'T065', 'T048', 'T027', 'T061', 'T012', 'T063', 'T066',\n",
       "       'T033'],\n",
       "      dtype='object', name='trap')"
      ]
     },
     "execution_count": 14,
     "metadata": {},
     "output_type": "execute_result"
    }
   ],
   "source": [
    "# Traps with WNV present in at least 2 of 4 years (ay_2of4)\n",
    "\n",
    "ay_2of4 = ay.loc[ay['years_wnvp']>1,:].index\n",
    "ay_2of4"
   ]
  },
  {
   "cell_type": "markdown",
   "id": "64b1f410",
   "metadata": {},
   "source": [
    "### High counts of WNV ACROSS years\n",
    "\n",
    "To create 2 groups of traps\n",
    "1) Traps with WNV present found at least 8 times<br/>\n",
    "2) Traps with WNV present found at least 6 times"
   ]
  },
  {
   "cell_type": "code",
   "execution_count": 15,
   "id": "c03dc8b4",
   "metadata": {},
   "outputs": [
    {
     "data": {
      "text/html": [
       "<div>\n",
       "<style scoped>\n",
       "    .dataframe tbody tr th:only-of-type {\n",
       "        vertical-align: middle;\n",
       "    }\n",
       "\n",
       "    .dataframe tbody tr th {\n",
       "        vertical-align: top;\n",
       "    }\n",
       "\n",
       "    .dataframe thead th {\n",
       "        text-align: right;\n",
       "    }\n",
       "</style>\n",
       "<table border=\"1\" class=\"dataframe\">\n",
       "  <thead>\n",
       "    <tr style=\"text-align: right;\">\n",
       "      <th></th>\n",
       "      <th>wnvpresent</th>\n",
       "    </tr>\n",
       "    <tr>\n",
       "      <th>trap</th>\n",
       "      <th></th>\n",
       "    </tr>\n",
       "  </thead>\n",
       "  <tbody>\n",
       "    <tr>\n",
       "      <th>T900</th>\n",
       "      <td>29.0</td>\n",
       "    </tr>\n",
       "    <tr>\n",
       "      <th>T002</th>\n",
       "      <td>15.0</td>\n",
       "    </tr>\n",
       "    <tr>\n",
       "      <th>T115</th>\n",
       "      <td>15.0</td>\n",
       "    </tr>\n",
       "    <tr>\n",
       "      <th>T003</th>\n",
       "      <td>14.0</td>\n",
       "    </tr>\n",
       "    <tr>\n",
       "      <th>T225</th>\n",
       "      <td>11.0</td>\n",
       "    </tr>\n",
       "  </tbody>\n",
       "</table>\n",
       "</div>"
      ],
      "text/plain": [
       "      wnvpresent\n",
       "trap            \n",
       "T900        29.0\n",
       "T002        15.0\n",
       "T115        15.0\n",
       "T003        14.0\n",
       "T225        11.0"
      ]
     },
     "execution_count": 15,
     "metadata": {},
     "output_type": "execute_result"
    }
   ],
   "source": [
    "ay_c = betw_year.groupby(['trap'])['wnvpresent',].sum()\\\n",
    ".sort_values('wnvpresent', ascending=False)\n",
    "\n",
    "ay_c.head()"
   ]
  },
  {
   "cell_type": "code",
   "execution_count": 16,
   "id": "203bff97",
   "metadata": {},
   "outputs": [
    {
     "data": {
      "text/plain": [
       "Index(['T900', 'T002', 'T115', 'T003', 'T225', 'T011', 'T013', 'T028', 'T223',\n",
       "       'T138', 'T114', 'T903', 'T008', 'T009', 'T061', 'T082', 'T135'],\n",
       "      dtype='object', name='trap')"
      ]
     },
     "execution_count": 16,
     "metadata": {},
     "output_type": "execute_result"
    }
   ],
   "source": [
    "# Traps with WNV present found at lest 8 times (ay_8nabov)\n",
    "\n",
    "ay_8nabov = ay_c.loc[ay['wnvpresent']>7,:].index\n",
    "ay_8nabov"
   ]
  },
  {
   "cell_type": "code",
   "execution_count": 17,
   "id": "7c921d16",
   "metadata": {},
   "outputs": [
    {
     "data": {
      "text/plain": [
       "Index(['T900', 'T002', 'T115', 'T003', 'T225', 'T011', 'T013', 'T028', 'T223',\n",
       "       'T138', 'T114', 'T903', 'T008', 'T009', 'T061', 'T082', 'T135', 'T027',\n",
       "       'T030', 'T090', 'T235', 'T086', 'T230', 'T221', 'T128', 'T066', 'T151',\n",
       "       'T155', 'T228', 'T233'],\n",
       "      dtype='object', name='trap')"
      ]
     },
     "execution_count": 17,
     "metadata": {},
     "output_type": "execute_result"
    }
   ],
   "source": [
    "# Traps with WNV present found at lest 8 times (ay_6nabov)\n",
    "\n",
    "ay_6nabov = ay_c.loc[ay['wnvpresent']>5,:].index\n",
    "ay_6nabov"
   ]
  },
  {
   "cell_type": "markdown",
   "id": "53a8dc8f",
   "metadata": {},
   "source": [
    "### High count WITHIN each year\n",
    "\n",
    "To create 2 groups of traps\n",
    "\n",
    "1) Traps with WNV present found at least 4 times within each year<br/>\n",
    "2) Traps with WNV present found at least 3 times within each year"
   ]
  },
  {
   "cell_type": "code",
   "execution_count": 18,
   "id": "d30d1a88",
   "metadata": {},
   "outputs": [],
   "source": [
    "# Get list of traps within each year\n",
    "\n",
    "wy_2007_4nabv = betw_year.loc[(betw_year['year']==2007) & (betw_year['wnvcount']>3), 'trap']\n",
    "wy_2009_4nabv = betw_year.loc[(betw_year['year']==2009) & (betw_year['wnvcount']>3), 'trap']\n",
    "wy_2011_4nabv = betw_year.loc[(betw_year['year']==2011) & (betw_year['wnvcount']>3), 'trap']\n",
    "wy_2013_4nabv = betw_year.loc[(betw_year['year']==2013) & (betw_year['wnvcount']>3), 'trap']\n",
    "\n",
    "# Save list of traps within each year into ONE list \n",
    "wy_4nabv = list(wy_2007_4nabv).copy()\n",
    "wy_4nabv.extend(wy_2009_4nabv)\n",
    "wy_4nabv.extend(wy_2011_4nabv)\n",
    "wy_4nabv.extend(wy_2013_4nabv)"
   ]
  },
  {
   "cell_type": "code",
   "execution_count": 19,
   "id": "099e2a08",
   "metadata": {},
   "outputs": [],
   "source": [
    "# Get list of traps within each year\n",
    "\n",
    "wy_2007_3nabv = betw_year.loc[(betw_year['year']==2007) & (betw_year['wnvcount']>2), 'trap']\n",
    "wy_2009_3nabv = betw_year.loc[(betw_year['year']==2009) & (betw_year['wnvcount']>2), 'trap']\n",
    "wy_2011_3nabv = betw_year.loc[(betw_year['year']==2011) & (betw_year['wnvcount']>2), 'trap']\n",
    "wy_2013_3nabv = betw_year.loc[(betw_year['year']==2013) & (betw_year['wnvcount']>2), 'trap']\n",
    "\n",
    "# Save list of traps within each year into ONE list\n",
    "wy_3nabv = list(wy_2007_3nabv).copy()\n",
    "wy_3nabv.extend(wy_2009_3nabv)\n",
    "wy_3nabv.extend(wy_2011_3nabv)\n",
    "wy_3nabv.extend(wy_2013_3nabv)"
   ]
  },
  {
   "cell_type": "markdown",
   "id": "658eaa92",
   "metadata": {},
   "source": [
    "### Different groups of traps\n",
    "We have engineered 3 different groups of traps, each with increaing number. "
   ]
  },
  {
   "cell_type": "code",
   "execution_count": 20,
   "id": "da07578a",
   "metadata": {},
   "outputs": [
    {
     "data": {
      "text/plain": [
       "['T231',\n",
       " 'T073',\n",
       " 'T095',\n",
       " 'T006',\n",
       " 'T027',\n",
       " 'T143',\n",
       " 'T003',\n",
       " 'T226',\n",
       " 'T028',\n",
       " 'T114',\n",
       " 'T030',\n",
       " 'T228',\n",
       " 'T151',\n",
       " 'T225',\n",
       " 'T158',\n",
       " 'T096',\n",
       " 'T147',\n",
       " 'T221',\n",
       " 'T031',\n",
       " 'T011',\n",
       " 'T086',\n",
       " 'T054',\n",
       " 'T227',\n",
       " 'T002',\n",
       " 'T090',\n",
       " 'T103',\n",
       " 'T233',\n",
       " 'T903',\n",
       " 'T235',\n",
       " 'T082',\n",
       " 'T900',\n",
       " 'T230',\n",
       " 'T135',\n",
       " 'T008',\n",
       " 'T061',\n",
       " 'T039',\n",
       " 'T066',\n",
       " 'T115',\n",
       " 'T013',\n",
       " 'T015',\n",
       " 'T016',\n",
       " 'T128',\n",
       " 'T014',\n",
       " 'T138',\n",
       " 'T223',\n",
       " 'T009']"
      ]
     },
     "execution_count": 20,
     "metadata": {},
     "output_type": "execute_result"
    }
   ],
   "source": [
    "group_1 = list(ay_8nabov)\n",
    "group_1.extend(ay_3of4)\n",
    "group_1.extend(wy_4nabv)\n",
    "group_1 = list(set(group_1))\n",
    "len(group_1)\n",
    "group_1"
   ]
  },
  {
   "cell_type": "code",
   "execution_count": 29,
   "id": "b4d295f0",
   "metadata": {},
   "outputs": [
    {
     "data": {
      "text/plain": [
       "57"
      ]
     },
     "execution_count": 29,
     "metadata": {},
     "output_type": "execute_result"
    }
   ],
   "source": [
    "group_2 = list(ay_6nabov)\n",
    "group_2.extend(ay_3of4)\n",
    "group_2.extend(wy_3nabv)\n",
    "group_2 = list(set(group_2))\n",
    "len(group_2)"
   ]
  },
  {
   "cell_type": "code",
   "execution_count": 30,
   "id": "86994dcb",
   "metadata": {},
   "outputs": [
    {
     "data": {
      "text/plain": [
       "68"
      ]
     },
     "execution_count": 30,
     "metadata": {},
     "output_type": "execute_result"
    }
   ],
   "source": [
    "group_3 = list(ay_6nabov)\n",
    "group_3.extend(ay_2of4)\n",
    "group_3.extend(wy_3nabv)\n",
    "group_3 = list(set(group_3))\n",
    "len(group_3)"
   ]
  },
  {
   "cell_type": "markdown",
   "id": "a7a41af2",
   "metadata": {},
   "source": [
    "# Feature Engineering\n",
    "\n",
    "So far, we have seen that certain species, weeks and locations (traps) are likely to have more WNV present. Feature engineering will be performed in this section to ensure these effects are accounted for (dummy coding the features)."
   ]
  },
  {
   "cell_type": "code",
   "execution_count": 22,
   "id": "ac83f8f5",
   "metadata": {},
   "outputs": [],
   "source": [
    "# read in train data\n",
    "train_merged = pd.read_csv('../data/merged_train.csv')"
   ]
  },
  {
   "cell_type": "code",
   "execution_count": 23,
   "id": "7a45941f",
   "metadata": {},
   "outputs": [
    {
     "data": {
      "text/plain": [
       "Index(['date', 'species', 'latitude', 'longitude', 'trap', 'nummosquitos',\n",
       "       'wnvpresent', 'wnvcount', 'station', 'tmax', 'tmin', 'tavg', 'dewpoint',\n",
       "       'wetbulb', 'heat', 'cool', 'codesum', 'preciptotal', 'stnpressure',\n",
       "       'sealevel', 'resultspeed', 'resultdir', 'avgspeed', 'month', 'sunrise',\n",
       "       'sunset', 'bcfg', 'br', 'dz', 'fg', 'fg+', 'fu', 'hz', 'mifg', 'ra',\n",
       "       'sn', 'sq', 'ts', 'tsra', 'vcts', 'gr', 'vcfg', 'sprayed'],\n",
       "      dtype='object')"
      ]
     },
     "execution_count": 23,
     "metadata": {},
     "output_type": "execute_result"
    }
   ],
   "source": [
    "train_merged.columns"
   ]
  },
  {
   "cell_type": "code",
   "execution_count": 24,
   "id": "67b299c5",
   "metadata": {},
   "outputs": [],
   "source": [
    "# extract columns required for enginnering (dummy coding)\n",
    "\n",
    "train_fe = train_merged[['date', 'species', 'latitude',\n",
    "                         'longitude', 'trap', 'wnvpresent']].copy()"
   ]
  },
  {
   "cell_type": "markdown",
   "id": "effdaeb7",
   "metadata": {},
   "source": [
    "**Dummy coding for species**"
   ]
  },
  {
   "cell_type": "code",
   "execution_count": 26,
   "id": "60aa2f01",
   "metadata": {},
   "outputs": [],
   "source": [
    "train_fe['culex_pipiens/restuans'] = train_fe['species'].map(lambda x: 1 if x == 'CULEX PIPIENS/RESTUANS' else 0)\n",
    "train_fe['culex_pipiens'] = train_fe['species'].map(lambda x: 1 if x == 'CULEX PIPIENS' else 0)\n",
    "train_fe['culex_restuans'] = train_fe['species'].map(lambda x: 1 if x == 'CULEX RESTUANS' else 0)"
   ]
  },
  {
   "cell_type": "markdown",
   "id": "fa41efb0",
   "metadata": {},
   "source": [
    "**Dummy coding for week**"
   ]
  },
  {
   "cell_type": "code",
   "execution_count": 27,
   "id": "1f9c4640",
   "metadata": {},
   "outputs": [],
   "source": [
    "# create week variable\n",
    "train_fe['date'] = pd.to_datetime(train_fe['date'])\n",
    "train_fe['week'] = train_fe['date'].dt.isocalendar().week"
   ]
  },
  {
   "cell_type": "code",
   "execution_count": 28,
   "id": "2a0ece53",
   "metadata": {},
   "outputs": [
    {
     "data": {
      "text/plain": [
       "week\n",
       "22      0.0\n",
       "23      0.0\n",
       "24      0.0\n",
       "25      0.0\n",
       "26      1.0\n",
       "27      0.0\n",
       "28      7.0\n",
       "29     15.0\n",
       "30     16.0\n",
       "31     39.0\n",
       "32     54.0\n",
       "33     66.0\n",
       "34    107.0\n",
       "35     47.0\n",
       "36     44.0\n",
       "37     34.0\n",
       "38     19.0\n",
       "39      6.0\n",
       "40      2.0\n",
       "41      0.0\n",
       "Name: wnvpresent, dtype: float64"
      ]
     },
     "execution_count": 28,
     "metadata": {},
     "output_type": "execute_result"
    }
   ],
   "source": [
    "# Dummy coding for week\n",
    "\n",
    "train_fe.groupby('week')['wnvpresent'].sum()"
   ]
  },
  {
   "cell_type": "code",
   "execution_count": 29,
   "id": "46e541e2",
   "metadata": {},
   "outputs": [
    {
     "data": {
      "text/plain": [
       "(8475, 21)"
      ]
     },
     "execution_count": 29,
     "metadata": {},
     "output_type": "execute_result"
    }
   ],
   "source": [
    "# Only select weeks that have more than 2 counts\n",
    "\n",
    "train_fe = pd.get_dummies(train_fe, columns=['week'], drop_first=False)\n",
    "\n",
    "train_fe.drop(columns=['week_22', 'week_23', 'week_24', 'week_25', \n",
    "                            'week_26', 'week_27', 'week_40', 'week_41'],\n",
    "                  axis=1,\n",
    "                  inplace=True)\n",
    "train_fe.shape"
   ]
  },
  {
   "cell_type": "code",
   "execution_count": 30,
   "id": "29db39b2",
   "metadata": {},
   "outputs": [
    {
     "data": {
      "text/plain": [
       "['date',\n",
       " 'species',\n",
       " 'latitude',\n",
       " 'longitude',\n",
       " 'trap',\n",
       " 'wnvpresent',\n",
       " 'culex_pipiens/restuans',\n",
       " 'culex_pipiens',\n",
       " 'culex_restuans',\n",
       " 'week_28',\n",
       " 'week_29',\n",
       " 'week_30',\n",
       " 'week_31',\n",
       " 'week_32',\n",
       " 'week_33',\n",
       " 'week_34',\n",
       " 'week_35',\n",
       " 'week_36',\n",
       " 'week_37',\n",
       " 'week_38',\n",
       " 'week_39']"
      ]
     },
     "execution_count": 30,
     "metadata": {},
     "output_type": "execute_result"
    }
   ],
   "source": [
    "# extract col_names\n",
    "\n",
    "col_wo_trap = list(train_fe.columns)\n",
    "col_wo_trap\n"
   ]
  },
  {
   "cell_type": "markdown",
   "id": "985a2a70",
   "metadata": {},
   "source": [
    "**Dummy coding for traps**"
   ]
  },
  {
   "cell_type": "code",
   "execution_count": 31,
   "id": "e30399e5",
   "metadata": {},
   "outputs": [],
   "source": [
    "# Create dataframe of ALL trap dummies\n",
    "\n",
    "train_fe['trap_d'] = train_fe['trap']          # duplicate trap col as\n",
    "                                               # we need to merge on it later\n",
    "train_fe = pd.get_dummies(train_fe, columns=['trap'])         # get dummies\n",
    "train_fe.rename(columns = {'trap_d':'trap'}, inplace = True) #rename to trap\n"
   ]
  },
  {
   "cell_type": "code",
   "execution_count": 39,
   "id": "06702165",
   "metadata": {},
   "outputs": [],
   "source": [
    "# Create a list of variables for each group\n",
    "# Create dataset for each group with newly added species, week, trap variables"
   ]
  },
  {
   "cell_type": "code",
   "execution_count": 33,
   "id": "1e9ed2e8",
   "metadata": {},
   "outputs": [
    {
     "data": {
      "text/plain": [
       "(8475, 67)"
      ]
     },
     "execution_count": 33,
     "metadata": {},
     "output_type": "execute_result"
    }
   ],
   "source": [
    "# Creating dataframe with Group 1 trap features\n",
    "\n",
    "g1 = ['trap_' + x for x in group_1] # Create colnames of traps features for only Group 1 traps\n",
    "g1_others = col_wo_trap.copy()      # Create colnames of all features EXCEPT traps\n",
    "g1_others.extend(g1)                # Combine colnames into one list\n",
    "train_fe_g1 = train_fe[g1_others]   # Extract features with group 1 traps into a dataframe\n",
    "train_fe_g1.shape"
   ]
  },
  {
   "cell_type": "code",
   "execution_count": 34,
   "id": "de1a3b43",
   "metadata": {},
   "outputs": [
    {
     "data": {
      "text/plain": [
       "(8475, 78)"
      ]
     },
     "execution_count": 34,
     "metadata": {},
     "output_type": "execute_result"
    }
   ],
   "source": [
    "# Creating dataframe with Group 2 trap features\n",
    "\n",
    "g2 = ['trap_' + x for x in group_2] # Create colnames of traps features for only Group 2 traps\n",
    "g2_others = col_wo_trap.copy()      # Create colnames of all features EXCEPT traps\n",
    "g2_others.extend(g2)                # Combine colnames into one list\n",
    "train_fe_g2 = train_fe[g2_others]   # Extract features with group 2 traps into a dataframe\n",
    "train_fe_g2.shape"
   ]
  },
  {
   "cell_type": "code",
   "execution_count": 35,
   "id": "d7768a16",
   "metadata": {},
   "outputs": [
    {
     "data": {
      "text/plain": [
       "(8475, 89)"
      ]
     },
     "execution_count": 35,
     "metadata": {},
     "output_type": "execute_result"
    }
   ],
   "source": [
    "# Creating dataframe with Group 3 trap features\n",
    "\n",
    "g3 = ['trap_' + x for x in group_3] # Create colnames of traps features for only Group 2 traps\n",
    "g3_others = col_wo_trap.copy()      # Create colnames of all features EXCEPT traps\n",
    "g3_others.extend(g3)                # Combine colnames into one list\n",
    "train_fe_g3 = train_fe[g3_others]   # Extract features with group 3 traps into a dataframe\n",
    "train_fe_g3.shape"
   ]
  },
  {
   "cell_type": "code",
   "execution_count": 36,
   "id": "54148bde",
   "metadata": {},
   "outputs": [
    {
     "data": {
      "text/plain": [
       "Index(['date', 'species', 'latitude', 'longitude', 'trap', 'wnvpresent',\n",
       "       'culex_pipiens/restuans', 'culex_pipiens', 'culex_restuans', 'week_28',\n",
       "       'week_29', 'week_30', 'week_31', 'week_32', 'week_33', 'week_34',\n",
       "       'week_35', 'week_36', 'week_37', 'week_38', 'week_39', 'trap_T223',\n",
       "       'trap_T225', 'trap_T096', 'trap_T054', 'trap_T031', 'trap_T013',\n",
       "       'trap_T128', 'trap_T095', 'trap_T903', 'trap_T151', 'trap_T086',\n",
       "       'trap_T231', 'trap_T235', 'trap_T147', 'trap_T135', 'trap_T039',\n",
       "       'trap_T066', 'trap_T003', 'trap_T011', 'trap_T015', 'trap_T115',\n",
       "       'trap_T027', 'trap_T227', 'trap_T030', 'trap_T226', 'trap_T158',\n",
       "       'trap_T230', 'trap_T016', 'trap_T900', 'trap_T008', 'trap_T061',\n",
       "       'trap_T073', 'trap_T082', 'trap_T221', 'trap_T103', 'trap_T028',\n",
       "       'trap_T006', 'trap_T138', 'trap_T114', 'trap_T002', 'trap_T233',\n",
       "       'trap_T014', 'trap_T143', 'trap_T228', 'trap_T009', 'trap_T090'],\n",
       "      dtype='object')"
      ]
     },
     "execution_count": 36,
     "metadata": {},
     "output_type": "execute_result"
    }
   ],
   "source": [
    "train_fe_g1.columns"
   ]
  },
  {
   "cell_type": "code",
   "execution_count": 90,
   "id": "fa6d6ed6",
   "metadata": {},
   "outputs": [],
   "source": [
    "# Save groups with custom week, species and trap to csv\n",
    "\n",
    "train_fe_g1.to_csv('../data/train_fe_g1.csv', index=False)\n",
    "train_fe_g2.to_csv('../data/train_fe_g2.csv', index=False)\n",
    "train_fe_g3.to_csv('../data/train_fe_g3.csv', index=False)\n"
   ]
  },
  {
   "cell_type": "markdown",
   "id": "eb1d7885",
   "metadata": {},
   "source": [
    "# Merging Datasets for Modelling\n",
    "Merge New Features with Weather Lag Dataset"
   ]
  },
  {
   "cell_type": "code",
   "execution_count": 44,
   "id": "4d1b051d",
   "metadata": {},
   "outputs": [],
   "source": [
    "# import datasets\n",
    "\n",
    "lag7_p = pd.read_csv(r'../data/lag7_p.csv')\n",
    "lag14_p = pd.read_csv(r'../data/lag7_p.csv')\n",
    "lag21_p = pd.read_csv(r'../data/lag21_p.csv')\n",
    "\n",
    "\n",
    "train_g1 = pd.read_csv(r'../data/train_fe_g1.csv')\n",
    "train_g2 = pd.read_csv(r'../data/train_fe_g2.csv')\n",
    "train_g3 = pd.read_csv(r'../data/train_fe_g3.csv')"
   ]
  },
  {
   "cell_type": "code",
   "execution_count": 53,
   "id": "43f288c4",
   "metadata": {},
   "outputs": [
    {
     "name": "stdout",
     "output_type": "stream",
     "text": [
      "(8475, 104)\n",
      "(8475, 97)\n"
     ]
    }
   ],
   "source": [
    "# lag 7 days ALL Weather and Lat Long with Group 1 Features TOREMOVE\n",
    "lag7_p_allw = pd.read_csv(r'../data/weather_cleaned_lag7_allw.csv')\n",
    "\n",
    "\n",
    "lag7_g1_allw = train_g1.merge(lag7_p_allw, how='left',\n",
    "                             on=['date', 'species', 'latitude',\n",
    "                                 'longitude', 'wnvpresent', 'trap'],\n",
    "                   )\n",
    "print(lag7_g1_allw.shape)\n",
    "\n",
    "lag7_g1_allw = lag7_g1_allw.drop(columns=['trap', 'species', 'month', 'nummosquitos',\n",
    "                                        'wnvcount', 'station', 'codesum'], axis=1)\n",
    "print(lag7_g1_allw.shape)\n",
    "\n",
    "lag7_g1_allw.to_csv('../data/lag7_g1_allw.csv', index=False)\n"
   ]
  },
  {
   "cell_type": "code",
   "execution_count": 60,
   "id": "e1a558e5",
   "metadata": {},
   "outputs": [],
   "source": [
    "lag7_g1_pw = lag7_g1_allw.drop(['heat', 'cool' , 'tmax', 'tmin',\n",
    "                        'sunrise', 'wetbulb' , 'resultspeed',\n",
    "                       'vcfg', 'gr', 'fg+', 'mifg', 'sn', 'sq', 'fg', 'bcfg', 'dz'], axis=1)\n",
    "\n",
    "lag7_g1_pw.to_csv('../data/lag7_g1_pw.csv', index=False)"
   ]
  },
  {
   "cell_type": "code",
   "execution_count": 42,
   "id": "8ffb31e5",
   "metadata": {},
   "outputs": [
    {
     "name": "stdout",
     "output_type": "stream",
     "text": [
      "(8475, 104)\n",
      "(8475, 95)\n"
     ]
    }
   ],
   "source": [
    "# lag 7 weather NO PRUNE TOREMOVE\n",
    "lag7_p_old = pd.read_csv(r'../data/weather_cleaned_lag7_old.csv')\n",
    "\n",
    "\n",
    "# lag 7 days Weather with Group 1 Features\n",
    "\n",
    "lag7_g1_old = train_g1.merge(lag71_p_old, how='left',\n",
    "                             on=['date', 'species', 'latitude',\n",
    "                                 'longitude', 'wnvpresent', 'trap'],\n",
    "                   )\n",
    "print(lag7_g1_old.shape)\n",
    "\n",
    "lag7_g1_old = lag7_g1_old.drop(columns=['trap', 'species', 'month', \n",
    "                                        'latitude', 'longitude','nummosquitos',\n",
    "                                        'wnvcount', 'station', 'codesum'], axis=1)\n",
    "print(lag7_g1_old.shape)\n",
    "\n",
    "#lag7_g1_old.to_csv('../data/lag7_g1_old.csv', index=False)"
   ]
  },
  {
   "cell_type": "markdown",
   "id": "7a5266dc",
   "metadata": {},
   "source": [
    "**Lag 7 Weather Features**"
   ]
  },
  {
   "cell_type": "code",
   "execution_count": 4,
   "id": "7cf23484",
   "metadata": {},
   "outputs": [
    {
     "name": "stdout",
     "output_type": "stream",
     "text": [
      "(8475, 88)\n",
      "(8475, 79)\n"
     ]
    }
   ],
   "source": [
    "# lag 7 days Weather with Group 1 Features\n",
    "\n",
    "lag7_g1 = train_g1.merge(lag7_p, how='left',\n",
    "                    on=['date', 'species', 'latitude',\n",
    "                        'longitude', 'wnvpresent', 'trap'],\n",
    "                   )\n",
    "print(lag7_g1.shape)\n",
    "\n",
    "lag7_g1 = lag7_g1.drop(columns=['trap', 'species', 'month', \n",
    "                                'latitude', 'longitude','nummosquitos',\n",
    "                                'wnvcount', 'station', 'codesum'], axis=1)\n",
    "print(lag7_g1.shape)"
   ]
  },
  {
   "cell_type": "code",
   "execution_count": 43,
   "id": "6e4b34a6",
   "metadata": {},
   "outputs": [
    {
     "data": {
      "text/plain": [
       "(8475, 99)"
      ]
     },
     "execution_count": 43,
     "metadata": {},
     "output_type": "execute_result"
    }
   ],
   "source": [
    "# lag 7 days Weather with Group 2 Features\n",
    "\n",
    "lag7_g2 = train_g2.merge(lag7_p, how='left',\n",
    "                    on=['date', 'species', 'latitude',\n",
    "                        'longitude', 'wnvpresent', 'trap'],\n",
    "                   )\n",
    "print(lag7_g2.shape)\n",
    "\n",
    "lag7_g2 = lag7_g2.drop(columns=['trap', 'species', 'month', \n",
    "                                'latitude', 'longitude','nummosquitos',\n",
    "                                'wnvcount', 'station', 'codesum'], axis=1)\n",
    "print(lag7_g2.shape)"
   ]
  },
  {
   "cell_type": "code",
   "execution_count": 45,
   "id": "36711af0",
   "metadata": {},
   "outputs": [
    {
     "data": {
      "text/plain": [
       "(8475, 110)"
      ]
     },
     "execution_count": 45,
     "metadata": {},
     "output_type": "execute_result"
    }
   ],
   "source": [
    "# lag 7 days Weather with Group 3 Features\n",
    "\n",
    "lag7_g3 = train_g3.merge(lag7_p, how='left',\n",
    "                    on=['date', 'species', 'latitude',\n",
    "                        'longitude', 'wnvpresent', 'trap'],\n",
    "                   )\n",
    "print(lag7_g3.shape)\n",
    "\n",
    "lag7_g3 = lag7_g3.drop(columns=['trap', 'species', 'month', \n",
    "                                'latitude', 'longitude','nummosquitos',\n",
    "                                'wnvcount', 'station', 'codesum'], axis=1)\n",
    "print(lag7_g3.shape)"
   ]
  },
  {
   "cell_type": "markdown",
   "id": "7719722b",
   "metadata": {},
   "source": [
    "**Lag 14 Weather Features**"
   ]
  },
  {
   "cell_type": "code",
   "execution_count": 47,
   "id": "2067e310",
   "metadata": {},
   "outputs": [
    {
     "data": {
      "text/plain": [
       "(8475, 88)"
      ]
     },
     "execution_count": 47,
     "metadata": {},
     "output_type": "execute_result"
    }
   ],
   "source": [
    "# lag 14 days Weather with Group 1 Features\n",
    "\n",
    "lag14_g1 = train_g1.merge(lag14_p, how='left',\n",
    "                    on=['date', 'species', 'latitude',\n",
    "                        'longitude', 'wnvpresent', 'trap'],\n",
    "                   )\n",
    "print(lag14_g1.shape)\n",
    "\n",
    "lag14_g1 = lag14_g1.drop(columns=['trap', 'species', 'month', \n",
    "                                'latitude', 'longitude','nummosquitos',\n",
    "                                'wnvcount', 'station', 'codesum'], axis=1)\n",
    "print(lag14_g1.shape)"
   ]
  },
  {
   "cell_type": "code",
   "execution_count": 49,
   "id": "8e66386d",
   "metadata": {},
   "outputs": [
    {
     "data": {
      "text/plain": [
       "(8475, 99)"
      ]
     },
     "execution_count": 49,
     "metadata": {},
     "output_type": "execute_result"
    }
   ],
   "source": [
    "# lag 14 days Weather with Group 2 Features\n",
    "\n",
    "lag14_g2 = train_g2.merge(lag14_p, how='left',\n",
    "                    on=['date', 'species', 'latitude',\n",
    "                        'longitude', 'wnvpresent', 'trap'],\n",
    "                   )\n",
    "print(lag14_g2.shape)\n",
    "\n",
    "lag14_g2 = lag14_g2.drop(columns=['trap', 'species', 'month', \n",
    "                                'latitude', 'longitude','nummosquitos',\n",
    "                                'wnvcount', 'station', 'codesum'], axis=1)\n",
    "print(lag14_g2.shape)"
   ]
  },
  {
   "cell_type": "code",
   "execution_count": 51,
   "id": "b28e941b",
   "metadata": {},
   "outputs": [
    {
     "data": {
      "text/plain": [
       "(8475, 110)"
      ]
     },
     "execution_count": 51,
     "metadata": {},
     "output_type": "execute_result"
    }
   ],
   "source": [
    "# lag 14 days Weather with Group 3 Features\n",
    "\n",
    "lag14_g3 = train_g3.merge(lag14_p, how='left',\n",
    "                    on=['date', 'species', 'latitude',\n",
    "                        'longitude', 'wnvpresent', 'trap'],\n",
    "                   )\n",
    "print(lag14_g3.shape)\n",
    "\n",
    "lag14_g3 = lag14_g3.drop(columns=['trap', 'species', 'month', \n",
    "                                'latitude', 'longitude','nummosquitos',\n",
    "                                'wnvcount', 'station', 'codesum'], axis=1)\n",
    "print(lag14_g3.shape)"
   ]
  },
  {
   "cell_type": "markdown",
   "id": "aa93d01a",
   "metadata": {},
   "source": [
    "**Lag 21 Weather Features**"
   ]
  },
  {
   "cell_type": "code",
   "execution_count": 45,
   "id": "617c37e6",
   "metadata": {},
   "outputs": [
    {
     "name": "stdout",
     "output_type": "stream",
     "text": [
      "(8475, 88)\n",
      "(8475, 79)\n"
     ]
    }
   ],
   "source": [
    "# lag 21 days Weather with Group 1 Features\n",
    "\n",
    "lag21_g1 = train_g1.merge(lag21_p, how='left',\n",
    "                    on=['date', 'species', 'latitude',\n",
    "                        'longitude', 'wnvpresent', 'trap'],\n",
    "                   )\n",
    "print(lag21_g1.shape)\n",
    "\n",
    "lag21_g1 = lag21_g1.drop(columns=['trap', 'species', 'month', \n",
    "                                'latitude', 'longitude','nummosquitos',\n",
    "                                'wnvcount', 'station', 'codesum'], axis=1)\n",
    "print(lag21_g1.shape)"
   ]
  },
  {
   "cell_type": "code",
   "execution_count": 56,
   "id": "33bfe71d",
   "metadata": {},
   "outputs": [
    {
     "data": {
      "text/plain": [
       "(8475, 99)"
      ]
     },
     "execution_count": 56,
     "metadata": {},
     "output_type": "execute_result"
    }
   ],
   "source": [
    "# lag 21 days Weather with Group 2 Features\n",
    "\n",
    "lag21_g2 = train_g2.merge(lag21_p, how='left',\n",
    "                    on=['date', 'species', 'latitude',\n",
    "                        'longitude', 'wnvpresent', 'trap'],\n",
    "                   )\n",
    "print(lag21_g2.shape)\n",
    "\n",
    "lag21_g2 = lag21_g2.drop(columns=['trap', 'species', 'month', \n",
    "                                'latitude', 'longitude','nummosquitos',\n",
    "                                'wnvcount', 'station', 'codesum'], axis=1)\n",
    "print(lag21_g2.shape)"
   ]
  },
  {
   "cell_type": "code",
   "execution_count": 58,
   "id": "99ffa895",
   "metadata": {},
   "outputs": [
    {
     "data": {
      "text/plain": [
       "(8475, 110)"
      ]
     },
     "execution_count": 58,
     "metadata": {},
     "output_type": "execute_result"
    }
   ],
   "source": [
    "# lag 21 days Weather with Group 3 Features\n",
    "\n",
    "lag21_g3 = train_g3.merge(lag21_p, how='left',\n",
    "                    on=['date', 'species', 'latitude',\n",
    "                        'longitude', 'wnvpresent', 'trap'],\n",
    "                   )\n",
    "print(lag21_g3.shape)\n",
    "\n",
    "lag21_g3 = lag21_g3.drop(columns=['trap', 'species', 'month', \n",
    "                                'latitude', 'longitude','nummosquitos',\n",
    "                                'wnvcount', 'station', 'codesum'], axis=1)\n",
    "print(lag21_g3.shape)"
   ]
  },
  {
   "cell_type": "markdown",
   "id": "f70b0d55",
   "metadata": {},
   "source": [
    "# Model Feature Selection\n",
    "To find the best few combinations of weather lag and feature groups."
   ]
  },
  {
   "cell_type": "code",
   "execution_count": 67,
   "id": "67919520",
   "metadata": {},
   "outputs": [],
   "source": [
    "def rf_lag_group(df, lag_num, grp_num, concat_df=None):\n",
    "    \n",
    "    df.drop(columns=['id'], axis=1, inplace=True)\n",
    "    df = df.dropna()\n",
    "    \n",
    "    X = df.drop(columns=['wnvpresent', 'date'], axis=1)\n",
    "    y = df['wnvpresent']\n",
    "    \n",
    "    X_train, X_test, y_train, y_test = train_test_split(\n",
    "        X,\n",
    "        y,\n",
    "        stratify=y,\n",
    "        random_state=42\n",
    "    )\n",
    "    \n",
    "    ss = StandardScaler()\n",
    "    \n",
    "    X_train = ss.fit_transform(X_train)\n",
    "    X_test = ss.transform(X_test)\n",
    "    \n",
    "    \n",
    "    rf =  RandomForestClassifier(\n",
    "        n_estimators=1500,\n",
    "        ccp_alpha=0,\n",
    "        max_depth=10,\n",
    "        min_samples_split=5,\n",
    "        min_samples_leaf=5,\n",
    "        random_state=42,\n",
    "        class_weight='balanced_subsample')\n",
    "    \n",
    "    train_acc = cross_val_score(\n",
    "        rf,\n",
    "        X_train,\n",
    "        y_train,\n",
    "        cv=5\n",
    "    ).mean()\n",
    "    \n",
    "    test_acc = cross_val_score(\n",
    "        rf,\n",
    "        X_test,\n",
    "        y_test,\n",
    "        cv=5\n",
    "    ).mean()\n",
    "    \n",
    "    rf.fit(X_train, y_train)\n",
    "    \n",
    "    forest_predictions = rf.predict(X_test)\n",
    "    \n",
    "    tn, fp, fn, tp = confusion_matrix(y_test, forest_predictions).ravel()\n",
    "    \n",
    "    sensitivity = recall_score(y_test, forest_predictions)\n",
    "\n",
    "    specificity = (tn / (tn + fp))\n",
    "    \n",
    "    roc_auc = roc_auc_score(y_test, rf.predict_proba(X_test)[:,1])\n",
    "    \n",
    "    weather_dict = {\n",
    "        'feature_grp': grp_num,\n",
    "        'weather_lag': lag_num, \n",
    "        'train_acc': [round(train_acc * 100, 2)], \n",
    "        'test_acc': [round(test_acc * 100, 2)], \n",
    "        'sensitivity': [round(sensitivity * 100, 2)], \n",
    "        'specificity': [round(specificity * 100, 2)],\n",
    "        'roc_auc_score': [round(roc_auc * 100, 2)]\n",
    "    }\n",
    "    \n",
    "    new_df = pd.DataFrame(weather_dict)\n",
    "    \n",
    "    if isinstance(concat_df, pd.DataFrame) == True:\n",
    "        final_df = pd.concat(\n",
    "            objs=[concat_df, new_df],\n",
    "            axis=0\n",
    "        )\n",
    "        final_df.reset_index(drop=True, inplace=True)\n",
    "        return final_df\n",
    "        \n",
    "    else:    \n",
    "        return new_df\n",
    "    "
   ]
  },
  {
   "cell_type": "code",
   "execution_count": 68,
   "id": "6e17c37f",
   "metadata": {},
   "outputs": [],
   "source": [
    "lag_group_train = rf_lag_group(lag7_g1, 7, grp_num='g1', concat_df=None)\n",
    "lag_group_train = rf_lag_group(lag7_g2, 7, grp_num='g2', concat_df=lag_group_train)\n",
    "lag_group_train = rf_lag_group(lag7_g3, 7, grp_num='g3', concat_df=lag_group_train)\n",
    "lag_group_train = rf_lag_group(lag14_g1, 14, grp_num='g1', concat_df=lag_group_train)\n",
    "lag_group_train = rf_lag_group(lag14_g2, 14, grp_num='g2', concat_df=lag_group_train)\n",
    "lag_group_train = rf_lag_group(lag14_g3, 14, grp_num='g3', concat_df=lag_group_train)\n",
    "lag_group_train = rf_lag_group(lag21_g1, 21, grp_num='g1', concat_df=lag_group_train)\n",
    "lag_group_train = rf_lag_group(lag21_g2, 21, grp_num='g2', concat_df=lag_group_train)\n",
    "lag_group_train = rf_lag_group(lag21_g3, 21, grp_num='g3', concat_df=lag_group_train)\n"
   ]
  },
  {
   "cell_type": "code",
   "execution_count": 69,
   "id": "92219f53",
   "metadata": {},
   "outputs": [
    {
     "data": {
      "text/html": [
       "<div>\n",
       "<style scoped>\n",
       "    .dataframe tbody tr th:only-of-type {\n",
       "        vertical-align: middle;\n",
       "    }\n",
       "\n",
       "    .dataframe tbody tr th {\n",
       "        vertical-align: top;\n",
       "    }\n",
       "\n",
       "    .dataframe thead th {\n",
       "        text-align: right;\n",
       "    }\n",
       "</style>\n",
       "<table border=\"1\" class=\"dataframe\">\n",
       "  <thead>\n",
       "    <tr style=\"text-align: right;\">\n",
       "      <th></th>\n",
       "      <th>feature_grp</th>\n",
       "      <th>weather_lag</th>\n",
       "      <th>train_acc</th>\n",
       "      <th>test_acc</th>\n",
       "      <th>sensitivity</th>\n",
       "      <th>specificity</th>\n",
       "      <th>roc_auc_score</th>\n",
       "    </tr>\n",
       "  </thead>\n",
       "  <tbody>\n",
       "    <tr>\n",
       "      <th>0</th>\n",
       "      <td>g1</td>\n",
       "      <td>7</td>\n",
       "      <td>77.09</td>\n",
       "      <td>83.25</td>\n",
       "      <td>74.56</td>\n",
       "      <td>75.06</td>\n",
       "      <td>82.75</td>\n",
       "    </tr>\n",
       "    <tr>\n",
       "      <th>1</th>\n",
       "      <td>g2</td>\n",
       "      <td>7</td>\n",
       "      <td>77.00</td>\n",
       "      <td>83.25</td>\n",
       "      <td>74.56</td>\n",
       "      <td>74.76</td>\n",
       "      <td>82.73</td>\n",
       "    </tr>\n",
       "    <tr>\n",
       "      <th>2</th>\n",
       "      <td>g3</td>\n",
       "      <td>7</td>\n",
       "      <td>76.68</td>\n",
       "      <td>82.96</td>\n",
       "      <td>74.56</td>\n",
       "      <td>74.66</td>\n",
       "      <td>82.64</td>\n",
       "    </tr>\n",
       "    <tr>\n",
       "      <th>3</th>\n",
       "      <td>g1</td>\n",
       "      <td>14</td>\n",
       "      <td>77.09</td>\n",
       "      <td>83.25</td>\n",
       "      <td>74.56</td>\n",
       "      <td>75.06</td>\n",
       "      <td>82.75</td>\n",
       "    </tr>\n",
       "    <tr>\n",
       "      <th>4</th>\n",
       "      <td>g2</td>\n",
       "      <td>14</td>\n",
       "      <td>77.00</td>\n",
       "      <td>83.25</td>\n",
       "      <td>74.56</td>\n",
       "      <td>74.76</td>\n",
       "      <td>82.73</td>\n",
       "    </tr>\n",
       "    <tr>\n",
       "      <th>5</th>\n",
       "      <td>g3</td>\n",
       "      <td>14</td>\n",
       "      <td>76.68</td>\n",
       "      <td>82.96</td>\n",
       "      <td>74.56</td>\n",
       "      <td>74.66</td>\n",
       "      <td>82.64</td>\n",
       "    </tr>\n",
       "    <tr>\n",
       "      <th>6</th>\n",
       "      <td>g1</td>\n",
       "      <td>21</td>\n",
       "      <td>76.81</td>\n",
       "      <td>81.93</td>\n",
       "      <td>76.32</td>\n",
       "      <td>75.11</td>\n",
       "      <td>82.77</td>\n",
       "    </tr>\n",
       "    <tr>\n",
       "      <th>7</th>\n",
       "      <td>g2</td>\n",
       "      <td>21</td>\n",
       "      <td>76.73</td>\n",
       "      <td>82.07</td>\n",
       "      <td>77.19</td>\n",
       "      <td>74.56</td>\n",
       "      <td>82.78</td>\n",
       "    </tr>\n",
       "    <tr>\n",
       "      <th>8</th>\n",
       "      <td>g3</td>\n",
       "      <td>21</td>\n",
       "      <td>76.57</td>\n",
       "      <td>81.69</td>\n",
       "      <td>77.19</td>\n",
       "      <td>74.26</td>\n",
       "      <td>82.59</td>\n",
       "    </tr>\n",
       "  </tbody>\n",
       "</table>\n",
       "</div>"
      ],
      "text/plain": [
       "  feature_grp  weather_lag  train_acc  test_acc  sensitivity  specificity  \\\n",
       "0          g1            7      77.09     83.25        74.56        75.06   \n",
       "1          g2            7      77.00     83.25        74.56        74.76   \n",
       "2          g3            7      76.68     82.96        74.56        74.66   \n",
       "3          g1           14      77.09     83.25        74.56        75.06   \n",
       "4          g2           14      77.00     83.25        74.56        74.76   \n",
       "5          g3           14      76.68     82.96        74.56        74.66   \n",
       "6          g1           21      76.81     81.93        76.32        75.11   \n",
       "7          g2           21      76.73     82.07        77.19        74.56   \n",
       "8          g3           21      76.57     81.69        77.19        74.26   \n",
       "\n",
       "   roc_auc_score  \n",
       "0          82.75  \n",
       "1          82.73  \n",
       "2          82.64  \n",
       "3          82.75  \n",
       "4          82.73  \n",
       "5          82.64  \n",
       "6          82.77  \n",
       "7          82.78  \n",
       "8          82.59  "
      ]
     },
     "execution_count": 69,
     "metadata": {},
     "output_type": "execute_result"
    }
   ],
   "source": [
    "lag_group_train"
   ]
  },
  {
   "cell_type": "code",
   "execution_count": 106,
   "id": "1c70ab49",
   "metadata": {},
   "outputs": [
    {
     "data": {
      "text/html": [
       "<div>\n",
       "<style scoped>\n",
       "    .dataframe tbody tr th:only-of-type {\n",
       "        vertical-align: middle;\n",
       "    }\n",
       "\n",
       "    .dataframe tbody tr th {\n",
       "        vertical-align: top;\n",
       "    }\n",
       "\n",
       "    .dataframe thead th {\n",
       "        text-align: right;\n",
       "    }\n",
       "</style>\n",
       "<table border=\"1\" class=\"dataframe\">\n",
       "  <thead>\n",
       "    <tr style=\"text-align: right;\">\n",
       "      <th></th>\n",
       "      <th>feature_grp</th>\n",
       "      <th>weather_lag</th>\n",
       "      <th>train_acc</th>\n",
       "      <th>test_acc</th>\n",
       "      <th>sensitivity</th>\n",
       "      <th>specificity</th>\n",
       "      <th>roc_auc_score</th>\n",
       "    </tr>\n",
       "  </thead>\n",
       "  <tbody>\n",
       "    <tr>\n",
       "      <th>0</th>\n",
       "      <td>g1</td>\n",
       "      <td>7</td>\n",
       "      <td>75.82</td>\n",
       "      <td>81.60</td>\n",
       "      <td>75.44</td>\n",
       "      <td>72.02</td>\n",
       "      <td>81.46</td>\n",
       "    </tr>\n",
       "    <tr>\n",
       "      <th>1</th>\n",
       "      <td>g2</td>\n",
       "      <td>7</td>\n",
       "      <td>75.96</td>\n",
       "      <td>81.50</td>\n",
       "      <td>75.44</td>\n",
       "      <td>71.62</td>\n",
       "      <td>81.54</td>\n",
       "    </tr>\n",
       "    <tr>\n",
       "      <th>2</th>\n",
       "      <td>g3</td>\n",
       "      <td>7</td>\n",
       "      <td>75.76</td>\n",
       "      <td>81.17</td>\n",
       "      <td>75.44</td>\n",
       "      <td>71.82</td>\n",
       "      <td>81.48</td>\n",
       "    </tr>\n",
       "    <tr>\n",
       "      <th>3</th>\n",
       "      <td>g1</td>\n",
       "      <td>21</td>\n",
       "      <td>78.16</td>\n",
       "      <td>80.27</td>\n",
       "      <td>73.68</td>\n",
       "      <td>75.16</td>\n",
       "      <td>82.01</td>\n",
       "    </tr>\n",
       "    <tr>\n",
       "      <th>4</th>\n",
       "      <td>g2</td>\n",
       "      <td>21</td>\n",
       "      <td>78.10</td>\n",
       "      <td>80.46</td>\n",
       "      <td>71.93</td>\n",
       "      <td>75.31</td>\n",
       "      <td>81.95</td>\n",
       "    </tr>\n",
       "    <tr>\n",
       "      <th>5</th>\n",
       "      <td>g3</td>\n",
       "      <td>21</td>\n",
       "      <td>77.72</td>\n",
       "      <td>79.71</td>\n",
       "      <td>73.68</td>\n",
       "      <td>75.11</td>\n",
       "      <td>81.73</td>\n",
       "    </tr>\n",
       "  </tbody>\n",
       "</table>\n",
       "</div>"
      ],
      "text/plain": [
       "  feature_grp  weather_lag  train_acc  test_acc  sensitivity  specificity  \\\n",
       "0          g1            7      75.82     81.60        75.44        72.02   \n",
       "1          g2            7      75.96     81.50        75.44        71.62   \n",
       "2          g3            7      75.76     81.17        75.44        71.82   \n",
       "3          g1           21      78.16     80.27        73.68        75.16   \n",
       "4          g2           21      78.10     80.46        71.93        75.31   \n",
       "5          g3           21      77.72     79.71        73.68        75.11   \n",
       "\n",
       "   roc_auc_score  \n",
       "0          81.46  \n",
       "1          81.54  \n",
       "2          81.48  \n",
       "3          82.01  \n",
       "4          81.95  \n",
       "5          81.73  "
      ]
     },
     "execution_count": 106,
     "metadata": {},
     "output_type": "execute_result"
    }
   ],
   "source": [
    "lag_group_train # this calculation was performed with stratify year and wnvpresent"
   ]
  },
  {
   "cell_type": "code",
   "execution_count": null,
   "id": "9227d88a",
   "metadata": {},
   "outputs": [],
   "source": [
    "lag_group_train"
   ]
  },
  {
   "cell_type": "code",
   "execution_count": null,
   "id": "d466fd37",
   "metadata": {},
   "outputs": [],
   "source": []
  },
  {
   "cell_type": "code",
   "execution_count": 7,
   "id": "8e9b1c65",
   "metadata": {},
   "outputs": [
    {
     "data": {
      "text/html": [
       "<div>\n",
       "<style scoped>\n",
       "    .dataframe tbody tr th:only-of-type {\n",
       "        vertical-align: middle;\n",
       "    }\n",
       "\n",
       "    .dataframe tbody tr th {\n",
       "        vertical-align: top;\n",
       "    }\n",
       "\n",
       "    .dataframe thead th {\n",
       "        text-align: right;\n",
       "    }\n",
       "</style>\n",
       "<table border=\"1\" class=\"dataframe\">\n",
       "  <thead>\n",
       "    <tr style=\"text-align: right;\">\n",
       "      <th></th>\n",
       "      <th>trap_T003</th>\n",
       "    </tr>\n",
       "  </thead>\n",
       "  <tbody>\n",
       "    <tr>\n",
       "      <th>0</th>\n",
       "      <td>0</td>\n",
       "    </tr>\n",
       "    <tr>\n",
       "      <th>1</th>\n",
       "      <td>0</td>\n",
       "    </tr>\n",
       "    <tr>\n",
       "      <th>2</th>\n",
       "      <td>0</td>\n",
       "    </tr>\n",
       "    <tr>\n",
       "      <th>3</th>\n",
       "      <td>0</td>\n",
       "    </tr>\n",
       "    <tr>\n",
       "      <th>4</th>\n",
       "      <td>0</td>\n",
       "    </tr>\n",
       "    <tr>\n",
       "      <th>...</th>\n",
       "      <td>...</td>\n",
       "    </tr>\n",
       "    <tr>\n",
       "      <th>8470</th>\n",
       "      <td>0</td>\n",
       "    </tr>\n",
       "    <tr>\n",
       "      <th>8471</th>\n",
       "      <td>0</td>\n",
       "    </tr>\n",
       "    <tr>\n",
       "      <th>8472</th>\n",
       "      <td>0</td>\n",
       "    </tr>\n",
       "    <tr>\n",
       "      <th>8473</th>\n",
       "      <td>0</td>\n",
       "    </tr>\n",
       "    <tr>\n",
       "      <th>8474</th>\n",
       "      <td>0</td>\n",
       "    </tr>\n",
       "  </tbody>\n",
       "</table>\n",
       "<p>8475 rows × 1 columns</p>\n",
       "</div>"
      ],
      "text/plain": [
       "      trap_T003\n",
       "0             0\n",
       "1             0\n",
       "2             0\n",
       "3             0\n",
       "4             0\n",
       "...         ...\n",
       "8470          0\n",
       "8471          0\n",
       "8472          0\n",
       "8473          0\n",
       "8474          0\n",
       "\n",
       "[8475 rows x 1 columns]"
      ]
     },
     "execution_count": 7,
     "metadata": {},
     "output_type": "execute_result"
    }
   ],
   "source": [
    "lag7_g1[['trap_T003']]"
   ]
  },
  {
   "cell_type": "code",
   "execution_count": 46,
   "id": "387f6eb8",
   "metadata": {},
   "outputs": [],
   "source": [
    "# save to csv\n",
    "\n",
    "#lag7_g1.to_csv('../data/lag7_g1.csv', index=False)\n",
    "#lag7_g2.to_csv('../data/lag7_g2.csv', index=False)\n",
    "#lag7_g3.to_csv('../data/lag7_g3.csv', index=False)\n",
    "\n",
    "#lag7_g1.to_csv('../data/lag14_g1.csv', index=False)\n",
    "#lag14_g2.to_csv('../data/lag14_g2.csv', index=False)\n",
    "#lag14_g3.to_csv('../data/lag14_g3.csv', index=False)\n",
    "\n",
    "lag21_g1.to_csv('../data/lag21_g1.csv', index=False)\n",
    "#lag21_g2.to_csv('../data/lag21_g2.csv', index=False)\n",
    "#lag21_g3.to_csv('../data/lag21_g3.csv', index=False)"
   ]
  },
  {
   "cell_type": "markdown",
   "id": "1568d141",
   "metadata": {},
   "source": [
    "# Merging Datasets for Kaggle Test"
   ]
  },
  {
   "cell_type": "code",
   "execution_count": 50,
   "id": "d1eba0d6",
   "metadata": {},
   "outputs": [
    {
     "name": "stdout",
     "output_type": "stream",
     "text": [
      "(116293, 41)\n",
      "Index(['date', 'species', 'latitude', 'longitude', 'trap', 'id', 'station',\n",
      "       'tmax', 'tmin', 'tavg', 'dewpoint', 'wetbulb', 'heat', 'cool',\n",
      "       'codesum', 'preciptotal', 'stnpressure', 'sealevel', 'resultspeed',\n",
      "       'resultdir', 'avgspeed', 'month', 'sunrise', 'sunset', 'bcfg', 'br',\n",
      "       'dz', 'fg', 'fg+', 'fu', 'hz', 'mifg', 'ra', 'sn', 'sq', 'ts', 'tsra',\n",
      "       'vcts', 'gr', 'vcfg', 'sprayed'],\n",
      "      dtype='object')\n"
     ]
    }
   ],
   "source": [
    "# read in train data\n",
    "test_merged = pd.read_csv('../data/merged_test.csv')\n",
    "\n",
    "print(test_merged.shape)\n",
    "print(test_merged.columns)"
   ]
  },
  {
   "cell_type": "code",
   "execution_count": null,
   "id": "14ef1726",
   "metadata": {},
   "outputs": [],
   "source": []
  },
  {
   "cell_type": "code",
   "execution_count": 10,
   "id": "b120b9c6",
   "metadata": {},
   "outputs": [
    {
     "name": "stdout",
     "output_type": "stream",
     "text": [
      "<class 'pandas.core.frame.DataFrame'>\n",
      "RangeIndex: 116293 entries, 0 to 116292\n",
      "Data columns (total 6 columns):\n",
      " #   Column     Non-Null Count   Dtype  \n",
      "---  ------     --------------   -----  \n",
      " 0   date       116293 non-null  object \n",
      " 1   species    116293 non-null  object \n",
      " 2   latitude   116293 non-null  float64\n",
      " 3   longitude  116293 non-null  float64\n",
      " 4   trap       116293 non-null  object \n",
      " 5   id         116293 non-null  float64\n",
      "dtypes: float64(3), object(3)\n",
      "memory usage: 5.3+ MB\n"
     ]
    }
   ],
   "source": [
    "# extract columns required for enginnering\n",
    "test_fe = test_merged[['date', 'species', 'latitude',\n",
    "                         'longitude', 'trap', 'id']].copy()\n",
    "\n",
    "test_fe.info()"
   ]
  },
  {
   "cell_type": "code",
   "execution_count": 57,
   "id": "3cc93313",
   "metadata": {},
   "outputs": [],
   "source": [
    "# Create function to engineer features for Kaggle test dataset\n",
    "\n",
    "def df_feature_engineering(test_df, fe_group, weather_lag):\n",
    "    \n",
    "    # Dummy coding for species\n",
    "    test_df['culex_pipiens/restuans'] = test_df['species'].map(lambda x: 1 if x == 'CULEX PIPIENS/RESTUANS' else 0)\n",
    "    test_df['culex_pipiens'] = test_df['species'].map(lambda x: 1 if x == 'CULEX PIPIENS' else 0)\n",
    "    test_df['culex_restuans'] = test_df['species'].map(lambda x: 1 if x == 'CULEX RESTUANS' else 0)\n",
    "    \n",
    "   # create week variable\n",
    "    test_df['date_1'] = test_df['date'].copy()\n",
    "    test_df['date_1'] = pd.to_datetime(test_df['date_1'])\n",
    "    test_df['week'] = test_df['date_1'].dt.isocalendar().week\n",
    "\n",
    "    test_df.drop(columns=['date_1'], axis=1, inplace=True)\n",
    "  \n",
    "    # select weeks with identified to be important\n",
    "    test_df = pd.get_dummies(test_df, columns=['week'], drop_first=False)\n",
    "\n",
    "    test_df.drop(columns=['week_22', 'week_23', 'week_24', 'week_25', \n",
    "                            'week_26', 'week_27', 'week_40'],\n",
    "                  axis=1,\n",
    "                  inplace=True)\n",
    "\n",
    "    # extract col_names\n",
    "\n",
    "    col_wo_trap = list(test_df.columns)\n",
    "    col_wo_trap\n",
    "    \n",
    "    # Create dataframe with ALL trap dummies\n",
    "\n",
    "    test_df['trap_d'] = test_df['trap']                         # duplicate trap col as\n",
    "                                                                  # we need to merge on it later\n",
    "    test_df = pd.get_dummies(test_df, columns=['trap'])         # get dummies\n",
    "    test_df.rename(columns = {'trap_d':'trap'}, inplace = True)  # rename to trap\n",
    "    \n",
    "    \n",
    "    g = ['trap_' + x for x in fe_group]\n",
    "    all_cols = col_wo_trap.copy()\n",
    "    all_cols.extend(g)\n",
    "    test_df_g = test_df[all_cols]\n",
    "    \n",
    "    test_g_weather = test_df_g.merge(weather_lag, how='left',\n",
    "                                 on=['id', 'date', 'species', 'latitude',\n",
    "                                     'longitude', 'trap'],\n",
    "                                )\n",
    "    print(test_g_weather.shape)\n",
    "    test_g_weather.drop(columns=['date', 'trap', 'species', 'month', 'nummosquitos',\n",
    "                             'wnvcount', 'station', 'codesum'], axis=1, inplace=True)\n",
    "    print(test_g_weather.shape)\n",
    "\n",
    "    return test_g_weather"
   ]
  },
  {
   "cell_type": "markdown",
   "id": "3e7ece78",
   "metadata": {},
   "source": [
    "**Create Kaggle test sets**"
   ]
  },
  {
   "cell_type": "code",
   "execution_count": 33,
   "id": "5fda03e5",
   "metadata": {},
   "outputs": [
    {
     "name": "stdout",
     "output_type": "stream",
     "text": [
      "(116293, 88)\n",
      "(116293, 78)\n"
     ]
    }
   ],
   "source": [
    "# lag7 group 1\n",
    "test_lag7_g1 = df_feature_engineering(test_fe, group_1, lag7_p)"
   ]
  },
  {
   "cell_type": "code",
   "execution_count": 77,
   "id": "86243f8b",
   "metadata": {},
   "outputs": [
    {
     "name": "stdout",
     "output_type": "stream",
     "text": [
      "(116293, 99)\n",
      "(116293, 89)\n"
     ]
    }
   ],
   "source": [
    "# lag7 group 2\n",
    "test_lag7_g2 = df_feature_engineering(test_fe, group_2, lag7_p)"
   ]
  },
  {
   "cell_type": "code",
   "execution_count": 78,
   "id": "3d58453f",
   "metadata": {},
   "outputs": [
    {
     "name": "stdout",
     "output_type": "stream",
     "text": [
      "(116293, 110)\n",
      "(116293, 100)\n"
     ]
    }
   ],
   "source": [
    "# lag7 group 3\n",
    "test_lag7_g3 = df_feature_engineering(test_fe, group_3, lag7_p)"
   ]
  },
  {
   "cell_type": "code",
   "execution_count": 79,
   "id": "b8a8e6c7",
   "metadata": {},
   "outputs": [
    {
     "name": "stdout",
     "output_type": "stream",
     "text": [
      "(116293, 99)\n",
      "(116293, 89)\n"
     ]
    }
   ],
   "source": [
    "# lag14 group 2\n",
    "test_lag14_g2 = df_feature_engineering(test_fe, group_2, lag14_p)"
   ]
  },
  {
   "cell_type": "code",
   "execution_count": 80,
   "id": "5a3eecbf",
   "metadata": {},
   "outputs": [
    {
     "name": "stdout",
     "output_type": "stream",
     "text": [
      "(116293, 110)\n",
      "(116293, 100)\n"
     ]
    }
   ],
   "source": [
    "# lag14 group 3\n",
    "test_lag14_g3 = df_feature_engineering(test_fe, group_3, lag14_p)"
   ]
  },
  {
   "cell_type": "code",
   "execution_count": 279,
   "id": "1281d47f",
   "metadata": {},
   "outputs": [
    {
     "name": "stdout",
     "output_type": "stream",
     "text": [
      "(116293, 99)\n",
      "(116293, 89)\n"
     ]
    }
   ],
   "source": [
    "# lag21 group 2\n",
    "test_lag21_g2 = df_feature_engineering(test_fe, group_2, lag21_p)"
   ]
  },
  {
   "cell_type": "code",
   "execution_count": 280,
   "id": "d09b4e89",
   "metadata": {},
   "outputs": [
    {
     "name": "stdout",
     "output_type": "stream",
     "text": [
      "(116293, 110)\n",
      "(116293, 100)\n"
     ]
    }
   ],
   "source": [
    "# lag21 group 3\n",
    "test_lag21_g3 = df_feature_engineering(test_fe, group_3, lag21_p)"
   ]
  },
  {
   "cell_type": "markdown",
   "id": "e1dceb64",
   "metadata": {},
   "source": [
    "**Save to csv**"
   ]
  },
  {
   "cell_type": "code",
   "execution_count": 81,
   "id": "fc522c3e",
   "metadata": {},
   "outputs": [],
   "source": [
    "test_lag7_g1.to_csv('../data/test_lag7_g1.csv', index=False)\n",
    "test_lag7_g2.to_csv('../data/test_lag7_g2.csv', index=False)\n",
    "test_lag7_g3.to_csv('../data/test_lag7_g3.csv', index=False)\n",
    "\n",
    "test_lag14_g2.to_csv('../data/test_lag14_g2.csv', index=False)\n",
    "test_lag14_g3.to_csv('../data/test_lag14_g3.csv', index=False)\n",
    "\n",
    "\n",
    "#test_lag21_g2.to_csv('../data/test_lag21_g2.csv', index=False)\n",
    "#test_lag21_g3.to_csv('../data/test_lag21_g3.csv', index=False)"
   ]
  },
  {
   "cell_type": "code",
   "execution_count": 59,
   "id": "2d564d52",
   "metadata": {},
   "outputs": [
    {
     "name": "stdout",
     "output_type": "stream",
     "text": [
      "(116293, 104)\n",
      "(116293, 96)\n"
     ]
    }
   ],
   "source": [
    "# all weather TOREMOVE\n",
    "\n",
    "test_lag7_g1_allw = df_feature_engineering(test_fe, group_1, lag7_p_allw)\n",
    "test_lag7_g1_allw.to_csv('../data/test_lag7_g1_allw.csv', index=False)\n"
   ]
  },
  {
   "cell_type": "code",
   "execution_count": 61,
   "id": "bc28a6a6",
   "metadata": {},
   "outputs": [],
   "source": [
    "# prune weather with lat long\n",
    "test_lag7_g1_pw = test_lag7_g1_allw.drop(['heat', 'cool' , 'tmax', 'tmin',\n",
    "                        'sunrise', 'wetbulb' , 'resultspeed',\n",
    "                       'vcfg', 'gr', 'fg+', 'mifg', 'sn', 'sq', 'fg', 'bcfg', 'dz'], axis=1)\n",
    "\n",
    "test_lag7_g1_pw.to_csv('../data/test_lag7_g1_pw.csv', index=False)"
   ]
  },
  {
   "cell_type": "code",
   "execution_count": 62,
   "id": "ee242d4a",
   "metadata": {},
   "outputs": [
    {
     "data": {
      "text/plain": [
       "(116293, 80)"
      ]
     },
     "execution_count": 62,
     "metadata": {},
     "output_type": "execute_result"
    }
   ],
   "source": [
    "test_lag7_g1_pw.shape"
   ]
  },
  {
   "cell_type": "markdown",
   "id": "0fa18e0b",
   "metadata": {},
   "source": [
    "# Archive may delete"
   ]
  },
  {
   "cell_type": "code",
   "execution_count": 19,
   "id": "83c85008",
   "metadata": {},
   "outputs": [
    {
     "ename": "NameError",
     "evalue": "name 'train' is not defined",
     "output_type": "error",
     "traceback": [
      "\u001b[0;31m---------------------------------------------------------------------------\u001b[0m",
      "\u001b[0;31mNameError\u001b[0m                                 Traceback (most recent call last)",
      "\u001b[0;32m/var/folders/0t/nymtt02n1zqdc1ksr0n857bc0000gn/T/ipykernel_1434/3166623968.py\u001b[0m in \u001b[0;36m<module>\u001b[0;34m\u001b[0m\n\u001b[1;32m      2\u001b[0m \u001b[0;34m\u001b[0m\u001b[0m\n\u001b[1;32m      3\u001b[0m \u001b[0mtrain_loc\u001b[0m \u001b[0;34m=\u001b[0m \u001b[0;34m[\u001b[0m\u001b[0;34m]\u001b[0m\u001b[0;34m\u001b[0m\u001b[0;34m\u001b[0m\u001b[0m\n\u001b[0;32m----> 4\u001b[0;31m \u001b[0;32mfor\u001b[0m \u001b[0mx\u001b[0m\u001b[0;34m,\u001b[0m \u001b[0my\u001b[0m \u001b[0;32min\u001b[0m \u001b[0mzip\u001b[0m\u001b[0;34m(\u001b[0m\u001b[0mtrain\u001b[0m\u001b[0;34m[\u001b[0m\u001b[0;34m'longitude'\u001b[0m\u001b[0;34m]\u001b[0m\u001b[0;34m,\u001b[0m \u001b[0mtrain\u001b[0m\u001b[0;34m[\u001b[0m\u001b[0;34m'latitude'\u001b[0m\u001b[0;34m]\u001b[0m\u001b[0;34m)\u001b[0m\u001b[0;34m:\u001b[0m\u001b[0;34m\u001b[0m\u001b[0;34m\u001b[0m\u001b[0m\n\u001b[0m\u001b[1;32m      5\u001b[0m     \u001b[0;32mif\u001b[0m \u001b[0;34m[\u001b[0m\u001b[0mx\u001b[0m\u001b[0;34m,\u001b[0m \u001b[0my\u001b[0m\u001b[0;34m]\u001b[0m \u001b[0;32mnot\u001b[0m \u001b[0;32min\u001b[0m \u001b[0mtrain_loc\u001b[0m\u001b[0;34m:\u001b[0m\u001b[0;34m\u001b[0m\u001b[0;34m\u001b[0m\u001b[0m\n\u001b[1;32m      6\u001b[0m         \u001b[0mtrain_loc\u001b[0m\u001b[0;34m.\u001b[0m\u001b[0mappend\u001b[0m\u001b[0;34m(\u001b[0m\u001b[0;34m[\u001b[0m\u001b[0mx\u001b[0m\u001b[0;34m,\u001b[0m \u001b[0my\u001b[0m\u001b[0;34m]\u001b[0m\u001b[0;34m)\u001b[0m\u001b[0;34m\u001b[0m\u001b[0;34m\u001b[0m\u001b[0m\n",
      "\u001b[0;31mNameError\u001b[0m: name 'train' is not defined"
     ]
    }
   ],
   "source": [
    "# To check if all the traps in test are also in train set\n",
    "\n",
    "train_loc = []\n",
    "for x, y in zip(train['longitude'], train['latitude']):\n",
    "    if [x, y] not in train_loc:\n",
    "        train_loc.append([x, y])\n",
    "    \n",
    "test_loc = []\n",
    "for x, y in zip(test['longitude'], test['latitude']):\n",
    "    if [x, y] not in test_loc:\n",
    "        test_loc.append([x, y])\n",
    "        \n",
    "ex_loc = []\n",
    "for i in test_loc:\n",
    "    if i not in train_loc:\n",
    "        ex_loc.append(i)"
   ]
  },
  {
   "cell_type": "code",
   "execution_count": null,
   "id": "4a1dee85",
   "metadata": {},
   "outputs": [],
   "source": [
    "train_merged.groupby(['latitude', 'longitude'])['nummosquitos'].sum()"
   ]
  },
  {
   "cell_type": "code",
   "execution_count": null,
   "id": "1c29c690",
   "metadata": {},
   "outputs": [],
   "source": [
    "train_merged.groupby(['trap'])['nummosquitos'].sum()"
   ]
  },
  {
   "cell_type": "code",
   "execution_count": null,
   "id": "580efca3",
   "metadata": {},
   "outputs": [],
   "source": [
    "# stratification test"
   ]
  },
  {
   "cell_type": "code",
   "execution_count": null,
   "id": "7780ee73",
   "metadata": {},
   "outputs": [],
   "source": [
    "train_g1['date'] = pd.to_datetime(train_g1['date'])\n",
    "train_g1['year'] = train_g1['date'].dt.year\n",
    "\n",
    "spl = train_g1[['year', 'wnvpresent']]"
   ]
  },
  {
   "cell_type": "code",
   "execution_count": null,
   "id": "217eec13",
   "metadata": {},
   "outputs": [],
   "source": [
    "X = train_g1\n",
    "y = train_g1['wnvpresent']\n",
    "    \n",
    "X_train, X_test, y_train, y_test = train_test_split(\n",
    "        X,\n",
    "        y,\n",
    "        stratify=spl,\n",
    "        random_state=42\n",
    "    )"
   ]
  },
  {
   "cell_type": "code",
   "execution_count": null,
   "id": "c26a6868",
   "metadata": {},
   "outputs": [],
   "source": [
    "X_train.groupby(['year', 'wnvpresent'])['wnvpresent'].count()"
   ]
  },
  {
   "cell_type": "code",
   "execution_count": null,
   "id": "5339dd7f",
   "metadata": {},
   "outputs": [],
   "source": [
    "train_g1.groupby(['year', 'wnvpresent'])['wnvpresent'].count()"
   ]
  },
  {
   "cell_type": "code",
   "execution_count": null,
   "id": "8a5ee193",
   "metadata": {},
   "outputs": [],
   "source": []
  },
  {
   "cell_type": "code",
   "execution_count": null,
   "id": "e93eb4ed",
   "metadata": {},
   "outputs": [],
   "source": []
  },
  {
   "cell_type": "code",
   "execution_count": null,
   "id": "d11dde6d",
   "metadata": {},
   "outputs": [],
   "source": []
  },
  {
   "cell_type": "code",
   "execution_count": null,
   "id": "381fb047",
   "metadata": {},
   "outputs": [],
   "source": [
    "    temp_df = df[['wnvpresent', 'date']].cop()\n",
    "    temp_df['date'] = pd.to_datetime(temp_df['date'])\n",
    "    temp_df['year'] = temp_df['date'].dt.year\n",
    "    strat = temp_df[['wnvpresent', 'year']]\n",
    "    "
   ]
  },
  {
   "cell_type": "code",
   "execution_count": null,
   "id": "3ddecb31",
   "metadata": {},
   "outputs": [],
   "source": [
    "train_df['date'] = pd.to_datetime(train_df['date'])\n",
    "train_df['year'] = train_df['date'].dt.year\n",
    "\n",
    "spl = train_g1[['year', 'wnvpresent']]"
   ]
  },
  {
   "cell_type": "code",
   "execution_count": null,
   "id": "d44f87cd",
   "metadata": {},
   "outputs": [],
   "source": [
    "    df.drop(columns=['id'], axis=1, inplace=True)\n",
    "    df = df.dropna()\n",
    "    \n",
    "    X = df.drop(columns=['wnvpresent', 'date'], axis=1)\n",
    "    y = df['wnvpresent']\n",
    "    \n",
    "    X_train, X_test, y_train, y_test = train_test_split(\n",
    "        X,\n",
    "        y,\n",
    "        stratify=spl,\n",
    "        random_state=42\n",
    "    )"
   ]
  },
  {
   "cell_type": "code",
   "execution_count": null,
   "id": "d775c64a",
   "metadata": {},
   "outputs": [],
   "source": []
  }
 ],
 "metadata": {
  "kernelspec": {
   "display_name": "Python 3 (ipykernel)",
   "language": "python",
   "name": "python3"
  },
  "language_info": {
   "codemirror_mode": {
    "name": "ipython",
    "version": 3
   },
   "file_extension": ".py",
   "mimetype": "text/x-python",
   "name": "python",
   "nbconvert_exporter": "python",
   "pygments_lexer": "ipython3",
   "version": "3.8.12"
  }
 },
 "nbformat": 4,
 "nbformat_minor": 5
}
